{
 "cells": [
  {
   "cell_type": "code",
   "execution_count": 1,
   "metadata": {},
   "outputs": [],
   "source": [
    "import pandas as pd\n",
    "import random\n",
    "import numpy as np\n",
    "import matplotlib.pyplot as plt\n",
    "\n",
    "import seaborn as sns\n",
    "import scipy.stats as stats"
   ]
  },
  {
   "cell_type": "markdown",
   "metadata": {},
   "source": [
    "## # example 1 : 다른분포 - 평균은 같은"
   ]
  },
  {
   "cell_type": "markdown",
   "metadata": {},
   "source": [
    "### ## simulation"
   ]
  },
  {
   "cell_type": "code",
   "execution_count": 48,
   "metadata": {},
   "outputs": [],
   "source": [
    "lambda_ = 1/10\n",
    "sss = np.random.exponential(scale = 1/lambda_, size = 1000)"
   ]
  },
  {
   "cell_type": "code",
   "execution_count": 49,
   "metadata": {},
   "outputs": [
    {
     "data": {
      "text/plain": [
       "10.208575138569914"
      ]
     },
     "execution_count": 49,
     "metadata": {},
     "output_type": "execute_result"
    }
   ],
   "source": [
    "sss.mean() # 10에 비슷하다!"
   ]
  },
  {
   "cell_type": "code",
   "execution_count": 50,
   "metadata": {},
   "outputs": [],
   "source": [
    "### 모수 정해주기 - 평균 같게\n",
    "mu1, sigma1 = 10, 2\n",
    "lambda_ = 1/10"
   ]
  },
  {
   "cell_type": "code",
   "execution_count": 51,
   "metadata": {},
   "outputs": [],
   "source": [
    "s1 = np.random.normal(mu1, sigma1, 50000)\n",
    "s2 = np.random.exponential(scale = 1/lambda_, size = 8000)"
   ]
  },
  {
   "cell_type": "code",
   "execution_count": 52,
   "metadata": {},
   "outputs": [
    {
     "data": {
      "image/png": "[encoded data removed]",
      "text/plain": [
       "<Figure size 576x432 with 1 Axes>"
      ]
     },
     "metadata": {
      "needs_background": "light"
     },
     "output_type": "display_data"
    }
   ],
   "source": [
    "plt.figure(figsize = (8,6))\n",
    "plt.hist(s1, bins=100)\n",
    "plt.hist(s2, bins=100)\n",
    "\n",
    "plt.show()\n",
    "plt.close()"
   ]
  },
  {
   "cell_type": "code",
   "execution_count": 53,
   "metadata": {},
   "outputs": [],
   "source": [
    "s1_sample = []\n",
    "s2_sample = []\n",
    "for i in range(10000):\n",
    "    s1_sample.append( np.random.choice(s1, 1000) )\n",
    "    s2_sample.append( np.random.choice(s2, 1000) )"
   ]
  },
  {
   "cell_type": "code",
   "execution_count": 54,
   "metadata": {},
   "outputs": [
    {
     "data": {
      "text/plain": [
       "10000"
      ]
     },
     "execution_count": 54,
     "metadata": {},
     "output_type": "execute_result"
    }
   ],
   "source": [
    "len(s1_sample)"
   ]
  },
  {
   "cell_type": "code",
   "execution_count": 55,
   "metadata": {},
   "outputs": [],
   "source": [
    "pp = 0\n",
    "for i in range(len(s1_sample)):\n",
    "    # equal variance test\n",
    "    #var_test = stats.levene(sub_a_notgc[i], sub_b_notgc[i]) # 동분산이라고 가정하고\n",
    "    \n",
    "    test_result = stats.ttest_ind(s1_sample[i], s2_sample[i], equal_var=True)\n",
    "    if test_result[1] < 0.1 :  # 유의수준 0.1 (0.1 미만이면 기각)\n",
    "        pp += 1"
   ]
  },
  {
   "cell_type": "code",
   "execution_count": 56,
   "metadata": {
    "scrolled": true
   },
   "outputs": [
    {
     "data": {
      "text/plain": [
       "0.907"
      ]
     },
     "execution_count": 56,
     "metadata": {},
     "output_type": "execute_result"
    }
   ],
   "source": [
    "# p-value \n",
    "1-pp/len(s1_sample) # 0 : 귀무가설 기각"
   ]
  },
  {
   "cell_type": "code",
   "execution_count": 57,
   "metadata": {},
   "outputs": [],
   "source": [
    "## 사후분석\n",
    "result = pd.DataFrame({'normal': np.array(s1_sample).mean(axis=1), 'exp' : np.array(s2_sample).mean(axis=1)})"
   ]
  },
  {
   "cell_type": "code",
   "execution_count": 58,
   "metadata": {},
   "outputs": [
    {
     "data": {
      "text/html": [
       "<div>\n",
       "<style scoped>\n",
       "    .dataframe tbody tr th:only-of-type {\n",
       "        vertical-align: middle;\n",
       "    }\n",
       "\n",
       "    .dataframe tbody tr th {\n",
       "        vertical-align: top;\n",
       "    }\n",
       "\n",
       "    .dataframe thead th {\n",
       "        text-align: right;\n",
       "    }\n",
       "</style>\n",
       "<table border=\"1\" class=\"dataframe\">\n",
       "  <thead>\n",
       "    <tr style=\"text-align: right;\">\n",
       "      <th></th>\n",
       "      <th>normal</th>\n",
       "      <th>exp</th>\n",
       "    </tr>\n",
       "  </thead>\n",
       "  <tbody>\n",
       "    <tr>\n",
       "      <th>0</th>\n",
       "      <td>10.102152</td>\n",
       "      <td>10.259033</td>\n",
       "    </tr>\n",
       "    <tr>\n",
       "      <th>1</th>\n",
       "      <td>10.022823</td>\n",
       "      <td>10.404084</td>\n",
       "    </tr>\n",
       "    <tr>\n",
       "      <th>2</th>\n",
       "      <td>10.006367</td>\n",
       "      <td>10.520499</td>\n",
       "    </tr>\n",
       "    <tr>\n",
       "      <th>3</th>\n",
       "      <td>10.083436</td>\n",
       "      <td>9.860945</td>\n",
       "    </tr>\n",
       "    <tr>\n",
       "      <th>4</th>\n",
       "      <td>9.960138</td>\n",
       "      <td>10.189700</td>\n",
       "    </tr>\n",
       "    <tr>\n",
       "      <th>5</th>\n",
       "      <td>9.980111</td>\n",
       "      <td>10.306229</td>\n",
       "    </tr>\n",
       "    <tr>\n",
       "      <th>6</th>\n",
       "      <td>9.963186</td>\n",
       "      <td>9.868786</td>\n",
       "    </tr>\n",
       "    <tr>\n",
       "      <th>7</th>\n",
       "      <td>9.964041</td>\n",
       "      <td>9.555263</td>\n",
       "    </tr>\n",
       "    <tr>\n",
       "      <th>8</th>\n",
       "      <td>10.065582</td>\n",
       "      <td>9.827888</td>\n",
       "    </tr>\n",
       "    <tr>\n",
       "      <th>9</th>\n",
       "      <td>9.989868</td>\n",
       "      <td>9.850562</td>\n",
       "    </tr>\n",
       "    <tr>\n",
       "      <th>10</th>\n",
       "      <td>9.934357</td>\n",
       "      <td>9.980537</td>\n",
       "    </tr>\n",
       "    <tr>\n",
       "      <th>11</th>\n",
       "      <td>9.963317</td>\n",
       "      <td>9.809955</td>\n",
       "    </tr>\n",
       "    <tr>\n",
       "      <th>12</th>\n",
       "      <td>9.956320</td>\n",
       "      <td>10.001666</td>\n",
       "    </tr>\n",
       "    <tr>\n",
       "      <th>13</th>\n",
       "      <td>10.027831</td>\n",
       "      <td>9.632774</td>\n",
       "    </tr>\n",
       "    <tr>\n",
       "      <th>14</th>\n",
       "      <td>9.941943</td>\n",
       "      <td>9.578023</td>\n",
       "    </tr>\n",
       "    <tr>\n",
       "      <th>15</th>\n",
       "      <td>10.004394</td>\n",
       "      <td>10.736720</td>\n",
       "    </tr>\n",
       "    <tr>\n",
       "      <th>16</th>\n",
       "      <td>9.974503</td>\n",
       "      <td>10.228754</td>\n",
       "    </tr>\n",
       "    <tr>\n",
       "      <th>17</th>\n",
       "      <td>9.965136</td>\n",
       "      <td>9.798690</td>\n",
       "    </tr>\n",
       "    <tr>\n",
       "      <th>18</th>\n",
       "      <td>9.968015</td>\n",
       "      <td>10.650881</td>\n",
       "    </tr>\n",
       "    <tr>\n",
       "      <th>19</th>\n",
       "      <td>9.986064</td>\n",
       "      <td>9.745605</td>\n",
       "    </tr>\n",
       "    <tr>\n",
       "      <th>20</th>\n",
       "      <td>9.935890</td>\n",
       "      <td>10.235102</td>\n",
       "    </tr>\n",
       "    <tr>\n",
       "      <th>21</th>\n",
       "      <td>9.911673</td>\n",
       "      <td>9.670582</td>\n",
       "    </tr>\n",
       "    <tr>\n",
       "      <th>22</th>\n",
       "      <td>9.997641</td>\n",
       "      <td>10.067475</td>\n",
       "    </tr>\n",
       "    <tr>\n",
       "      <th>23</th>\n",
       "      <td>9.956311</td>\n",
       "      <td>10.394332</td>\n",
       "    </tr>\n",
       "    <tr>\n",
       "      <th>24</th>\n",
       "      <td>9.963560</td>\n",
       "      <td>10.236838</td>\n",
       "    </tr>\n",
       "    <tr>\n",
       "      <th>25</th>\n",
       "      <td>9.948877</td>\n",
       "      <td>9.551190</td>\n",
       "    </tr>\n",
       "    <tr>\n",
       "      <th>26</th>\n",
       "      <td>10.039658</td>\n",
       "      <td>10.383363</td>\n",
       "    </tr>\n",
       "    <tr>\n",
       "      <th>27</th>\n",
       "      <td>10.063752</td>\n",
       "      <td>9.775617</td>\n",
       "    </tr>\n",
       "    <tr>\n",
       "      <th>28</th>\n",
       "      <td>10.072785</td>\n",
       "      <td>10.476010</td>\n",
       "    </tr>\n",
       "    <tr>\n",
       "      <th>29</th>\n",
       "      <td>10.061975</td>\n",
       "      <td>9.831543</td>\n",
       "    </tr>\n",
       "    <tr>\n",
       "      <th>...</th>\n",
       "      <td>...</td>\n",
       "      <td>...</td>\n",
       "    </tr>\n",
       "    <tr>\n",
       "      <th>9970</th>\n",
       "      <td>9.917548</td>\n",
       "      <td>9.659439</td>\n",
       "    </tr>\n",
       "    <tr>\n",
       "      <th>9971</th>\n",
       "      <td>9.956737</td>\n",
       "      <td>9.696798</td>\n",
       "    </tr>\n",
       "    <tr>\n",
       "      <th>9972</th>\n",
       "      <td>9.937624</td>\n",
       "      <td>10.303065</td>\n",
       "    </tr>\n",
       "    <tr>\n",
       "      <th>9973</th>\n",
       "      <td>9.953636</td>\n",
       "      <td>10.120139</td>\n",
       "    </tr>\n",
       "    <tr>\n",
       "      <th>9974</th>\n",
       "      <td>10.085453</td>\n",
       "      <td>9.609426</td>\n",
       "    </tr>\n",
       "    <tr>\n",
       "      <th>9975</th>\n",
       "      <td>9.999847</td>\n",
       "      <td>9.772943</td>\n",
       "    </tr>\n",
       "    <tr>\n",
       "      <th>9976</th>\n",
       "      <td>10.019952</td>\n",
       "      <td>9.510523</td>\n",
       "    </tr>\n",
       "    <tr>\n",
       "      <th>9977</th>\n",
       "      <td>9.927068</td>\n",
       "      <td>10.228643</td>\n",
       "    </tr>\n",
       "    <tr>\n",
       "      <th>9978</th>\n",
       "      <td>9.991470</td>\n",
       "      <td>10.334978</td>\n",
       "    </tr>\n",
       "    <tr>\n",
       "      <th>9979</th>\n",
       "      <td>9.984896</td>\n",
       "      <td>10.156215</td>\n",
       "    </tr>\n",
       "    <tr>\n",
       "      <th>9980</th>\n",
       "      <td>10.057496</td>\n",
       "      <td>9.993012</td>\n",
       "    </tr>\n",
       "    <tr>\n",
       "      <th>9981</th>\n",
       "      <td>10.007965</td>\n",
       "      <td>10.090927</td>\n",
       "    </tr>\n",
       "    <tr>\n",
       "      <th>9982</th>\n",
       "      <td>9.878700</td>\n",
       "      <td>10.066056</td>\n",
       "    </tr>\n",
       "    <tr>\n",
       "      <th>9983</th>\n",
       "      <td>9.931091</td>\n",
       "      <td>10.001291</td>\n",
       "    </tr>\n",
       "    <tr>\n",
       "      <th>9984</th>\n",
       "      <td>10.047021</td>\n",
       "      <td>10.200004</td>\n",
       "    </tr>\n",
       "    <tr>\n",
       "      <th>9985</th>\n",
       "      <td>9.995942</td>\n",
       "      <td>9.781487</td>\n",
       "    </tr>\n",
       "    <tr>\n",
       "      <th>9986</th>\n",
       "      <td>9.967330</td>\n",
       "      <td>10.205558</td>\n",
       "    </tr>\n",
       "    <tr>\n",
       "      <th>9987</th>\n",
       "      <td>10.070639</td>\n",
       "      <td>10.222904</td>\n",
       "    </tr>\n",
       "    <tr>\n",
       "      <th>9988</th>\n",
       "      <td>10.033889</td>\n",
       "      <td>9.827986</td>\n",
       "    </tr>\n",
       "    <tr>\n",
       "      <th>9989</th>\n",
       "      <td>10.130411</td>\n",
       "      <td>9.915886</td>\n",
       "    </tr>\n",
       "    <tr>\n",
       "      <th>9990</th>\n",
       "      <td>10.033232</td>\n",
       "      <td>9.759862</td>\n",
       "    </tr>\n",
       "    <tr>\n",
       "      <th>9991</th>\n",
       "      <td>9.928722</td>\n",
       "      <td>9.900505</td>\n",
       "    </tr>\n",
       "    <tr>\n",
       "      <th>9992</th>\n",
       "      <td>10.054789</td>\n",
       "      <td>9.677905</td>\n",
       "    </tr>\n",
       "    <tr>\n",
       "      <th>9993</th>\n",
       "      <td>10.022822</td>\n",
       "      <td>10.448037</td>\n",
       "    </tr>\n",
       "    <tr>\n",
       "      <th>9994</th>\n",
       "      <td>10.110410</td>\n",
       "      <td>10.002320</td>\n",
       "    </tr>\n",
       "    <tr>\n",
       "      <th>9995</th>\n",
       "      <td>10.002247</td>\n",
       "      <td>10.165967</td>\n",
       "    </tr>\n",
       "    <tr>\n",
       "      <th>9996</th>\n",
       "      <td>10.126461</td>\n",
       "      <td>9.957926</td>\n",
       "    </tr>\n",
       "    <tr>\n",
       "      <th>9997</th>\n",
       "      <td>9.950616</td>\n",
       "      <td>10.044657</td>\n",
       "    </tr>\n",
       "    <tr>\n",
       "      <th>9998</th>\n",
       "      <td>10.009447</td>\n",
       "      <td>9.571036</td>\n",
       "    </tr>\n",
       "    <tr>\n",
       "      <th>9999</th>\n",
       "      <td>10.036747</td>\n",
       "      <td>9.792967</td>\n",
       "    </tr>\n",
       "  </tbody>\n",
       "</table>\n",
       "<p>10000 rows × 2 columns</p>\n",
       "</div>"
      ],
      "text/plain": [
       "         normal        exp\n",
       "0     10.102152  10.259033\n",
       "1     10.022823  10.404084\n",
       "2     10.006367  10.520499\n",
       "3     10.083436   9.860945\n",
       "4      9.960138  10.189700\n",
       "5      9.980111  10.306229\n",
       "6      9.963186   9.868786\n",
       "7      9.964041   9.555263\n",
       "8     10.065582   9.827888\n",
       "9      9.989868   9.850562\n",
       "10     9.934357   9.980537\n",
       "11     9.963317   9.809955\n",
       "12     9.956320  10.001666\n",
       "13    10.027831   9.632774\n",
       "14     9.941943   9.578023\n",
       "15    10.004394  10.736720\n",
       "16     9.974503  10.228754\n",
       "17     9.965136   9.798690\n",
       "18     9.968015  10.650881\n",
       "19     9.986064   9.745605\n",
       "20     9.935890  10.235102\n",
       "21     9.911673   9.670582\n",
       "22     9.997641  10.067475\n",
       "23     9.956311  10.394332\n",
       "24     9.963560  10.236838\n",
       "25     9.948877   9.551190\n",
       "26    10.039658  10.383363\n",
       "27    10.063752   9.775617\n",
       "28    10.072785  10.476010\n",
       "29    10.061975   9.831543\n",
       "...         ...        ...\n",
       "9970   9.917548   9.659439\n",
       "9971   9.956737   9.696798\n",
       "9972   9.937624  10.303065\n",
       "9973   9.953636  10.120139\n",
       "9974  10.085453   9.609426\n",
       "9975   9.999847   9.772943\n",
       "9976  10.019952   9.510523\n",
       "9977   9.927068  10.228643\n",
       "9978   9.991470  10.334978\n",
       "9979   9.984896  10.156215\n",
       "9980  10.057496   9.993012\n",
       "9981  10.007965  10.090927\n",
       "9982   9.878700  10.066056\n",
       "9983   9.931091  10.001291\n",
       "9984  10.047021  10.200004\n",
       "9985   9.995942   9.781487\n",
       "9986   9.967330  10.205558\n",
       "9987  10.070639  10.222904\n",
       "9988  10.033889   9.827986\n",
       "9989  10.130411   9.915886\n",
       "9990  10.033232   9.759862\n",
       "9991   9.928722   9.900505\n",
       "9992  10.054789   9.677905\n",
       "9993  10.022822  10.448037\n",
       "9994  10.110410  10.002320\n",
       "9995  10.002247  10.165967\n",
       "9996  10.126461   9.957926\n",
       "9997   9.950616  10.044657\n",
       "9998  10.009447   9.571036\n",
       "9999  10.036747   9.792967\n",
       "\n",
       "[10000 rows x 2 columns]"
      ]
     },
     "execution_count": 58,
     "metadata": {},
     "output_type": "execute_result"
    }
   ],
   "source": [
    "result"
   ]
  },
  {
   "cell_type": "markdown",
   "metadata": {},
   "source": [
    "---"
   ]
  },
  {
   "cell_type": "markdown",
   "metadata": {},
   "source": [
    "### ## t-test"
   ]
  },
  {
   "cell_type": "markdown",
   "metadata": {},
   "source": [
    "#### **kormogorov 동질성 검정*"
   ]
  },
  {
   "cell_type": "code",
   "execution_count": 59,
   "metadata": {
    "scrolled": false
   },
   "outputs": [
    {
     "data": {
      "text/plain": [
       "Ks_2sampResult(statistic=0.43742, pvalue=0.0)"
      ]
     },
     "execution_count": 59,
     "metadata": {},
     "output_type": "execute_result"
    }
   ],
   "source": [
    "stats.ks_2samp(s1, s2)"
   ]
  },
  {
   "cell_type": "markdown",
   "metadata": {},
   "source": [
    "- (결과) : 정규성 검정(동일 분포 검정) 결과 귀무가설을 기각할 수 없으므로(p-value=0.4545, 유의수준 0.1이라고 해도), 정규성을 만족한다(혹은 동일 분포이다.)."
   ]
  },
  {
   "cell_type": "markdown",
   "metadata": {},
   "source": [
    "### **shapiro-wilk 정규성 검정*"
   ]
  },
  {
   "cell_type": "code",
   "execution_count": 60,
   "metadata": {},
   "outputs": [
    {
     "name": "stderr",
     "output_type": "stream",
     "text": [
      "/anaconda3/lib/python3.6/site-packages/scipy/stats/morestats.py:1309: UserWarning: p-value may not be accurate for N > 5000.\n",
      "  warnings.warn(\"p-value may not be accurate for N > 5000.\")\n"
     ]
    },
    {
     "data": {
      "text/plain": [
       "(0.9999786019325256, 0.9949302673339844)"
      ]
     },
     "execution_count": 60,
     "metadata": {},
     "output_type": "execute_result"
    }
   ],
   "source": [
    "stats.shapiro(s1)  # p-value값 정규성 만족"
   ]
  },
  {
   "cell_type": "code",
   "execution_count": 61,
   "metadata": {},
   "outputs": [
    {
     "name": "stderr",
     "output_type": "stream",
     "text": [
      "/anaconda3/lib/python3.6/site-packages/scipy/stats/morestats.py:1309: UserWarning: p-value may not be accurate for N > 5000.\n",
      "  warnings.warn(\"p-value may not be accurate for N > 5000.\")\n"
     ]
    },
    {
     "data": {
      "text/plain": [
       "(0.8137226104736328, 0.0)"
      ]
     },
     "execution_count": 61,
     "metadata": {},
     "output_type": "execute_result"
    }
   ],
   "source": [
    "stats.shapiro(s2) # p-value값 정규성 불만족"
   ]
  },
  {
   "cell_type": "markdown",
   "metadata": {},
   "source": [
    "---"
   ]
  },
  {
   "cell_type": "markdown",
   "metadata": {},
   "source": [
    "### **등분산 검정*"
   ]
  },
  {
   "cell_type": "markdown",
   "metadata": {},
   "source": [
    "- 등분산 검정은 두 정규 분포로부터 생성된 두개의 데이터 집단으로부터 두 정규 분포의 모수가 같은지 확인하기 위한 검정이다. 가장 기본적인 방법은 F분포를 사용하는 것이지만 실무에서는 이보다 더 성능이 좋은 ***bartlett, finger, levene*** 명령을 제공한다.\n"
   ]
  },
  {
   "cell_type": "markdown",
   "metadata": {},
   "source": [
    "    - scipy.stats.bartlett : http://docs.scipy.org/doc/scipy/reference/generated/scipy.stats.bartlett.html\n",
    "    - scipy.stats.fligner : http://docs.scipy.org/doc/scipy/reference/generated/scipy.stats.fligner.html\n",
    "    - scipy.stats.levene : http://docs.scipy.org/doc/scipy/reference/generated/scipy.stats.levene.html"
   ]
  },
  {
   "cell_type": "markdown",
   "metadata": {},
   "source": [
    "### **등분산 검정*"
   ]
  },
  {
   "cell_type": "code",
   "execution_count": 62,
   "metadata": {},
   "outputs": [
    {
     "data": {
      "text/plain": [
       "BartlettResult(statistic=58965.37879413534, pvalue=0.0)"
      ]
     },
     "execution_count": 62,
     "metadata": {},
     "output_type": "execute_result"
    }
   ],
   "source": [
    "stats.bartlett(s1, s2)"
   ]
  },
  {
   "cell_type": "code",
   "execution_count": 63,
   "metadata": {},
   "outputs": [
    {
     "data": {
      "text/plain": [
       "FlignerResult(statistic=16330.66755970641, pvalue=0.0)"
      ]
     },
     "execution_count": 63,
     "metadata": {},
     "output_type": "execute_result"
    }
   ],
   "source": [
    "stats.fligner(s1, s2)"
   ]
  },
  {
   "cell_type": "code",
   "execution_count": 64,
   "metadata": {},
   "outputs": [
    {
     "data": {
      "text/plain": [
       "LeveneResult(statistic=20170.894267191492, pvalue=0.0)"
      ]
     },
     "execution_count": 64,
     "metadata": {},
     "output_type": "execute_result"
    }
   ],
   "source": [
    "stats.levene(s1, s2)"
   ]
  },
  {
   "cell_type": "markdown",
   "metadata": {},
   "source": [
    "---"
   ]
  },
  {
   "cell_type": "markdown",
   "metadata": {},
   "source": [
    "### **독립 표본 t-검정*\n",
    "\n",
    "- 독립표본 t검정(Independent two sample t-test)은 두 개의 독립적인 정규분포에서 나온 두 개의 데이터 셋을 사용하여 두 정규 분포의 기댓값이 동일한지를 가설검정한다. SciPy stats 서브패키지의 ***ttest_ind***  명령을 사용한다. 독립 표본 t-검정은 두 저규 분포의 분산값이 같은 경우와 같지 않은 경우에 사용하는 검정 통계량이 다르기 때문이 ***equal_var*** 인수를 사용하여 이를 지정해 주어야 한다."
   ]
  },
  {
   "cell_type": "code",
   "execution_count": 65,
   "metadata": {
    "scrolled": true
   },
   "outputs": [
    {
     "data": {
      "text/plain": [
       "Ttest_indResult(statistic=-0.2618025664041616, pvalue=0.7934803158171201)"
      ]
     },
     "execution_count": 65,
     "metadata": {},
     "output_type": "execute_result"
    }
   ],
   "source": [
    "stats.ttest_ind(s1, s2, equal_var=False)"
   ]
  },
  {
   "cell_type": "markdown",
   "metadata": {},
   "source": [
    "---"
   ]
  },
  {
   "cell_type": "markdown",
   "metadata": {},
   "source": [
    "---"
   ]
  },
  {
   "cell_type": "markdown",
   "metadata": {},
   "source": [
    "## # example 1.1  : 다른분포"
   ]
  },
  {
   "cell_type": "markdown",
   "metadata": {},
   "source": [
    "### # 시뮬레이션"
   ]
  },
  {
   "cell_type": "code",
   "execution_count": 16,
   "metadata": {},
   "outputs": [],
   "source": [
    "mu1, sigma1 = 0, 2\n",
    "mu2, sigma2 = 2, 2"
   ]
  },
  {
   "cell_type": "code",
   "execution_count": 17,
   "metadata": {},
   "outputs": [],
   "source": [
    "s1 = np.random.normal(mu1, sigma1, 50000)\n",
    "s2 = np.random.normal(mu2, sigma2, 8000)"
   ]
  },
  {
   "cell_type": "code",
   "execution_count": 18,
   "metadata": {},
   "outputs": [],
   "source": [
    "s1_sample = []\n",
    "s2_sample = []\n",
    "for i in range(10000):\n",
    "    s1_sample.append( np.random.choice(s1, 1000) )\n",
    "    s2_sample.append( np.random.choice(s2, 1000) )"
   ]
  },
  {
   "cell_type": "code",
   "execution_count": 19,
   "metadata": {},
   "outputs": [
    {
     "data": {
      "text/plain": [
       "10000"
      ]
     },
     "execution_count": 19,
     "metadata": {},
     "output_type": "execute_result"
    }
   ],
   "source": [
    "len(s1_sample)"
   ]
  },
  {
   "cell_type": "markdown",
   "metadata": {},
   "source": [
    "---"
   ]
  },
  {
   "cell_type": "code",
   "execution_count": 22,
   "metadata": {},
   "outputs": [],
   "source": [
    "pp = 0\n",
    "t_stat = []\n",
    "\n",
    "for i in range(len(s1_sample)):\n",
    "    # equal variance test\n",
    "    #var_test = stats.levene(sub_a_notgc[i], sub_b_notgc[i]) # 동분산이라고 가정하고\n",
    "    \n",
    "    test_result = stats.ttest_ind(s1_sample[i], s2_sample[i], equal_var=True)\n",
    "    t_stat.append( test_result[0] ) # t-stat 저장\n",
    "    if test_result[1] < 0.1 :  # 유의수준 0.1 (0.1 미만이면 기각)\n",
    "        pp += 1"
   ]
  },
  {
   "cell_type": "code",
   "execution_count": 23,
   "metadata": {},
   "outputs": [
    {
     "data": {
      "text/plain": [
       "0.0"
      ]
     },
     "execution_count": 23,
     "metadata": {},
     "output_type": "execute_result"
    }
   ],
   "source": [
    "# p-value \n",
    "1-pp/len(s1_sample) # 0 : 귀무가설 기각"
   ]
  },
  {
   "cell_type": "code",
   "execution_count": 33,
   "metadata": {},
   "outputs": [
    {
     "data": {
      "text/plain": [
       "-1.9265758982342418"
      ]
     },
     "execution_count": 33,
     "metadata": {},
     "output_type": "execute_result"
    }
   ],
   "source": [
    "s1_sample[0].mean() - s2_sample[0].mean()"
   ]
  },
  {
   "cell_type": "code",
   "execution_count": 35,
   "metadata": {},
   "outputs": [
    {
     "data": {
      "text/plain": [
       "-2.0222128577346186"
      ]
     },
     "execution_count": 35,
     "metadata": {},
     "output_type": "execute_result"
    }
   ],
   "source": [
    "s1_sample[1].mean() - s2_sample[1].mean()"
   ]
  },
  {
   "cell_type": "code",
   "execution_count": 36,
   "metadata": {},
   "outputs": [
    {
     "data": {
      "text/plain": [
       "-2.196960070765089"
      ]
     },
     "execution_count": 36,
     "metadata": {},
     "output_type": "execute_result"
    }
   ],
   "source": [
    "s1_sample[2].mean() - s2_sample[2].mean()"
   ]
  },
  {
   "cell_type": "code",
   "execution_count": 37,
   "metadata": {},
   "outputs": [
    {
     "data": {
      "text/plain": [
       "-2.0256193337661137"
      ]
     },
     "execution_count": 37,
     "metadata": {},
     "output_type": "execute_result"
    }
   ],
   "source": [
    "s1_sample[3].mean() - s2_sample[3].mean()"
   ]
  },
  {
   "cell_type": "code",
   "execution_count": 24,
   "metadata": {},
   "outputs": [],
   "source": [
    "s1 = np.random.normal(0, 1, 10000)"
   ]
  },
  {
   "cell_type": "code",
   "execution_count": 25,
   "metadata": {},
   "outputs": [
    {
     "data": {
      "text/plain": [
       "[-21.71781447269977,\n",
       " -22.66486114633719,\n",
       " -23.944066252067053,\n",
       " -23.051507779845913,\n",
       " -23.81559788834512,\n",
       " -23.2197701078537,\n",
       " -22.313225384880806,\n",
       " -24.029401697669265,\n",
       " -23.507029681996748,\n",
       " -21.938834848355043,\n",
       " -23.465213932421648,\n",
       " -21.37861782413483,\n",
       " -22.721364102882294,\n",
       " -23.24359838050858,\n",
       " -23.26255597291777,\n",
       " -23.773217848802563,\n",
       " -24.548272331839325,\n",
       " -23.606203742700973,\n",
       " -22.680862282163936,\n",
       " -21.931212173863823,\n",
       " -21.94414417542884,\n",
       " -23.601278205554742,\n",
       " -23.112304246323244,\n",
       " -23.029341411299647,\n",
       " -23.488456586310182,\n",
       " -22.513242344411413,\n",
       " -22.476401755173075,\n",
       " -22.71545345642281,\n",
       " -22.259589198829065,\n",
       " -22.150880078683695,\n",
       " -22.060179501549836,\n",
       " -24.13581643486297,\n",
       " -25.96117958655338,\n",
       " -21.680012062638607,\n",
       " -24.11701319277151,\n",
       " -23.523796909204755,\n",
       " -23.750619974604092,\n",
       " -22.230411912546444,\n",
       " -21.55546413131026,\n",
       " -22.607342024455082,\n",
       " -23.22455498677923,\n",
       " -23.700327680414965,\n",
       " -24.046138694236856,\n",
       " -23.794591678027103,\n",
       " -22.02709739149254,\n",
       " -22.94442549754834,\n",
       " -23.32711457225144,\n",
       " -23.33326859580403,\n",
       " -22.720671225482068,\n",
       " -23.697016473148288,\n",
       " -23.290314281128214,\n",
       " -22.43522825606413,\n",
       " -22.024375786079066,\n",
       " -24.864833131810112,\n",
       " -25.32334767334212,\n",
       " -21.822042546602358,\n",
       " -21.62826404529251,\n",
       " -24.71159985379827,\n",
       " -23.766073051981753,\n",
       " -22.04395354197584,\n",
       " -24.695518063724677,\n",
       " -22.606268327109184,\n",
       " -23.543500752817682,\n",
       " -24.21043640866337,\n",
       " -22.949853949471308,\n",
       " -23.022980614042456,\n",
       " -22.383855526841757,\n",
       " -22.18239474796335,\n",
       " -23.710486841756566,\n",
       " -24.200607534707256,\n",
       " -23.718948292541015,\n",
       " -23.118046387626922,\n",
       " -23.282169913237027,\n",
       " -23.587084072903576,\n",
       " -24.178684035635815,\n",
       " -23.125893237910642,\n",
       " -23.47588003066005,\n",
       " -22.571697584781464,\n",
       " -22.201706054892096,\n",
       " -23.692505025270197,\n",
       " -25.27962397233038,\n",
       " -23.993441556111808,\n",
       " -22.365224379753865,\n",
       " -23.226954654111857,\n",
       " -23.073909356015697,\n",
       " -23.173707607668756,\n",
       " -23.56252892319664,\n",
       " -22.40470513481435,\n",
       " -24.100697867225318,\n",
       " -23.78257764809188,\n",
       " -24.408628810550443,\n",
       " -23.989474750763435,\n",
       " -23.481689268640935,\n",
       " -24.645442490554792,\n",
       " -24.65293494417439,\n",
       " -23.8060241646262,\n",
       " -22.996569234135517,\n",
       " -25.175880213111995,\n",
       " -22.990324224518183,\n",
       " -23.17729274204172,\n",
       " -24.979675638187395,\n",
       " -23.613671273268096,\n",
       " -24.38152870714838,\n",
       " -22.095826442079876,\n",
       " -22.75249214779818,\n",
       " -23.69453438180702,\n",
       " -21.80777531194421,\n",
       " -22.490278973391554,\n",
       " -22.262547283697916,\n",
       " -22.967491445347754,\n",
       " -21.957530152795755,\n",
       " -24.126991121845958,\n",
       " -22.50089642619686,\n",
       " -23.191262059209965,\n",
       " -24.511229433855004,\n",
       " -24.5741593113546,\n",
       " -26.24491683541159,\n",
       " -23.08285562384418,\n",
       " -24.75623913447363,\n",
       " -23.20408718571841,\n",
       " -25.012625774512664,\n",
       " -22.512760499446944,\n",
       " -23.15214868863194,\n",
       " -24.541830143511348,\n",
       " -22.45835135023558,\n",
       " -24.278983203188858,\n",
       " -25.621817588619567,\n",
       " -23.59099065071455,\n",
       " -24.376189061509237,\n",
       " -21.304048341157078,\n",
       " -23.024789111083376,\n",
       " -23.236420041661468,\n",
       " -21.577083621304215,\n",
       " -22.93570489871859,\n",
       " -23.686096343480788,\n",
       " -22.63172383099715,\n",
       " -24.825544206915918,\n",
       " -22.718205543827214,\n",
       " -22.871339250255616,\n",
       " -23.22619015869799,\n",
       " -23.911875567659767,\n",
       " -24.624785594650348,\n",
       " -22.789661410599354,\n",
       " -22.388826864347394,\n",
       " -21.409374207860505,\n",
       " -22.78046042317617,\n",
       " -22.991709970907525,\n",
       " -24.0632155721329,\n",
       " -25.030947375036078,\n",
       " -24.21569263322393,\n",
       " -22.75244684145085,\n",
       " -24.388625355544534,\n",
       " -23.235662086451633,\n",
       " -23.554820865631562,\n",
       " -20.9262053833929,\n",
       " -22.856431784136664,\n",
       " -21.78261512729866,\n",
       " -22.605360467724033,\n",
       " -23.729893991178056,\n",
       " -23.87206639306687,\n",
       " -21.924403237046224,\n",
       " -23.88170158564305,\n",
       " -23.004747835593147,\n",
       " -25.464481149228035,\n",
       " -22.049527024297596,\n",
       " -22.55821351928616,\n",
       " -22.835696041363523,\n",
       " -22.513936439477188,\n",
       " -23.459680061397595,\n",
       " -23.1254291754437,\n",
       " -23.250219047696845,\n",
       " -22.438550302813596,\n",
       " -23.016967890110955,\n",
       " -22.615690219104547,\n",
       " -22.605374550204512,\n",
       " -24.36135642597499,\n",
       " -23.963874059280936,\n",
       " -23.811042927436283,\n",
       " -23.38233764183143,\n",
       " -25.64943329247827,\n",
       " -23.033108465697985,\n",
       " -23.210301068194134,\n",
       " -23.733896656514936,\n",
       " -23.573289144488275,\n",
       " -23.096581409663496,\n",
       " -20.888022133336925,\n",
       " -23.418354364698086,\n",
       " -26.143064711190096,\n",
       " -22.41153365633838,\n",
       " -22.261107562690867,\n",
       " -23.86048079947022,\n",
       " -22.234286988268366,\n",
       " -22.483207309903737,\n",
       " -22.6068652269137,\n",
       " -24.94448132847252,\n",
       " -24.268663725730622,\n",
       " -21.998220721028915,\n",
       " -23.353486480246673,\n",
       " -21.718671605669524,\n",
       " -22.390711967344895,\n",
       " -23.808480434696126,\n",
       " -22.35820046314778,\n",
       " -22.52015736599021,\n",
       " -25.013971402289137,\n",
       " -23.69540634187663,\n",
       " -23.06765646393758,\n",
       " -22.68416415861694,\n",
       " -22.2405918081063,\n",
       " -22.483215266626996,\n",
       " -23.940238860800495,\n",
       " -21.540300465266075,\n",
       " -24.07381086751968,\n",
       " -24.640224896435395,\n",
       " -22.44842313783361,\n",
       " -24.42862798122086,\n",
       " -22.66273175596268,\n",
       " -23.118049259020328,\n",
       " -24.717928955312164,\n",
       " -23.861128503943625,\n",
       " -22.147281704585353,\n",
       " -22.552937659274644,\n",
       " -23.377130617715,\n",
       " -23.271721901774757,\n",
       " -23.09934924661922,\n",
       " -22.18976898817491,\n",
       " -22.458993855743387,\n",
       " -24.70522619583887,\n",
       " -22.93572548182387,\n",
       " -24.13794671179729,\n",
       " -22.77191691582625,\n",
       " -23.675054028316698,\n",
       " -23.115882497525952,\n",
       " -23.82309593651094,\n",
       " -24.053685116955972,\n",
       " -23.325547344757428,\n",
       " -22.56844997759156,\n",
       " -23.129295550076908,\n",
       " -22.269444349551094,\n",
       " -22.912543872474224,\n",
       " -23.74123692642814,\n",
       " -22.7108703101981,\n",
       " -23.4614521760498,\n",
       " -23.121535886239084,\n",
       " -24.743916037364418,\n",
       " -23.89160507410207,\n",
       " -22.206574070571644,\n",
       " -23.82965190122351,\n",
       " -23.211837180920693,\n",
       " -21.807419204039835,\n",
       " -23.164438553544226,\n",
       " -23.409403278103166,\n",
       " -21.563932359210618,\n",
       " -22.487913094312745,\n",
       " -23.38012561362843,\n",
       " -23.24456636947844,\n",
       " -23.076340658470983,\n",
       " -24.74910965940921,\n",
       " -22.429308878578652,\n",
       " -21.939751523151024,\n",
       " -23.93755787550672,\n",
       " -23.064208365890522,\n",
       " -21.33344340346241,\n",
       " -22.84682514856508,\n",
       " -23.133407630288577,\n",
       " -25.64311017766385,\n",
       " -25.56392665938986,\n",
       " -22.420477264366102,\n",
       " -25.718486505444858,\n",
       " -22.80308126037228,\n",
       " -22.22952993665255,\n",
       " -21.464238498445376,\n",
       " -23.669014991034782,\n",
       " -22.723318034777748,\n",
       " -21.370510469167126,\n",
       " -24.186213988022427,\n",
       " -23.13107726714135,\n",
       " -23.41838671361925,\n",
       " -24.4954078328167,\n",
       " -22.24803568437499,\n",
       " -24.39148522661365,\n",
       " -21.971117682259724,\n",
       " -24.084803440832452,\n",
       " -22.590589083587933,\n",
       " -24.919068803140174,\n",
       " -24.796558746640986,\n",
       " -23.002822505147037,\n",
       " -23.14383391559856,\n",
       " -23.393441692697643,\n",
       " -22.627372788098096,\n",
       " -23.74909912813909,\n",
       " -22.724538475876418,\n",
       " -24.754196499236485,\n",
       " -23.47767758743248,\n",
       " -23.489488617374572,\n",
       " -23.94940672642653,\n",
       " -23.582061740629527,\n",
       " -20.361521929762446,\n",
       " -23.707796780120344,\n",
       " -23.280598350434346,\n",
       " -22.912157031380666,\n",
       " -23.418271350121568,\n",
       " -22.383332952965088,\n",
       " -22.503125848803744,\n",
       " -23.26250810494816,\n",
       " -23.657024534331896,\n",
       " -25.090709370736782,\n",
       " -22.935515692212373,\n",
       " -24.28281435057822,\n",
       " -22.380799095666113,\n",
       " -23.8966092015922,\n",
       " -23.264959212240136,\n",
       " -24.649273426085603,\n",
       " -24.607642356488338,\n",
       " -22.01824103861745,\n",
       " -23.052280080497983,\n",
       " -23.13549471177346,\n",
       " -22.194935560488066,\n",
       " -22.23221575517641,\n",
       " -21.42448060571619,\n",
       " -21.974783214531254,\n",
       " -22.857772611886016,\n",
       " -22.150179449125798,\n",
       " -22.593201233297986,\n",
       " -22.303217111721636,\n",
       " -21.818548465922813,\n",
       " -21.947159106135597,\n",
       " -24.36093064326095,\n",
       " -22.840910615750627,\n",
       " -24.463070775445082,\n",
       " -19.987228208755436,\n",
       " -22.742111548704486,\n",
       " -22.12269690818993,\n",
       " -21.985232097778262,\n",
       " -24.26819341233943,\n",
       " -22.99513662749833,\n",
       " -23.87236460252525,\n",
       " -23.51397209993245,\n",
       " -23.086473970020116,\n",
       " -23.328199340593454,\n",
       " -21.93293914750163,\n",
       " -23.518481757727326,\n",
       " -23.689134753581616,\n",
       " -23.420964584635104,\n",
       " -22.857149751238587,\n",
       " -23.048341314901215,\n",
       " -22.823100204040713,\n",
       " -24.395223774033273,\n",
       " -22.733965814176315,\n",
       " -22.181376727359876,\n",
       " -21.48548674538633,\n",
       " -22.909918324331777,\n",
       " -23.017292449290046,\n",
       " -23.518445819365574,\n",
       " -23.578498855942584,\n",
       " -23.946804543243527,\n",
       " -21.486639825356683,\n",
       " -21.817073687590383,\n",
       " -23.353028326824948,\n",
       " -24.81097959771721,\n",
       " -22.675893973771483,\n",
       " -25.073233757709446,\n",
       " -24.05953582769237,\n",
       " -22.189643772239368,\n",
       " -22.210999266011527,\n",
       " -22.75924637496453,\n",
       " -24.392724174708672,\n",
       " -23.010625450067874,\n",
       " -21.854642293579868,\n",
       " -23.888980108397565,\n",
       " -22.192519672341977,\n",
       " -21.406280353720682,\n",
       " -21.37865631453246,\n",
       " -23.047485732544878,\n",
       " -22.26784844058216,\n",
       " -25.32658934318759,\n",
       " -23.56353297921129,\n",
       " -21.413796683607707,\n",
       " -23.989340786036966,\n",
       " -24.829859312824137,\n",
       " -22.963542478049717,\n",
       " -23.448766951339092,\n",
       " -24.2234051864856,\n",
       " -23.71546815846245,\n",
       " -22.298672743612304,\n",
       " -22.197933203439593,\n",
       " -24.548184376093808,\n",
       " -23.05741547993014,\n",
       " -23.02751667276962,\n",
       " -23.30599045171005,\n",
       " -22.90023432856448,\n",
       " -22.689004754944715,\n",
       " -22.662328665889742,\n",
       " -22.02703428991461,\n",
       " -23.7082827599942,\n",
       " -20.061360627949387,\n",
       " -24.167719152259934,\n",
       " -23.947198370505514,\n",
       " -21.402074674364258,\n",
       " -22.847364608257607,\n",
       " -22.120419150299135,\n",
       " -24.72180586705204,\n",
       " -24.18628873731227,\n",
       " -23.39217714811892,\n",
       " -24.506017508115104,\n",
       " -22.933046811042093,\n",
       " -20.477144206248102,\n",
       " -24.07378315323682,\n",
       " -21.50904090040275,\n",
       " -24.172377343465737,\n",
       " -22.926936878936687,\n",
       " -23.180474383423462,\n",
       " -23.44750759908048,\n",
       " -21.410853112059378,\n",
       " -24.48207464894685,\n",
       " -23.42865103553175,\n",
       " -22.898692129704962,\n",
       " -23.127851771254857,\n",
       " -23.06676389679942,\n",
       " -22.410003162457183,\n",
       " -24.927772320992254,\n",
       " -23.99184391572788,\n",
       " -25.524992449865504,\n",
       " -23.28096005990567,\n",
       " -22.981121159347264,\n",
       " -24.047566290133265,\n",
       " -24.71489462970153,\n",
       " -23.504138739758297,\n",
       " -22.924012869211747,\n",
       " -23.55840991174336,\n",
       " -22.28167734968202,\n",
       " -22.755451458643847,\n",
       " -23.697656310961307,\n",
       " -23.336100384335616,\n",
       " -22.998131192326188,\n",
       " -22.35427987608222,\n",
       " -24.57344399425997,\n",
       " -24.295230729360572,\n",
       " -23.112453090252615,\n",
       " -23.83498304011286,\n",
       " -23.96803051499285,\n",
       " -23.33773883105708,\n",
       " -23.620260967732808,\n",
       " -22.156381239006272,\n",
       " -25.543839772919018,\n",
       " -22.736644576831036,\n",
       " -22.813617325460765,\n",
       " -23.638748402480772,\n",
       " -23.95689172849962,\n",
       " -21.83910333227903,\n",
       " -21.56910403209985,\n",
       " -25.653193593896212,\n",
       " -23.257568127392265,\n",
       " -24.235654602943356,\n",
       " -22.732301983095248,\n",
       " -24.806430875294343,\n",
       " -23.37476011914677,\n",
       " -23.462354480756765,\n",
       " -23.92978732872305,\n",
       " -24.609026847888522,\n",
       " -23.282726133071964,\n",
       " -21.834495707856032,\n",
       " -24.380702969448954,\n",
       " -23.23064650683885,\n",
       " -24.775195506455162,\n",
       " -23.809824940619478,\n",
       " -22.15145199620485,\n",
       " -24.569417719657995,\n",
       " -23.594879550154673,\n",
       " -23.081686009497208,\n",
       " -22.1078278118598,\n",
       " -22.550214057431596,\n",
       " -22.440255498787966,\n",
       " -23.49720402177115,\n",
       " -22.526250476563852,\n",
       " -23.257030764741923,\n",
       " -21.750346388891433,\n",
       " -20.847542865301953,\n",
       " -24.31116486235831,\n",
       " -24.03124285945062,\n",
       " -20.7696169341329,\n",
       " -25.408920750390333,\n",
       " -23.773593400153985,\n",
       " -22.72194502435411,\n",
       " -22.5257744774254,\n",
       " -24.192871035652036,\n",
       " -23.3776904546679,\n",
       " -21.30699989942072,\n",
       " -21.256180628729595,\n",
       " -25.390466463771016,\n",
       " -24.35171479728848,\n",
       " -23.651907450923506,\n",
       " -22.190313136205198,\n",
       " -24.068030101173616,\n",
       " -25.699767305794627,\n",
       " -24.870211880948876,\n",
       " -24.11204638909056,\n",
       " -23.52686495935597,\n",
       " -23.71322107557341,\n",
       " -23.778524169140155,\n",
       " -25.170916358689034,\n",
       " -21.303290186915763,\n",
       " -22.776174293123137,\n",
       " -23.11472968392784,\n",
       " -22.227667487842016,\n",
       " -23.88345969356747,\n",
       " -23.850203616837923,\n",
       " -23.504266358324863,\n",
       " -22.81314565856301,\n",
       " -22.46825975912278,\n",
       " -23.516783889226076,\n",
       " -23.72582863606969,\n",
       " -20.778942907172297,\n",
       " -20.943062558445277,\n",
       " -21.523758689572063,\n",
       " -22.667539566032744,\n",
       " -22.08612412920853,\n",
       " -23.72383591426094,\n",
       " -23.451936281498824,\n",
       " -23.011643767536437,\n",
       " -23.363491620301218,\n",
       " -22.317516970834077,\n",
       " -21.336788129015247,\n",
       " -23.997124981148396,\n",
       " -23.29988962613847,\n",
       " -22.214738309916996,\n",
       " -23.813113247913318,\n",
       " -22.592510051583716,\n",
       " -23.048232249516907,\n",
       " -22.764011025755714,\n",
       " -22.55457499175223,\n",
       " -21.546759313638834,\n",
       " -22.971414513285634,\n",
       " -24.337008176731242,\n",
       " -22.9204239881968,\n",
       " -21.759750603875602,\n",
       " -22.838980690757353,\n",
       " -23.79055052223048,\n",
       " -23.31699163599214,\n",
       " -23.135942273662028,\n",
       " -24.4727626122201,\n",
       " -23.592991799389907,\n",
       " -22.067136560578273,\n",
       " -22.968455912683773,\n",
       " -22.870783049973152,\n",
       " -24.58936202761248,\n",
       " -20.888524499739788,\n",
       " -22.67142363964985,\n",
       " -23.22728539780673,\n",
       " -24.167159745148265,\n",
       " -23.38695473462314,\n",
       " -23.245210859714675,\n",
       " -24.37491134037446,\n",
       " -22.79759410746107,\n",
       " -22.330653007175385,\n",
       " -23.341328851205766,\n",
       " -24.236507522327724,\n",
       " -21.65608241589108,\n",
       " -22.923799185271676,\n",
       " -22.86958412806356,\n",
       " -25.822730939931,\n",
       " -22.8415827182043,\n",
       " -24.546751976606142,\n",
       " -25.80155539710328,\n",
       " -22.906517137708576,\n",
       " -23.3919412497258,\n",
       " -23.074022400715137,\n",
       " -23.771973496802737,\n",
       " -24.41360677279312,\n",
       " -22.50627732557918,\n",
       " -23.196227652055533,\n",
       " -21.36486760371834,\n",
       " -22.57658488257846,\n",
       " -23.218422908803888,\n",
       " -23.823387579085146,\n",
       " -22.410771238607918,\n",
       " -25.96025781691845,\n",
       " -23.5465125652252,\n",
       " -23.681834667288314,\n",
       " -24.15724024882204,\n",
       " -23.118802432560212,\n",
       " -23.691767004770842,\n",
       " -23.800546807615152,\n",
       " -22.714408172977922,\n",
       " -21.987884683983776,\n",
       " -23.70443991939935,\n",
       " -23.76397464597694,\n",
       " -23.07815805478778,\n",
       " -23.82338088221381,\n",
       " -23.211853723827733,\n",
       " -23.244024546110087,\n",
       " -25.262284143101287,\n",
       " -24.281561415080905,\n",
       " -25.03229372066332,\n",
       " -23.58079302505236,\n",
       " -24.568531405940465,\n",
       " -22.470312039010906,\n",
       " -21.996165019131155,\n",
       " -23.716249876864676,\n",
       " -23.350745780186465,\n",
       " -23.234711198631985,\n",
       " -22.423988077811806,\n",
       " -22.38619169092994,\n",
       " -22.95908458977215,\n",
       " -23.962306746163808,\n",
       " -22.822235528949438,\n",
       " -23.947112194781266,\n",
       " -23.558707257503595,\n",
       " -23.481172723277776,\n",
       " -22.269422659265103,\n",
       " -23.864799382279276,\n",
       " -22.201906150301344,\n",
       " -24.50479724749218,\n",
       " -24.48583885223061,\n",
       " -22.837911805864657,\n",
       " -24.390579240163238,\n",
       " -22.868853658026705,\n",
       " -23.061118512352525,\n",
       " -24.148896814588102,\n",
       " -24.45641158019043,\n",
       " -22.92699727252095,\n",
       " -22.23641208724146,\n",
       " -24.88799826261784,\n",
       " -25.256402046280964,\n",
       " -22.9885692358136,\n",
       " -23.71262929475332,\n",
       " -22.579742719450554,\n",
       " -23.39254423189987,\n",
       " -24.078281911868032,\n",
       " -23.99898943479911,\n",
       " -22.62573755487273,\n",
       " -22.25988411294566,\n",
       " -21.69196878158711,\n",
       " -21.72622148366325,\n",
       " -25.31155934699564,\n",
       " -24.391628724631236,\n",
       " -22.672208278218577,\n",
       " -23.4953672586177,\n",
       " -24.134155202620803,\n",
       " -23.995365269747566,\n",
       " -22.41892269342412,\n",
       " -21.781782136538393,\n",
       " -22.953527585511253,\n",
       " -23.950846244130545,\n",
       " -23.292942181394658,\n",
       " -24.170134177765842,\n",
       " -22.278750088273874,\n",
       " -24.46120084308326,\n",
       " -23.91456576627884,\n",
       " -24.19311562971425,\n",
       " -23.76998771223098,\n",
       " -23.94443111932635,\n",
       " -25.522035723950047,\n",
       " -25.17969787545928,\n",
       " -22.672823390464472,\n",
       " -23.19313888645585,\n",
       " -22.248818611184493,\n",
       " -24.173515275285,\n",
       " -24.16515058481183,\n",
       " -24.345419581875756,\n",
       " -24.67288537517633,\n",
       " -22.403236203507735,\n",
       " -23.981532088971022,\n",
       " -23.169352962431798,\n",
       " -22.9755572078638,\n",
       " -23.96091385413746,\n",
       " -23.533414182861513,\n",
       " -25.382150302372533,\n",
       " -23.098843232792685,\n",
       " -22.770420182124184,\n",
       " -23.239476060083646,\n",
       " -24.363626174321244,\n",
       " -23.273019013596794,\n",
       " -20.669268228610797,\n",
       " -22.045090533352656,\n",
       " -21.812190472710846,\n",
       " -24.694111306823274,\n",
       " -24.107843820685904,\n",
       " -23.971482764063666,\n",
       " -24.393872560647438,\n",
       " -21.888218891249075,\n",
       " -24.46826733671323,\n",
       " -22.982458179513117,\n",
       " -23.70520100348217,\n",
       " -22.70760994196731,\n",
       " -24.224344830280202,\n",
       " -22.68978066779366,\n",
       " -23.862694905384316,\n",
       " -24.59386757307793,\n",
       " -24.329748199556537,\n",
       " -23.135937453808417,\n",
       " -23.277431374269998,\n",
       " -22.142898040437515,\n",
       " -22.412904379484587,\n",
       " -24.5531010397343,\n",
       " -22.859780753820598,\n",
       " -24.465095335160747,\n",
       " -24.02447610741218,\n",
       " -24.152386194707628,\n",
       " -20.404267202596202,\n",
       " -23.839822241610307,\n",
       " -21.501911572066504,\n",
       " -24.672948356513146,\n",
       " -22.6324815844992,\n",
       " -23.80126559690964,\n",
       " -24.40418392009087,\n",
       " -24.30398142569596,\n",
       " -23.995009913337423,\n",
       " -22.834799110434854,\n",
       " -23.113040448550866,\n",
       " -25.077986501368304,\n",
       " -24.35462230642185,\n",
       " -23.159591743904723,\n",
       " -25.03517567310145,\n",
       " -23.82403758451237,\n",
       " -22.679635997415726,\n",
       " -22.971496627873332,\n",
       " -23.81209224089966,\n",
       " -23.6786937530025,\n",
       " -25.32425273747021,\n",
       " -21.86370195206464,\n",
       " -24.61501794301228,\n",
       " -22.88385766994027,\n",
       " -23.117851344488837,\n",
       " -24.35886799933123,\n",
       " -22.206141723172507,\n",
       " -22.997660866430092,\n",
       " -22.47566449651129,\n",
       " -23.245068933110282,\n",
       " -23.22160812876436,\n",
       " -22.324487429861122,\n",
       " -23.815038641395034,\n",
       " -22.922506714172204,\n",
       " -23.494286267561954,\n",
       " -24.34980700773165,\n",
       " -23.311188085568798,\n",
       " -23.545992315652175,\n",
       " -23.910178645985976,\n",
       " -23.557536095153406,\n",
       " -23.5845156670764,\n",
       " -23.90369142672526,\n",
       " -21.24239489874599,\n",
       " -24.297130607434816,\n",
       " -23.709401169132413,\n",
       " -24.4247227951042,\n",
       " -21.982454243744357,\n",
       " -23.55173407439111,\n",
       " -22.878509192291926,\n",
       " -23.59129407294849,\n",
       " -22.422167788424222,\n",
       " -24.29353644656243,\n",
       " -23.032356898611162,\n",
       " -23.288824220867003,\n",
       " -22.761677689313778,\n",
       " -22.146768313918624,\n",
       " -22.07753490486429,\n",
       " -23.25672636621918,\n",
       " -22.47261403111795,\n",
       " -25.068939938963222,\n",
       " -23.73887618913593,\n",
       " -22.327567715380557,\n",
       " -24.604082099024442,\n",
       " -21.141455569146824,\n",
       " -22.191025246486255,\n",
       " -23.93016683491561,\n",
       " -22.750603797222976,\n",
       " -23.640965630423842,\n",
       " -23.138347472734484,\n",
       " -22.98016025656172,\n",
       " -21.21667273927284,\n",
       " -23.596604451619417,\n",
       " -23.58905918665158,\n",
       " -25.9201040462798,\n",
       " -23.404961753957366,\n",
       " -23.779990845868237,\n",
       " -23.40361990039695,\n",
       " -22.77015762783795,\n",
       " -22.726141791559698,\n",
       " -22.428958135047203,\n",
       " -22.927010965899655,\n",
       " -25.01531812669746,\n",
       " -23.03681605868706,\n",
       " -24.050301270438744,\n",
       " -24.895194908154703,\n",
       " -24.6037743353974,\n",
       " -23.850152875488853,\n",
       " -23.522946867554772,\n",
       " -23.60108922625701,\n",
       " -24.516735632807432,\n",
       " -22.1247605187424,\n",
       " -23.17382368836431,\n",
       " -22.03907726471043,\n",
       " -23.797817988352705,\n",
       " -23.12757188206231,\n",
       " -22.597024268239046,\n",
       " -23.872588238578825,\n",
       " -21.148830062424338,\n",
       " -23.214264855483435,\n",
       " -23.456723524387932,\n",
       " -26.20022600841171,\n",
       " -24.023733155571552,\n",
       " -22.536384994714826,\n",
       " -21.765851911822622,\n",
       " -24.064877674483498,\n",
       " -22.118835519246026,\n",
       " -23.156147764333195,\n",
       " -24.545164038704627,\n",
       " -22.92770268987576,\n",
       " -21.33303959224846,\n",
       " -22.56279375879677,\n",
       " -23.50811069798414,\n",
       " -22.529847750621702,\n",
       " -23.384412020104207,\n",
       " -23.46771391600897,\n",
       " -24.771104396065105,\n",
       " -21.35637781783151,\n",
       " -22.87362582549013,\n",
       " -23.396946157738157,\n",
       " -25.79930760536035,\n",
       " -21.66130928391071,\n",
       " -23.630988964524867,\n",
       " -23.13777609933108,\n",
       " -21.663724029449973,\n",
       " -25.36136601133263,\n",
       " -24.040624412283098,\n",
       " -20.924819143172,\n",
       " -23.1405589402286,\n",
       " -23.861756749490194,\n",
       " -23.326866010555044,\n",
       " -24.71333124476305,\n",
       " -24.61394514426484,\n",
       " -23.721293177004746,\n",
       " -22.840416496521254,\n",
       " -23.965319937188465,\n",
       " -22.176799846888645,\n",
       " -23.893186491024725,\n",
       " -23.05448698144719,\n",
       " -22.36071228798676,\n",
       " -21.97455433537333,\n",
       " -23.47492725104933,\n",
       " -23.697506885256672,\n",
       " -22.16545234864289,\n",
       " -22.254884486475117,\n",
       " -23.352679652461607,\n",
       " -23.147397519830346,\n",
       " -22.79301713776764,\n",
       " -24.474033715483156,\n",
       " -21.018308260282282,\n",
       " -21.53827208523727,\n",
       " -23.126502127347283,\n",
       " -24.930745140664126,\n",
       " -23.154960647923684,\n",
       " -23.957332349439778,\n",
       " -23.255182695620103,\n",
       " -22.993653077646364,\n",
       " -23.199886888176025,\n",
       " -25.151438367391428,\n",
       " -21.97246152146833,\n",
       " -23.249400232218388,\n",
       " -21.746478337746538,\n",
       " -22.51532163448483,\n",
       " -22.633381929417304,\n",
       " -22.53144905028539,\n",
       " -22.765324608478313,\n",
       " -23.461058048653154,\n",
       " -22.068557599154875,\n",
       " -22.493539664257888,\n",
       " -23.17315268848127,\n",
       " -24.158897345609496,\n",
       " -22.65220600267829,\n",
       " -24.283563205237023,\n",
       " -23.907576139681055,\n",
       " -24.965889923966177,\n",
       " -25.193464503305755,\n",
       " -22.97672100242714,\n",
       " -24.520276561601097,\n",
       " -22.917812978140223,\n",
       " -23.531515187419714,\n",
       " -22.956396877138463,\n",
       " -24.359993364432203,\n",
       " -22.737722223922994,\n",
       " -22.414302024364652,\n",
       " -25.086575183201184,\n",
       " -25.926868155843017,\n",
       " -23.158270051498576,\n",
       " -21.39079850509273,\n",
       " -23.074677000460472,\n",
       " -21.826078292414007,\n",
       " -23.53242557234153,\n",
       " -21.59568452910265,\n",
       " -21.74182934207747,\n",
       " -22.17448761631031,\n",
       " -26.276648616310773,\n",
       " -24.89617991837724,\n",
       " -23.548943726937186,\n",
       " -23.90515178151432,\n",
       " -22.48245157601012,\n",
       " -24.264333009373125,\n",
       " -20.99862879481799,\n",
       " -22.225202846572138,\n",
       " -21.273867316609245,\n",
       " -21.803639978385256,\n",
       " -22.930052077866637,\n",
       " -23.14397844127627,\n",
       " -24.941064528076886,\n",
       " -22.772560149665342,\n",
       " -22.15088883617459,\n",
       " -22.031933117668856,\n",
       " -23.48031139937745,\n",
       " -20.648497439477723,\n",
       " -22.354929154395723,\n",
       " -24.707342000555293,\n",
       " -24.88942665947332,\n",
       " -23.354715361156337,\n",
       " -23.391578705685998,\n",
       " -22.7056204308836,\n",
       " -23.747060222773158,\n",
       " -23.973812071098244,\n",
       " -23.448662596854597,\n",
       " -24.9224929490907,\n",
       " -21.338941765463428,\n",
       " -21.724728841058358,\n",
       " -22.94605927046143,\n",
       " -23.116793177732692,\n",
       " -22.657732069218532,\n",
       " -23.722579695324672,\n",
       " -24.04767931677448,\n",
       " -23.20169593009441,\n",
       " -22.503663901331024,\n",
       " -23.54028125319986,\n",
       " -24.455955296547817,\n",
       " -22.100525528651154,\n",
       " -24.895942389401256,\n",
       " -22.47854550644292,\n",
       " -21.309759495725814,\n",
       " -22.0532362769045,\n",
       " -22.97319865622255,\n",
       " -22.364943230354715,\n",
       " -24.04673212311559,\n",
       " -22.534349073580263,\n",
       " -24.419759546619733,\n",
       " -22.13731661415763,\n",
       " -21.386912507004848,\n",
       " -22.36505310762551,\n",
       " -24.005512180419995,\n",
       " -22.271518271963416,\n",
       " -22.91006414623792,\n",
       " -26.411796806125103,\n",
       " -20.866595322141514,\n",
       " -21.834247524621897,\n",
       " -23.60287078865412,\n",
       " -24.728112538408517,\n",
       " -22.305941551591292,\n",
       " -22.885133524743377,\n",
       " -22.90624122961159,\n",
       " -24.97127256146979,\n",
       " -22.6363785045013,\n",
       " -23.16236811920234,\n",
       " -22.389892552630027,\n",
       " -21.734060070845917,\n",
       " -25.366823783103023,\n",
       " -23.862274697434202,\n",
       " -23.08209159573125,\n",
       " -24.884955548329852,\n",
       " -23.972425372061362,\n",
       " -22.527233907238166,\n",
       " -22.826548378986946,\n",
       " -23.977277261410794,\n",
       " -24.417368373987838,\n",
       " -24.213702603859293,\n",
       " -24.030955810390555,\n",
       " -24.348136890564465,\n",
       " -23.886261744909028,\n",
       " -25.06847902200296,\n",
       " -23.108267260585855,\n",
       " -23.979957567787,\n",
       " -23.728542565009878,\n",
       " -21.789255422015266,\n",
       " -24.302190136701995,\n",
       " -22.824716832633168,\n",
       " -25.016936263567743,\n",
       " -24.20481405450611,\n",
       " -23.424509144063517,\n",
       " -24.723055810364315,\n",
       " -22.810310798406594,\n",
       " -22.017897620007012,\n",
       " -24.464482778198022,\n",
       " -23.244665825309966,\n",
       " -21.098957755483852,\n",
       " -22.951738302988392,\n",
       " -21.797214941912088,\n",
       " -22.389769209105925,\n",
       " -23.173176972847898,\n",
       " -23.965558245016137,\n",
       " -23.14457277774381,\n",
       " -23.954729783462525,\n",
       " -21.634036697946723,\n",
       " -24.164182582826673,\n",
       " -23.432539699196663,\n",
       " -23.31592182042326,\n",
       " -21.83634593952065,\n",
       " ...]"
      ]
     },
     "execution_count": 25,
     "metadata": {},
     "output_type": "execute_result"
    }
   ],
   "source": [
    "t_stat"
   ]
  },
  {
   "cell_type": "code",
   "execution_count": 14,
   "metadata": {},
   "outputs": [
    {
     "data": {
      "image/png": "[encoded data removed]",
      "text/plain": [
       "<Figure size 576x432 with 1 Axes>"
      ]
     },
     "metadata": {
      "needs_background": "light"
     },
     "output_type": "display_data"
    }
   ],
   "source": [
    "plt.figure(figsize = (8,6))\n",
    "\n",
    "sns.distplot( s1 , bins = 50, color='orange', label = 'z-dist')\n",
    "sns.distplot(t_stat, bins = 50, color = 'blue', label= 'simulation-stat')\n",
    "\n",
    "\n",
    "plt.axvline(x=0, color = 'red')\n",
    "plt.axvline(x=np.array(t_stat).mean(), color = 'skyblue')\n",
    "\n",
    "plt.legend()\n",
    "plt.show()\n",
    "plt.close()"
   ]
  },
  {
   "cell_type": "markdown",
   "metadata": {},
   "source": [
    "----"
   ]
  },
  {
   "cell_type": "markdown",
   "metadata": {},
   "source": [
    "### # t-test"
   ]
  },
  {
   "cell_type": "markdown",
   "metadata": {},
   "source": [
    "#### **kormogorov 동질성 검정*"
   ]
  },
  {
   "cell_type": "code",
   "execution_count": 28,
   "metadata": {
    "scrolled": false
   },
   "outputs": [
    {
     "data": {
      "text/plain": [
       "Ks_2sampResult(statistic=0.39226000000000005, pvalue=0.0)"
      ]
     },
     "execution_count": 28,
     "metadata": {},
     "output_type": "execute_result"
    }
   ],
   "source": [
    "stats.ks_2samp(s1, s2)"
   ]
  },
  {
   "cell_type": "markdown",
   "metadata": {},
   "source": [
    "- (결과) : 정규성 검정(동일 분포 검정) 결과 귀무가설을 기각할 수 없으므로(p-value=0.4545, 유의수준 0.1이라고 해도), 정규성을 만족한다(혹은 동일 분포이다.)."
   ]
  },
  {
   "cell_type": "markdown",
   "metadata": {},
   "source": [
    "### **shapiro-wilk 정규성 검정*"
   ]
  },
  {
   "cell_type": "code",
   "execution_count": 29,
   "metadata": {},
   "outputs": [
    {
     "name": "stderr",
     "output_type": "stream",
     "text": [
      "/anaconda3/lib/python3.6/site-packages/scipy/stats/morestats.py:1309: UserWarning: p-value may not be accurate for N > 5000.\n",
      "  warnings.warn(\"p-value may not be accurate for N > 5000.\")\n"
     ]
    },
    {
     "data": {
      "text/plain": [
       "(0.9999642968177795, 0.8759381175041199)"
      ]
     },
     "execution_count": 29,
     "metadata": {},
     "output_type": "execute_result"
    }
   ],
   "source": [
    "stats.shapiro(s1)  # p-value값 정규성 만족"
   ]
  },
  {
   "cell_type": "code",
   "execution_count": 30,
   "metadata": {},
   "outputs": [
    {
     "name": "stderr",
     "output_type": "stream",
     "text": [
      "/anaconda3/lib/python3.6/site-packages/scipy/stats/morestats.py:1309: UserWarning: p-value may not be accurate for N > 5000.\n",
      "  warnings.warn(\"p-value may not be accurate for N > 5000.\")\n"
     ]
    },
    {
     "data": {
      "text/plain": [
       "(0.9998195767402649, 0.7884788513183594)"
      ]
     },
     "execution_count": 30,
     "metadata": {},
     "output_type": "execute_result"
    }
   ],
   "source": [
    "stats.shapiro(s2) # p-value값 정규성 만족"
   ]
  },
  {
   "cell_type": "markdown",
   "metadata": {},
   "source": [
    "---"
   ]
  },
  {
   "cell_type": "markdown",
   "metadata": {},
   "source": [
    "### **등분산 검정*"
   ]
  },
  {
   "cell_type": "markdown",
   "metadata": {},
   "source": [
    "- 등분산 검정은 두 정규 분포로부터 생성된 두개의 데이터 집단으로부터 두 정규 분포의 모수가 같은지 확인하기 위한 검정이다. 가장 기본적인 방법은 F분포를 사용하는 것이지만 실무에서는 이보다 더 성능이 좋은 ***bartlett, finger, levene*** 명령을 제공한다.\n"
   ]
  },
  {
   "cell_type": "markdown",
   "metadata": {},
   "source": [
    "    - scipy.stats.bartlett : http://docs.scipy.org/doc/scipy/reference/generated/scipy.stats.bartlett.html\n",
    "    - scipy.stats.fligner : http://docs.scipy.org/doc/scipy/reference/generated/scipy.stats.fligner.html\n",
    "    - scipy.stats.levene : http://docs.scipy.org/doc/scipy/reference/generated/scipy.stats.levene.html"
   ]
  },
  {
   "cell_type": "markdown",
   "metadata": {},
   "source": [
    "### **등분산 검정*"
   ]
  },
  {
   "cell_type": "code",
   "execution_count": 31,
   "metadata": {},
   "outputs": [
    {
     "data": {
      "text/plain": [
       "BartlettResult(statistic=0.2727142953620034, pvalue=0.6015167844565823)"
      ]
     },
     "execution_count": 31,
     "metadata": {},
     "output_type": "execute_result"
    }
   ],
   "source": [
    "stats.bartlett(s1, s2)"
   ]
  },
  {
   "cell_type": "code",
   "execution_count": 32,
   "metadata": {},
   "outputs": [
    {
     "data": {
      "text/plain": [
       "FlignerResult(statistic=0.6074911837380655, pvalue=0.4357339905129901)"
      ]
     },
     "execution_count": 32,
     "metadata": {},
     "output_type": "execute_result"
    }
   ],
   "source": [
    "stats.fligner(s1, s2)"
   ]
  },
  {
   "cell_type": "code",
   "execution_count": 33,
   "metadata": {},
   "outputs": [
    {
     "data": {
      "text/plain": [
       "LeveneResult(statistic=0.6067907899696998, pvalue=0.4360018776836586)"
      ]
     },
     "execution_count": 33,
     "metadata": {},
     "output_type": "execute_result"
    }
   ],
   "source": [
    "stats.levene(s1, s2)"
   ]
  },
  {
   "cell_type": "markdown",
   "metadata": {},
   "source": [
    "---"
   ]
  },
  {
   "cell_type": "markdown",
   "metadata": {},
   "source": [
    "### **독립 표본 t-검정*\n",
    "\n",
    "- 독립표본 t검정(Independent two sample t-test)은 두 개의 독립적인 정규분포에서 나온 두 개의 데이터 셋을 사용하여 두 정규 분포의 기댓값이 동일한지를 가설검정한다. SciPy stats 서브패키지의 ***ttest_ind***  명령을 사용한다. 독립 표본 t-검정은 두 저규 분포의 분산값이 같은 경우와 같지 않은 경우에 사용하는 검정 통계량이 다르기 때문이 ***equal_var*** 인수를 사용하여 이를 지정해 주어야 한다."
   ]
  },
  {
   "cell_type": "code",
   "execution_count": 34,
   "metadata": {
    "scrolled": true
   },
   "outputs": [
    {
     "data": {
      "text/plain": [
       "Ttest_indResult(statistic=-83.81719435430843, pvalue=0.0)"
      ]
     },
     "execution_count": 34,
     "metadata": {},
     "output_type": "execute_result"
    }
   ],
   "source": [
    "stats.ttest_ind(s1, s2, equal_var=True)"
   ]
  },
  {
   "cell_type": "markdown",
   "metadata": {},
   "source": [
    "---"
   ]
  },
  {
   "cell_type": "markdown",
   "metadata": {},
   "source": [
    "---"
   ]
  },
  {
   "cell_type": "markdown",
   "metadata": {},
   "source": [
    "## # example 2 : 같은 분포"
   ]
  },
  {
   "cell_type": "markdown",
   "metadata": {},
   "source": [
    "### # simulation"
   ]
  },
  {
   "cell_type": "code",
   "execution_count": 35,
   "metadata": {},
   "outputs": [],
   "source": [
    "mu1, sigma1 = 0, 0.1\n",
    "mu2, sigma2 = 0, 0.1"
   ]
  },
  {
   "cell_type": "code",
   "execution_count": 36,
   "metadata": {},
   "outputs": [],
   "source": [
    "s1 = np.random.normal(mu1, sigma1, 50000)\n",
    "s2 = np.random.normal(mu2, sigma2, 8000)"
   ]
  },
  {
   "cell_type": "code",
   "execution_count": 37,
   "metadata": {},
   "outputs": [],
   "source": [
    "s1_sample = []\n",
    "s2_sample = []\n",
    "for i in range(10000):\n",
    "    s1_sample.append( np.random.choice(s1, 1000) )\n",
    "    s2_sample.append( np.random.choice(s2, 1000) )"
   ]
  },
  {
   "cell_type": "code",
   "execution_count": 38,
   "metadata": {},
   "outputs": [
    {
     "data": {
      "text/plain": [
       "10000"
      ]
     },
     "execution_count": 38,
     "metadata": {},
     "output_type": "execute_result"
    }
   ],
   "source": [
    "len(s1_sample)"
   ]
  },
  {
   "cell_type": "code",
   "execution_count": 39,
   "metadata": {},
   "outputs": [],
   "source": [
    "pp = 0\n",
    "for i in range(len(s1_sample)):\n",
    "    # equal variance test\n",
    "    #var_test = stats.levene(sub_a_notgc[i], sub_b_notgc[i]) # 동분산이라고 가정하고\n",
    "    \n",
    "    test_result = stats.ttest_ind(s1_sample[i], s2_sample[i], equal_var=True)\n",
    "    if test_result[1] < 0.1 :  # 유의수준 0.1 (0.1 미만이면 기각)\n",
    "        pp += 1"
   ]
  },
  {
   "cell_type": "code",
   "execution_count": 40,
   "metadata": {},
   "outputs": [
    {
     "data": {
      "text/plain": [
       "0.8984"
      ]
     },
     "execution_count": 40,
     "metadata": {},
     "output_type": "execute_result"
    }
   ],
   "source": [
    "# p-value \n",
    "1-pp/len(s1_sample) # 0 : 귀무가설 기각"
   ]
  },
  {
   "cell_type": "markdown",
   "metadata": {},
   "source": [
    "---"
   ]
  },
  {
   "cell_type": "markdown",
   "metadata": {},
   "source": [
    "### # t-test"
   ]
  },
  {
   "cell_type": "markdown",
   "metadata": {},
   "source": [
    "#### **kormogorov 동질성 검정*"
   ]
  },
  {
   "cell_type": "code",
   "execution_count": 41,
   "metadata": {
    "scrolled": false
   },
   "outputs": [
    {
     "data": {
      "text/plain": [
       "Ks_2sampResult(statistic=0.00941000000000003, pvalue=0.5726947633965503)"
      ]
     },
     "execution_count": 41,
     "metadata": {},
     "output_type": "execute_result"
    }
   ],
   "source": [
    "stats.ks_2samp(s1, s2)"
   ]
  },
  {
   "cell_type": "markdown",
   "metadata": {},
   "source": [
    "- (결과) : 정규성 검정(동일 분포 검정) 결과 귀무가설을 기각할 수 없으므로(p-value=0.4545, 유의수준 0.1이라고 해도), 정규성을 만족한다(혹은 동일 분포이다.)."
   ]
  },
  {
   "cell_type": "markdown",
   "metadata": {},
   "source": [
    "### **shapiro-wilk 정규성 검정*"
   ]
  },
  {
   "cell_type": "code",
   "execution_count": 42,
   "metadata": {},
   "outputs": [
    {
     "name": "stderr",
     "output_type": "stream",
     "text": [
      "/anaconda3/lib/python3.6/site-packages/scipy/stats/morestats.py:1309: UserWarning: p-value may not be accurate for N > 5000.\n",
      "  warnings.warn(\"p-value may not be accurate for N > 5000.\")\n"
     ]
    },
    {
     "data": {
      "text/plain": [
       "(0.999951958656311, 0.6289547085762024)"
      ]
     },
     "execution_count": 42,
     "metadata": {},
     "output_type": "execute_result"
    }
   ],
   "source": [
    "stats.shapiro(s1)  # p-value값 정규성 만족"
   ]
  },
  {
   "cell_type": "code",
   "execution_count": 43,
   "metadata": {},
   "outputs": [
    {
     "name": "stderr",
     "output_type": "stream",
     "text": [
      "/anaconda3/lib/python3.6/site-packages/scipy/stats/morestats.py:1309: UserWarning: p-value may not be accurate for N > 5000.\n",
      "  warnings.warn(\"p-value may not be accurate for N > 5000.\")\n"
     ]
    },
    {
     "data": {
      "text/plain": [
       "(0.999819815158844, 0.7895084619522095)"
      ]
     },
     "execution_count": 43,
     "metadata": {},
     "output_type": "execute_result"
    }
   ],
   "source": [
    "stats.shapiro(s2) # p-value값 정규성 만족"
   ]
  },
  {
   "cell_type": "markdown",
   "metadata": {},
   "source": [
    "---"
   ]
  },
  {
   "cell_type": "markdown",
   "metadata": {},
   "source": [
    "### **등분산 검정*"
   ]
  },
  {
   "cell_type": "markdown",
   "metadata": {},
   "source": [
    "- 등분산 검정은 두 정규 분포로부터 생성된 두개의 데이터 집단으로부터 두 정규 분포의 모수가 같은지 확인하기 위한 검정이다. 가장 기본적인 방법은 F분포를 사용하는 것이지만 실무에서는 이보다 더 성능이 좋은 ***bartlett, finger, levene*** 명령을 제공한다.\n"
   ]
  },
  {
   "cell_type": "markdown",
   "metadata": {},
   "source": [
    "    - scipy.stats.bartlett : http://docs.scipy.org/doc/scipy/reference/generated/scipy.stats.bartlett.html\n",
    "    - scipy.stats.fligner : http://docs.scipy.org/doc/scipy/reference/generated/scipy.stats.fligner.html\n",
    "    - scipy.stats.levene : http://docs.scipy.org/doc/scipy/reference/generated/scipy.stats.levene.html"
   ]
  },
  {
   "cell_type": "markdown",
   "metadata": {},
   "source": [
    "### **등분산 검정*"
   ]
  },
  {
   "cell_type": "code",
   "execution_count": 44,
   "metadata": {},
   "outputs": [
    {
     "data": {
      "text/plain": [
       "BartlettResult(statistic=0.13690051599393274, pvalue=0.7113819708516997)"
      ]
     },
     "execution_count": 44,
     "metadata": {},
     "output_type": "execute_result"
    }
   ],
   "source": [
    "stats.bartlett(s1, s2)"
   ]
  },
  {
   "cell_type": "code",
   "execution_count": 45,
   "metadata": {},
   "outputs": [
    {
     "data": {
      "text/plain": [
       "FlignerResult(statistic=0.499392002941202, pvalue=0.4797673926877908)"
      ]
     },
     "execution_count": 45,
     "metadata": {},
     "output_type": "execute_result"
    }
   ],
   "source": [
    "stats.fligner(s1, s2)"
   ]
  },
  {
   "cell_type": "code",
   "execution_count": 46,
   "metadata": {},
   "outputs": [
    {
     "data": {
      "text/plain": [
       "LeveneResult(statistic=0.4918945040129672, pvalue=0.483086238632078)"
      ]
     },
     "execution_count": 46,
     "metadata": {},
     "output_type": "execute_result"
    }
   ],
   "source": [
    "stats.levene(s1, s2)"
   ]
  },
  {
   "cell_type": "markdown",
   "metadata": {},
   "source": [
    "---"
   ]
  },
  {
   "cell_type": "markdown",
   "metadata": {},
   "source": [
    "### **독립 표본 t-검정*\n",
    "\n",
    "- 독립표본 t검정(Independent two sample t-test)은 두 개의 독립적인 정규분포에서 나온 두 개의 데이터 셋을 사용하여 두 정규 분포의 기댓값이 동일한지를 가설검정한다. SciPy stats 서브패키지의 ***ttest_ind***  명령을 사용한다. 독립 표본 t-검정은 두 저규 분포의 분산값이 같은 경우와 같지 않은 경우에 사용하는 검정 통계량이 다르기 때문이 ***equal_var*** 인수를 사용하여 이를 지정해 주어야 한다."
   ]
  },
  {
   "cell_type": "code",
   "execution_count": 47,
   "metadata": {
    "scrolled": true
   },
   "outputs": [
    {
     "data": {
      "text/plain": [
       "Ttest_indResult(statistic=0.6068783125174582, pvalue=0.5439445463893864)"
      ]
     },
     "execution_count": 47,
     "metadata": {},
     "output_type": "execute_result"
    }
   ],
   "source": [
    "stats.ttest_ind(s1, s2, equal_var=False)"
   ]
  },
  {
   "cell_type": "markdown",
   "metadata": {},
   "source": [
    "---"
   ]
  },
  {
   "cell_type": "code",
   "execution_count": null,
   "metadata": {},
   "outputs": [],
   "source": []
  }
 ],
 "metadata": {
  "kernelspec": {
   "display_name": "Python 3",
   "language": "python",
   "name": "python3"
  },
  "language_info": {
   "codemirror_mode": {
    "name": "ipython",
    "version": 3
   },
   "file_extension": ".py",
   "mimetype": "text/x-python",
   "name": "python",
   "nbconvert_exporter": "python",
   "pygments_lexer": "ipython3",
   "version": "3.6.5"
  }
 },
 "nbformat": 4,
 "nbformat_minor": 2
}

{
 "cells": [
  {
   "cell_type": "markdown",
   "metadata": {},
   "source": [
    "## 6월 25일, 몬테카를로 시뮬레이션"
   ]
  },
  {
   "cell_type": "code",
   "execution_count": 1,
   "metadata": {},
   "outputs": [],
   "source": [
    "import pandas as pd\n",
    "import random\n",
    "import numpy as np\n",
    "import matplotlib.pyplot as plt\n",
    "\n",
    "import seaborn as sns\n",
    "import scipy.stats as stats"
   ]
  },
  {
   "cell_type": "code",
   "execution_count": 2,
   "metadata": {},
   "outputs": [],
   "source": [
    "import glob"
   ]
  },
  {
   "cell_type": "code",
   "execution_count": 3,
   "metadata": {},
   "outputs": [
    {
     "data": {
      "text/plain": [
       "'0.25.3'"
      ]
     },
     "execution_count": 3,
     "metadata": {},
     "output_type": "execute_result"
    }
   ],
   "source": [
    "pd.__version__"
   ]
  },
  {
   "cell_type": "markdown",
   "metadata": {},
   "source": [
    "---"
   ]
  },
  {
   "cell_type": "markdown",
   "metadata": {},
   "source": [
    "## # 데이터 준비 : 전체 "
   ]
  },
  {
   "cell_type": "code",
   "execution_count": null,
   "metadata": {},
   "outputs": [],
   "source": [
    "# 전체\n",
    "data_order = pd.read_csv('../simulation_data/data_order_0606_simulation.csv')\n",
    "\n",
    "# action_user\n",
    "user_0606 = pd.read_csv('../simulation_data/user_0606_simulation.csv')"
   ]
  },
  {
   "cell_type": "code",
   "execution_count": 43,
   "metadata": {},
   "outputs": [
    {
     "data": {
      "text/plain": [
       "pay_dt               1440\n",
       "fullvisitorID      119813\n",
       "transactionID      161124\n",
       "productSKU          54859\n",
       "lastTestCode            3\n",
       "pay_theme_id         1240\n",
       "searchYn                2\n",
       "search_dt            2226\n",
       "location                3\n",
       "searchTestCode          3\n",
       "search_prod         33534\n",
       "search_theme_id      1189\n",
       "orderYn                 1\n",
       "biz_dt              66775\n",
       "purchase_no        161124\n",
       "order_no           210537\n",
       "prod_no             54859\n",
       "order_price          7009\n",
       "prod_qty              115\n",
       "cmYn                    1\n",
       "cm2                 18959\n",
       "dtype: int64"
      ]
     },
     "execution_count": 43,
     "metadata": {},
     "output_type": "execute_result"
    }
   ],
   "source": [
    "data_order.nunique() # "
   ]
  },
  {
   "cell_type": "markdown",
   "metadata": {},
   "source": [
    "---"
   ]
  },
  {
   "cell_type": "markdown",
   "metadata": {},
   "source": [
    "## 전체(검색+비검색) , 상품권 포함"
   ]
  },
  {
   "cell_type": "markdown",
   "metadata": {},
   "source": [
    "## # simulation (loop)"
   ]
  },
  {
   "cell_type": "code",
   "execution_count": 635,
   "metadata": {},
   "outputs": [
    {
     "data": {
      "text/plain": [
       "(210537, 21)"
      ]
     },
     "execution_count": 635,
     "metadata": {},
     "output_type": "execute_result"
    }
   ],
   "source": [
    "data_order.shape"
   ]
  },
  {
   "cell_type": "code",
   "execution_count": 632,
   "metadata": {
    "scrolled": false
   },
   "outputs": [
    {
     "data": {
      "text/plain": [
       "array(['A', 'C', 'B'], dtype=object)"
      ]
     },
     "execution_count": 632,
     "metadata": {},
     "output_type": "execute_result"
    }
   ],
   "source": [
    "data_order.lastTestCode.unique() # type - lastTestCode 활용"
   ]
  },
  {
   "cell_type": "code",
   "execution_count": 10,
   "metadata": {},
   "outputs": [
    {
     "data": {
      "text/plain": [
       "Index(['Unnamed: 0', 'pay_dt', 'fullvisitorID', 'transactionID', 'productSKU',\n",
       "       'lastTestCode', 'pay_theme_id', 'searchYn', 'search_dt', 'location',\n",
       "       'searchTestCode', 'search_prod', 'search_theme_id', 'orderYn', 'biz_dt',\n",
       "       'purchase_no', 'order_no', 'prod_no', 'order_price', 'prod_qty'],\n",
       "      dtype='object')"
      ]
     },
     "execution_count": 10,
     "metadata": {},
     "output_type": "execute_result"
    }
   ],
   "source": [
    "data_order.columns"
   ]
  },
  {
   "cell_type": "code",
   "execution_count": 633,
   "metadata": {},
   "outputs": [
    {
     "data": {
      "text/html": [
       "<div>\n",
       "<style scoped>\n",
       "    .dataframe tbody tr th:only-of-type {\n",
       "        vertical-align: middle;\n",
       "    }\n",
       "\n",
       "    .dataframe tbody tr th {\n",
       "        vertical-align: top;\n",
       "    }\n",
       "\n",
       "    .dataframe thead th {\n",
       "        text-align: right;\n",
       "    }\n",
       "</style>\n",
       "<table border=\"1\" class=\"dataframe\">\n",
       "  <thead>\n",
       "    <tr style=\"text-align: right;\">\n",
       "      <th></th>\n",
       "      <th>pay_dt</th>\n",
       "      <th>fullvisitorID</th>\n",
       "      <th>transactionID</th>\n",
       "      <th>productSKU</th>\n",
       "      <th>lastTestCode</th>\n",
       "      <th>pay_theme_id</th>\n",
       "      <th>searchYn</th>\n",
       "      <th>search_dt</th>\n",
       "      <th>location</th>\n",
       "      <th>searchTestCode</th>\n",
       "      <th>...</th>\n",
       "      <th>search_theme_id</th>\n",
       "      <th>orderYn</th>\n",
       "      <th>biz_dt</th>\n",
       "      <th>purchase_no</th>\n",
       "      <th>order_no</th>\n",
       "      <th>prod_no</th>\n",
       "      <th>order_price</th>\n",
       "      <th>prod_qty</th>\n",
       "      <th>cmYn</th>\n",
       "      <th>cm2</th>\n",
       "    </tr>\n",
       "  </thead>\n",
       "  <tbody>\n",
       "  </tbody>\n",
       "</table>\n",
       "<p>0 rows × 21 columns</p>\n",
       "</div>"
      ],
      "text/plain": [
       "Empty DataFrame\n",
       "Columns: [pay_dt, fullvisitorID, transactionID, productSKU, lastTestCode, pay_theme_id, searchYn, search_dt, location, searchTestCode, search_prod, search_theme_id, orderYn, biz_dt, purchase_no, order_no, prod_no, order_price, prod_qty, cmYn, cm2]\n",
       "Index: []\n",
       "\n",
       "[0 rows x 21 columns]"
      ]
     },
     "execution_count": 633,
     "metadata": {},
     "output_type": "execute_result"
    }
   ],
   "source": [
    "data_order[data_order.lastTestCode.isnull()]"
   ]
  },
  {
   "cell_type": "code",
   "execution_count": 634,
   "metadata": {},
   "outputs": [
    {
     "data": {
      "text/html": [
       "<div>\n",
       "<style scoped>\n",
       "    .dataframe tbody tr th:only-of-type {\n",
       "        vertical-align: middle;\n",
       "    }\n",
       "\n",
       "    .dataframe tbody tr th {\n",
       "        vertical-align: top;\n",
       "    }\n",
       "\n",
       "    .dataframe thead th {\n",
       "        text-align: right;\n",
       "    }\n",
       "</style>\n",
       "<table border=\"1\" class=\"dataframe\">\n",
       "  <thead>\n",
       "    <tr style=\"text-align: right;\">\n",
       "      <th></th>\n",
       "      <th>pay_dt</th>\n",
       "      <th>fullvisitorID</th>\n",
       "      <th>transactionID</th>\n",
       "      <th>productSKU</th>\n",
       "      <th>lastTestCode</th>\n",
       "      <th>pay_theme_id</th>\n",
       "      <th>searchYn</th>\n",
       "      <th>search_dt</th>\n",
       "      <th>location</th>\n",
       "      <th>searchTestCode</th>\n",
       "      <th>...</th>\n",
       "      <th>search_theme_id</th>\n",
       "      <th>orderYn</th>\n",
       "      <th>biz_dt</th>\n",
       "      <th>purchase_no</th>\n",
       "      <th>order_no</th>\n",
       "      <th>prod_no</th>\n",
       "      <th>order_price</th>\n",
       "      <th>prod_qty</th>\n",
       "      <th>cmYn</th>\n",
       "      <th>cm2</th>\n",
       "    </tr>\n",
       "  </thead>\n",
       "  <tbody>\n",
       "    <tr>\n",
       "      <th>4976</th>\n",
       "      <td>2019-06-06 12:03:00</td>\n",
       "      <td>10237449757507232164</td>\n",
       "      <td>727554206</td>\n",
       "      <td>1223304</td>\n",
       "      <td>A</td>\n",
       "      <td>240030601.0</td>\n",
       "      <td>N</td>\n",
       "      <td>NaN</td>\n",
       "      <td>NaN</td>\n",
       "      <td>NaN</td>\n",
       "      <td>...</td>\n",
       "      <td>NaN</td>\n",
       "      <td>Y</td>\n",
       "      <td>2019-06-06 12:06:49</td>\n",
       "      <td>727554206.0</td>\n",
       "      <td>895613595.0</td>\n",
       "      <td>1223304.0</td>\n",
       "      <td>10900.0</td>\n",
       "      <td>1.0</td>\n",
       "      <td>Y</td>\n",
       "      <td>1421.0</td>\n",
       "    </tr>\n",
       "    <tr>\n",
       "      <th>4977</th>\n",
       "      <td>2019-06-06 18:09:00</td>\n",
       "      <td>11452331670875574201</td>\n",
       "      <td>727615615</td>\n",
       "      <td>1223304</td>\n",
       "      <td>A</td>\n",
       "      <td>240030601.0</td>\n",
       "      <td>N</td>\n",
       "      <td>NaN</td>\n",
       "      <td>NaN</td>\n",
       "      <td>NaN</td>\n",
       "      <td>...</td>\n",
       "      <td>NaN</td>\n",
       "      <td>Y</td>\n",
       "      <td>2019-06-06 18:09:47</td>\n",
       "      <td>727615615.0</td>\n",
       "      <td>895681051.0</td>\n",
       "      <td>1223304.0</td>\n",
       "      <td>25300.0</td>\n",
       "      <td>3.0</td>\n",
       "      <td>Y</td>\n",
       "      <td>3451.0</td>\n",
       "    </tr>\n",
       "  </tbody>\n",
       "</table>\n",
       "<p>2 rows × 21 columns</p>\n",
       "</div>"
      ],
      "text/plain": [
       "                   pay_dt         fullvisitorID  transactionID  productSKU  \\\n",
       "4976  2019-06-06 12:03:00  10237449757507232164      727554206     1223304   \n",
       "4977  2019-06-06 18:09:00  11452331670875574201      727615615     1223304   \n",
       "\n",
       "     lastTestCode  pay_theme_id searchYn search_dt location searchTestCode  \\\n",
       "4976            A   240030601.0        N       NaN      NaN            NaN   \n",
       "4977            A   240030601.0        N       NaN      NaN            NaN   \n",
       "\n",
       "      ...  search_theme_id  orderYn               biz_dt  purchase_no  \\\n",
       "4976  ...              NaN        Y  2019-06-06 12:06:49  727554206.0   \n",
       "4977  ...              NaN        Y  2019-06-06 18:09:47  727615615.0   \n",
       "\n",
       "         order_no    prod_no  order_price  prod_qty  cmYn     cm2  \n",
       "4976  895613595.0  1223304.0      10900.0       1.0     Y  1421.0  \n",
       "4977  895681051.0  1223304.0      25300.0       3.0     Y  3451.0  \n",
       "\n",
       "[2 rows x 21 columns]"
      ]
     },
     "execution_count": 634,
     "metadata": {},
     "output_type": "execute_result"
    }
   ],
   "source": [
    "data_order.head(2)"
   ]
  },
  {
   "cell_type": "code",
   "execution_count": 636,
   "metadata": {},
   "outputs": [
    {
     "data": {
      "text/plain": [
       "array(['Y'], dtype=object)"
      ]
     },
     "execution_count": 636,
     "metadata": {},
     "output_type": "execute_result"
    }
   ],
   "source": [
    "data_order.cmYn.unique()"
   ]
  },
  {
   "cell_type": "markdown",
   "metadata": {},
   "source": [
    "----"
   ]
  },
  {
   "cell_type": "code",
   "execution_count": 637,
   "metadata": {},
   "outputs": [],
   "source": [
    "## data 명시\n",
    "data_input = data_order.copy()\n",
    "action_user = user_0606.copy()\n",
    "#####\n",
    "\n",
    "sub_a_ = []\n",
    "#sub_a = []\n",
    "sub_a_cm_ = [] # 구매 있는것만 채운 cm\n",
    "#sub_a_cm = [] # 0으로 채운 10000개의 cm\n",
    "#sub_a_ratio = []\n",
    "#sub_a_index = []\n",
    "\n",
    "sub_b_ = []\n",
    "#sub_b = []\n",
    "sub_b_cm_ = [] # 구매 있는것만 채운 cm\n",
    "#sub_b_cm = [] # 0으로 채운 10000개의 cm\n",
    "#sub_b_ratio = []\n",
    "#sub_b_index = []\n",
    "\n",
    "sub_c_ = []\n",
    "#sub_c = []\n",
    "sub_c_cm_ = [] # 구매 있는것만 채운 cm\n",
    "#sub_c_cm = [] # 0으로 채운 10000개의 cm\n",
    "#sub_c_ratio = []\n",
    "#sub_c_index = []\n",
    "\n",
    "num_simulations = 10000\n",
    "num_sampling  = 10000\n",
    "\n",
    "for type_ in data_input.lastTestCode.unique():  # 광고 type별로 진행\n",
    "    \n",
    "    if type_ == 'A':\n",
    "        for i in range(num_simulations) :             ### index도 따로 저장해주는게 나을뻔했나?\n",
    "            actionuser_a = action_user[ action_user.testcode == type_].sample(n = num_sampling).fullvisitorid\n",
    "            sample_a = data_input[ data_input.fullvisitorID.isin(actionuser_a) ].copy()\n",
    "            \n",
    "            # 1.price\n",
    "            a_price = sample_a.groupby('fullvisitorID')['order_price'].sum().tolist()\n",
    "            sub_a_.append( a_price )\n",
    "            \n",
    "            #a_price_fin = np.append(np.zeros(10000-len(a_price)), np.array(a_price))\n",
    "            #sub_a.append( a_price_fin ) # user의 order-sum 저장\n",
    "            \n",
    "            # 2.cm\n",
    "            a_cm = sample_a.groupby('fullvisitorID')['cm2'].sum().tolist()\n",
    "            sub_a_cm_.append( a_cm )\n",
    "            \n",
    "            #a_cm_fin = np.append(np.zeros(10000-len(a_cm)), np.array(a_cm))\n",
    "            #sub_a_cm.append( a_cm_fin ) \n",
    "            \n",
    "            #sub_a_ratio.append( sample_a[sample_a.searchYn == 'Y'].shape[0] / sample_a.shape[0] ) # 검색구매 Ratio\n",
    "            #sub_a_index.append( sample_a.index.tolist() )# sample의 index 저장\n",
    "    \n",
    "    if type_ == 'B':\n",
    "        for i in range(num_simulations) : \n",
    "            actionuser_b = action_user[ action_user.testcode == type_].sample(n = num_sampling).fullvisitorid\n",
    "            sample_b = data_input[ data_input.fullvisitorID.isin(actionuser_b) ].copy()\n",
    "            \n",
    "            # 1.price\n",
    "            b_price = sample_b.groupby('fullvisitorID')['order_price'].sum().tolist()\n",
    "            sub_b_.append( b_price )\n",
    "            \n",
    "            #b_price_fin = np.append(np.zeros(10000-len(b_price)), np.array(b_price))\n",
    "            #sub_b.append( b_price_fin ) # user의 order-sum 저장\n",
    "            \n",
    "            # 2.cm\n",
    "            b_cm = sample_b.groupby('fullvisitorID')['cm2'].sum().tolist()\n",
    "            sub_b_cm_.append( b_cm )\n",
    "            \n",
    "            #b_cm_fin = np.append(np.zeros(10000-len(b_cm)), np.array(b_cm))\n",
    "            #sub_b_cm.append( b_cm_fin ) \n",
    "            #sub_b_ratio.append( sample_b[sample_b.searchYn == 'Y'].shape[0] / sample_b.shape[0] ) # 검색구매 Ratio\n",
    "            #sub_b_index.append( sample_b.index.tolist() )# sample의 index 저장\n",
    "            \n",
    "    \n",
    "    if type_ == 'C':\n",
    "        for i in range(num_simulations) : \n",
    "            actionuser_c = action_user[ action_user.testcode == type_].sample(n = num_sampling).fullvisitorid\n",
    "            sample_c = data_input[ data_input.fullvisitorID.isin(actionuser_c) ].copy()\n",
    "            \n",
    "            # 1.price\n",
    "            c_price = sample_c.groupby('fullvisitorID')['order_price'].sum().tolist()\n",
    "            sub_c_.append( c_price )\n",
    "            \n",
    "            #c_price_fin = np.append(np.zeros(10000-len(c_price)), np.array(c_price))\n",
    "            #sub_c.append( c_price_fin ) # user의 order-sum 저장\n",
    "            \n",
    "            # 2.cm\n",
    "            c_cm = sample_c.groupby('fullvisitorID')['cm2'].sum().tolist()\n",
    "            sub_c_cm_.append( c_cm )\n",
    "            \n",
    "            #c_cm_fin = np.append(np.zeros(10000-len(c_cm)), np.array(c_cm))\n",
    "            #sub_c_cm.append( c_cm_fin ) \n",
    "            #sub_c_ratio.append( sample_c[sample_c.searchYn == 'Y'].shape[0] / sample_c.shape[0] ) # 검색구매 Ratio\n",
    "            #sub_c_index.append( sample_c.index.tolist() )# sample의 index 저장\n",
    "\n",
    "       \n",
    "       "
   ]
  },
  {
   "cell_type": "code",
   "execution_count": 638,
   "metadata": {},
   "outputs": [
    {
     "name": "stdout",
     "output_type": "stream",
     "text": [
      "814.4208\n"
     ]
    }
   ],
   "source": [
    "ll = 0\n",
    "for i in range(len(sub_a_)):\n",
    "    ll += len(sub_a_[i])\n",
    "\n",
    "print(ll/len(sub_a_))\n",
    "    "
   ]
  },
  {
   "cell_type": "code",
   "execution_count": 639,
   "metadata": {},
   "outputs": [
    {
     "name": "stdout",
     "output_type": "stream",
     "text": [
      "814.4208\n"
     ]
    }
   ],
   "source": [
    "ll = 0\n",
    "for i in range(len(sub_a_cm_)):\n",
    "    ll += len(sub_a_cm_[i])\n",
    "\n",
    "print(ll/len(sub_a_cm_))\n",
    "    "
   ]
  },
  {
   "cell_type": "code",
   "execution_count": 640,
   "metadata": {},
   "outputs": [
    {
     "data": {
      "text/plain": [
       "895"
      ]
     },
     "execution_count": 640,
     "metadata": {},
     "output_type": "execute_result"
    }
   ],
   "source": [
    "len(b_price)"
   ]
  },
  {
   "cell_type": "code",
   "execution_count": 641,
   "metadata": {},
   "outputs": [
    {
     "name": "stdout",
     "output_type": "stream",
     "text": [
      "835.075\n"
     ]
    }
   ],
   "source": [
    "ll = 0\n",
    "for i in range(len(sub_b_)):\n",
    "    ll += len(sub_b_[i])\n",
    "\n",
    "print(ll/len(sub_b_))"
   ]
  },
  {
   "cell_type": "code",
   "execution_count": 642,
   "metadata": {},
   "outputs": [
    {
     "data": {
      "text/plain": [
       "849"
      ]
     },
     "execution_count": 642,
     "metadata": {},
     "output_type": "execute_result"
    }
   ],
   "source": [
    "len(c_price)"
   ]
  },
  {
   "cell_type": "code",
   "execution_count": 643,
   "metadata": {},
   "outputs": [
    {
     "name": "stdout",
     "output_type": "stream",
     "text": [
      "841.9028\n"
     ]
    }
   ],
   "source": [
    "ll = 0\n",
    "for i in range(len(sub_c_)):\n",
    "    ll += len(sub_c_[i])\n",
    "\n",
    "print(ll/len(sub_c_))"
   ]
  },
  {
   "cell_type": "markdown",
   "metadata": {},
   "source": [
    "---"
   ]
  },
  {
   "cell_type": "markdown",
   "metadata": {},
   "source": [
    "# 3.1.1 전체 관점 - A / B"
   ]
  },
  {
   "cell_type": "markdown",
   "metadata": {},
   "source": [
    "### # 3.1.1-(1) conversion"
   ]
  },
  {
   "cell_type": "code",
   "execution_count": 644,
   "metadata": {},
   "outputs": [],
   "source": [
    "ss = 0\n",
    "t_stat = []\n",
    "\n",
    "for i in range(len(sub_a_)):\n",
    "    # equal variance test\n",
    "    #var_test = stats.levene(sub_a_notgc[i], sub_b_notgc[i]) # 등분산이라고 가정하고\n",
    "    \n",
    "    t1 = np.append(np.zeros(10000-len(sub_a_[i])), np.array( sub_a_[i] ))\n",
    "    t2 = np.append(np.zeros(10000-len(sub_b_[i])), np.array( sub_b_[i] ))\n",
    "    \n",
    "    test_result = stats.ttest_ind( t1, t2, equal_var=True)\n",
    "    t_stat.append(test_result[0])\n",
    "    if test_result[1] < 0.1 : \n",
    "        ss += 1"
   ]
  },
  {
   "cell_type": "code",
   "execution_count": 645,
   "metadata": {},
   "outputs": [
    {
     "data": {
      "text/plain": [
       "0.915"
      ]
     },
     "execution_count": 645,
     "metadata": {},
     "output_type": "execute_result"
    }
   ],
   "source": [
    "1-ss/10000"
   ]
  },
  {
   "cell_type": "markdown",
   "metadata": {},
   "source": [
    "- 우리가 얻은 통계량과, 표준정규분포와 비교(t분포지만, sample size 크기때문에 수렴!)"
   ]
  },
  {
   "cell_type": "code",
   "execution_count": 646,
   "metadata": {},
   "outputs": [],
   "source": [
    "s1 = np.random.normal(0, 1, 10000)"
   ]
  },
  {
   "cell_type": "code",
   "execution_count": 647,
   "metadata": {
    "scrolled": false
   },
   "outputs": [
    {
     "data": {
      "image/png": "[encoded data removed]",
      "text/plain": [
       "<Figure size 576x432 with 1 Axes>"
      ]
     },
     "metadata": {
      "needs_background": "light"
     },
     "output_type": "display_data"
    }
   ],
   "source": [
    "plt.figure(figsize = (8,6))\n",
    "\n",
    "sns.distplot( s1 , bins = 50, color='orange', label = 'z-dist')\n",
    "sns.distplot(t_stat, bins = 50, color = 'blue', label= 'simulation-stat')\n",
    "\n",
    "\n",
    "plt.axvline(x=0, color = 'red')\n",
    "plt.axvline(x=np.array(t_stat).mean(), color = 'skyblue')\n",
    "\n",
    "plt.legend()\n",
    "plt.show()\n",
    "plt.close()"
   ]
  },
  {
   "cell_type": "code",
   "execution_count": 648,
   "metadata": {},
   "outputs": [
    {
     "data": {
      "text/plain": [
       "0.4891"
      ]
     },
     "execution_count": 648,
     "metadata": {},
     "output_type": "execute_result"
    }
   ],
   "source": [
    "# A가 더 큰 통계량 개수 - 4892개(10000개 중)\n",
    "sum(np.array(t_stat)>0)/10000"
   ]
  },
  {
   "cell_type": "markdown",
   "metadata": {},
   "source": [
    "---"
   ]
  },
  {
   "cell_type": "markdown",
   "metadata": {},
   "source": [
    "---"
   ]
  },
  {
   "cell_type": "markdown",
   "metadata": {},
   "source": [
    "### # 3.1.1-(2)  ARPPU : Purchase customer's average "
   ]
  },
  {
   "cell_type": "code",
   "execution_count": 654,
   "metadata": {},
   "outputs": [],
   "source": [
    "ss = 0\n",
    "t_stat = []\n",
    "\n",
    "for i in range(len(sub_a_)):\n",
    "    # equal variance test\n",
    "    #var_test = stats.levene(sub_a_notgc[i], sub_b_notgc[i]) # 동분산이라고 가정하고\n",
    "    \n",
    "    test_result = stats.ttest_ind(sub_a_[i], sub_b_[i], equal_var=True)\n",
    "    t_stat.append(test_result[0])\n",
    "    if test_result[1] < 0.1 : \n",
    "        ss += 1"
   ]
  },
  {
   "cell_type": "code",
   "execution_count": 655,
   "metadata": {},
   "outputs": [
    {
     "data": {
      "text/plain": [
       "0.9131"
      ]
     },
     "execution_count": 655,
     "metadata": {},
     "output_type": "execute_result"
    }
   ],
   "source": [
    "1-ss/10000"
   ]
  },
  {
   "cell_type": "markdown",
   "metadata": {},
   "source": [
    "- 우리가 얻은 통계량과, 표준정규분포와 비교(t분포지만, sample size 크기때문에 수렴!)"
   ]
  },
  {
   "cell_type": "code",
   "execution_count": 656,
   "metadata": {},
   "outputs": [],
   "source": [
    "s1 = np.random.normal(0, 1, 10000)"
   ]
  },
  {
   "cell_type": "code",
   "execution_count": 657,
   "metadata": {
    "scrolled": false
   },
   "outputs": [
    {
     "data": {
      "image/png": "[encoded data removed]",
      "text/plain": [
       "<Figure size 576x432 with 1 Axes>"
      ]
     },
     "metadata": {
      "needs_background": "light"
     },
     "output_type": "display_data"
    }
   ],
   "source": [
    "plt.figure(figsize = (8,6))\n",
    "\n",
    "sns.distplot( s1 , bins = 50, color='orange', label = 'z-dist')\n",
    "sns.distplot(t_stat, bins = 50, color = 'blue', label= 'simulation-stat')\n",
    "\n",
    "\n",
    "plt.axvline(x=0, color = 'red')\n",
    "plt.axvline(x=np.array(t_stat).mean(), color = 'skyblue')\n",
    "\n",
    "plt.legend()\n",
    "plt.show()\n",
    "plt.close()"
   ]
  },
  {
   "cell_type": "code",
   "execution_count": 658,
   "metadata": {},
   "outputs": [
    {
     "data": {
      "text/plain": [
       "0.5512"
      ]
     },
     "execution_count": 658,
     "metadata": {},
     "output_type": "execute_result"
    }
   ],
   "source": [
    "# A가 더 큰 통계량 개수 - 5512개(10000개 중)\n",
    "sum(np.array(t_stat)>0)/10000"
   ]
  },
  {
   "cell_type": "markdown",
   "metadata": {},
   "source": [
    "---"
   ]
  },
  {
   "cell_type": "code",
   "execution_count": 659,
   "metadata": {
    "scrolled": false
   },
   "outputs": [
    {
     "name": "stdout",
     "output_type": "stream",
     "text": [
      "0.4891\n",
      "100124.0913\n"
     ]
    }
   ],
   "source": [
    "## 총액 관점\n",
    "diff = []\n",
    "for i in range(len(sub_a_)):\n",
    "    diff.append( np.array(sub_a_[i]).sum() - np.array(sub_b_[i]).sum() )\n",
    "\n",
    "print( sum( np.array(diff) > 0 ) / 10000 ) # 총액 관점에서, #(sum(A) > sum(B)) - 4842개\n",
    "print( np.array(diff).mean() )         # 총액 관점에서, mean(sum(A)-sum(B)) - (-)78304원"
   ]
  },
  {
   "cell_type": "markdown",
   "metadata": {},
   "source": [
    "---"
   ]
  },
  {
   "cell_type": "markdown",
   "metadata": {},
   "source": [
    "### # 3.1.1-(2) ARPPU (CM)"
   ]
  },
  {
   "cell_type": "code",
   "execution_count": 660,
   "metadata": {},
   "outputs": [],
   "source": [
    "ss = 0\n",
    "t_stat = []\n",
    "\n",
    "for i in range(len(sub_a_cm_)):\n",
    "    # equal variance test\n",
    "    #var_test = stats.levene(sub_a_notgc[i], sub_b_notgc[i]) # 동분산이라고 가정하고\n",
    "    \n",
    "    test_result = stats.ttest_ind(sub_a_cm_[i], sub_b_cm_[i], equal_var=True)\n",
    "    t_stat.append(test_result[0])\n",
    "    if test_result[1] < 0.1 : \n",
    "        ss += 1"
   ]
  },
  {
   "cell_type": "code",
   "execution_count": 661,
   "metadata": {},
   "outputs": [
    {
     "data": {
      "text/plain": [
       "0.9087"
      ]
     },
     "execution_count": 661,
     "metadata": {},
     "output_type": "execute_result"
    }
   ],
   "source": [
    "1-ss/10000"
   ]
  },
  {
   "cell_type": "markdown",
   "metadata": {},
   "source": [
    "- 우리가 얻은 통계량과, 표준정규분포와 비교(t분포지만, sample size 크기때문에 수렴!)"
   ]
  },
  {
   "cell_type": "code",
   "execution_count": 662,
   "metadata": {},
   "outputs": [],
   "source": [
    "s1 = np.random.normal(0, 1, 10000)"
   ]
  },
  {
   "cell_type": "code",
   "execution_count": 663,
   "metadata": {
    "scrolled": false
   },
   "outputs": [
    {
     "data": {
      "image/png": "[encoded data removed]",
      "text/plain": [
       "<Figure size 576x432 with 1 Axes>"
      ]
     },
     "metadata": {
      "needs_background": "light"
     },
     "output_type": "display_data"
    }
   ],
   "source": [
    "plt.figure(figsize = (8,6))\n",
    "\n",
    "sns.distplot( s1 , bins = 50, color='orange', label = 'z-dist')\n",
    "sns.distplot(t_stat, bins = 50, color = 'blue', label= 'simulation-stat')\n",
    "\n",
    "\n",
    "plt.axvline(x=0, color = 'red')\n",
    "plt.axvline(x=np.array(t_stat).mean(), color = 'skyblue')\n",
    "\n",
    "plt.legend()\n",
    "plt.show()\n",
    "plt.close()"
   ]
  },
  {
   "cell_type": "code",
   "execution_count": 664,
   "metadata": {},
   "outputs": [
    {
     "data": {
      "text/plain": [
       "0.5648"
      ]
     },
     "execution_count": 664,
     "metadata": {},
     "output_type": "execute_result"
    }
   ],
   "source": [
    "# A가 더 큰 통계량 개수 - 5710개(10000개 중)\n",
    "sum(np.array(t_stat)>0)/10000"
   ]
  },
  {
   "cell_type": "markdown",
   "metadata": {},
   "source": [
    "---"
   ]
  },
  {
   "cell_type": "code",
   "execution_count": 665,
   "metadata": {
    "scrolled": true
   },
   "outputs": [
    {
     "name": "stdout",
     "output_type": "stream",
     "text": [
      "0.5396\n",
      "66895.6056\n"
     ]
    }
   ],
   "source": [
    "## 총액 관점\n",
    "diff = []\n",
    "for i in range(len(sub_a_cm_)):\n",
    "    diff.append( np.array(sub_a_cm_[i]).sum() - np.array(sub_b_cm_[i]).sum() )\n",
    "\n",
    "print( sum( np.array(diff) > 0 ) / 10000 ) # 총액 관점에서, #(sum(A) > sum(B)) - 5483개\n",
    "print( np.array(diff).mean() )         # 총액 관점에서, mean(sum(A)-sum(B)) - 74779원"
   ]
  },
  {
   "cell_type": "markdown",
   "metadata": {},
   "source": [
    "----"
   ]
  },
  {
   "cell_type": "markdown",
   "metadata": {},
   "source": [
    "# 3.1.2 전체 관점 - A / C"
   ]
  },
  {
   "cell_type": "markdown",
   "metadata": {},
   "source": [
    "### # 3.1.2-(1) ARPU : Total user's average GMV"
   ]
  },
  {
   "cell_type": "code",
   "execution_count": 666,
   "metadata": {},
   "outputs": [],
   "source": [
    "ss = 0\n",
    "t_stat = []\n",
    "\n",
    "for i in range(len(sub_a_)):\n",
    "    # equal variance test\n",
    "    #var_test = stats.levene(sub_a_notgc[i], sub_b_notgc[i]) # 동분산이라고 가정하고\n",
    "    \n",
    "    t1 = np.append(np.zeros(10000-len(sub_a_[i])), np.array( sub_a_[i] ))\n",
    "    t2 = np.append(np.zeros(10000-len(sub_c_[i])), np.array( sub_c_[i] ))\n",
    "    \n",
    "    test_result = stats.ttest_ind( t1, t2, equal_var=True)\n",
    "    t_stat.append(test_result[0])\n",
    "    if test_result[1] < 0.1 : \n",
    "        ss += 1"
   ]
  },
  {
   "cell_type": "code",
   "execution_count": 667,
   "metadata": {},
   "outputs": [
    {
     "data": {
      "text/plain": [
       "0.9132"
      ]
     },
     "execution_count": 667,
     "metadata": {},
     "output_type": "execute_result"
    }
   ],
   "source": [
    "1-ss/10000"
   ]
  },
  {
   "cell_type": "markdown",
   "metadata": {},
   "source": [
    "- 우리가 얻은 통계량과, 표준정규분포와 비교(t분포지만, sample size 크기때문에 수렴!)"
   ]
  },
  {
   "cell_type": "code",
   "execution_count": 668,
   "metadata": {},
   "outputs": [],
   "source": [
    "s1 = np.random.normal(0, 1, 10000)"
   ]
  },
  {
   "cell_type": "code",
   "execution_count": 669,
   "metadata": {},
   "outputs": [
    {
     "data": {
      "image/png": "[encoded data removed]",
      "text/plain": [
       "<Figure size 576x432 with 1 Axes>"
      ]
     },
     "metadata": {
      "needs_background": "light"
     },
     "output_type": "display_data"
    }
   ],
   "source": [
    "plt.figure(figsize = (8,6))\n",
    "\n",
    "sns.distplot( s1 , bins=50, color='orange', label = 'z-dist')\n",
    "sns.distplot(t_stat, bins=50, color = 'blue', label= 'simulation-stat')\n",
    "\n",
    "\n",
    "plt.axvline(x=0, color = 'red')\n",
    "plt.axvline(x=np.array(t_stat).mean(), color = 'skyblue')\n",
    "\n",
    "plt.legend()\n",
    "plt.show()\n",
    "plt.close()"
   ]
  },
  {
   "cell_type": "code",
   "execution_count": 670,
   "metadata": {},
   "outputs": [
    {
     "data": {
      "text/plain": [
       "0.5736"
      ]
     },
     "execution_count": 670,
     "metadata": {},
     "output_type": "execute_result"
    }
   ],
   "source": [
    "# A가 더 큰 통계량 개수 - 5800개(10000개 중)\n",
    "sum(np.array(t_stat)>0)/10000"
   ]
  },
  {
   "cell_type": "markdown",
   "metadata": {},
   "source": [
    "---"
   ]
  },
  {
   "cell_type": "markdown",
   "metadata": {},
   "source": [
    "### # 3.1.2-(1) ARPU (CM 관점)"
   ]
  },
  {
   "cell_type": "code",
   "execution_count": 671,
   "metadata": {},
   "outputs": [],
   "source": [
    "ss = 0\n",
    "t_stat = []\n",
    "\n",
    "for i in range(len(sub_a_cm_)):\n",
    "    # equal variance test\n",
    "    #var_test = stats.levene(sub_a_notgc[i], sub_b_notgc[i]) # 동분산이라고 가정하고\n",
    "    \n",
    "    t1 = np.append(np.zeros(10000-len(sub_a_cm_[i])), np.array( sub_a_cm_[i] ))\n",
    "    t2 = np.append(np.zeros(10000-len(sub_c_cm_[i])), np.array( sub_c_cm_[i] ))\n",
    "    \n",
    "    test_result = stats.ttest_ind( t1, t2, equal_var=True)\n",
    "    t_stat.append(test_result[0])\n",
    "    if test_result[1] < 0.1 : \n",
    "        ss += 1"
   ]
  },
  {
   "cell_type": "code",
   "execution_count": 672,
   "metadata": {},
   "outputs": [
    {
     "data": {
      "text/plain": [
       "0.9011"
      ]
     },
     "execution_count": 672,
     "metadata": {},
     "output_type": "execute_result"
    }
   ],
   "source": [
    "1-ss/10000"
   ]
  },
  {
   "cell_type": "markdown",
   "metadata": {},
   "source": [
    "- 우리가 얻은 통계량과, 표준정규분포와 비교(t분포지만, sample size 크기때문에 수렴!)"
   ]
  },
  {
   "cell_type": "code",
   "execution_count": 673,
   "metadata": {},
   "outputs": [],
   "source": [
    "s1 = np.random.normal(0, 1, 10000)"
   ]
  },
  {
   "cell_type": "code",
   "execution_count": 674,
   "metadata": {},
   "outputs": [
    {
     "data": {
      "image/png": "[encoded data removed]",
      "text/plain": [
       "<Figure size 576x432 with 1 Axes>"
      ]
     },
     "metadata": {
      "needs_background": "light"
     },
     "output_type": "display_data"
    }
   ],
   "source": [
    "plt.figure(figsize = (8,6))\n",
    "\n",
    "sns.distplot( s1 , bins = 50, color='orange', label = 'z-dist')\n",
    "sns.distplot(t_stat, bins = 50, color = 'blue', label= 'simulation-stat')\n",
    "\n",
    "\n",
    "plt.axvline(x=0, color = 'red')\n",
    "plt.axvline(x=np.array(t_stat).mean(), color = 'skyblue')\n",
    "\n",
    "plt.legend()\n",
    "plt.show()\n",
    "plt.close()"
   ]
  },
  {
   "cell_type": "code",
   "execution_count": 675,
   "metadata": {},
   "outputs": [
    {
     "data": {
      "text/plain": [
       "0.5654"
      ]
     },
     "execution_count": 675,
     "metadata": {},
     "output_type": "execute_result"
    }
   ],
   "source": [
    "# A가 더 큰 통계량 개수 - 5690개(10000개 중)\n",
    "sum(np.array(t_stat)>0)/10000"
   ]
  },
  {
   "cell_type": "markdown",
   "metadata": {},
   "source": [
    "---"
   ]
  },
  {
   "cell_type": "markdown",
   "metadata": {},
   "source": [
    "### # 3.1.2-(2) ARPPU"
   ]
  },
  {
   "cell_type": "code",
   "execution_count": 676,
   "metadata": {},
   "outputs": [],
   "source": [
    "ss = 0\n",
    "t_stat = []\n",
    "\n",
    "for i in range(len(sub_a_)):\n",
    "    # equal variance test\n",
    "    #var_test = stats.levene(sub_a_notgc[i], sub_b_notgc[i]) # 동분산이라고 가정하고\n",
    "    \n",
    "    test_result = stats.ttest_ind(sub_a_[i], sub_c_[i], equal_var=True)\n",
    "    t_stat.append(test_result[0])\n",
    "    if test_result[1] < 0.1 : \n",
    "        ss += 1"
   ]
  },
  {
   "cell_type": "code",
   "execution_count": 677,
   "metadata": {},
   "outputs": [
    {
     "data": {
      "text/plain": [
       "0.8903"
      ]
     },
     "execution_count": 677,
     "metadata": {},
     "output_type": "execute_result"
    }
   ],
   "source": [
    "1-ss/10000"
   ]
  },
  {
   "cell_type": "code",
   "execution_count": 678,
   "metadata": {},
   "outputs": [
    {
     "data": {
      "text/plain": [
       "0.40426730116994225"
      ]
     },
     "execution_count": 678,
     "metadata": {},
     "output_type": "execute_result"
    }
   ],
   "source": [
    "np.array(t_stat).mean()"
   ]
  },
  {
   "cell_type": "markdown",
   "metadata": {},
   "source": [
    "- 우리가 얻은 통계량과, 표준정규분포와 비교(t분포지만, sample size 크기때문에 수렴!)"
   ]
  },
  {
   "cell_type": "code",
   "execution_count": 679,
   "metadata": {},
   "outputs": [],
   "source": [
    "s1 = np.random.normal(0, 1, 10000)"
   ]
  },
  {
   "cell_type": "code",
   "execution_count": 680,
   "metadata": {
    "scrolled": false
   },
   "outputs": [
    {
     "data": {
      "image/png": "[encoded data removed]",
      "text/plain": [
       "<Figure size 576x432 with 1 Axes>"
      ]
     },
     "metadata": {
      "needs_background": "light"
     },
     "output_type": "display_data"
    }
   ],
   "source": [
    "plt.figure(figsize = (8,6))\n",
    "\n",
    "sns.distplot( s1 , bins=50, color='orange', label = 'z-dist')\n",
    "sns.distplot(t_stat, bins=50, color = 'blue', label= 'simulation-stat')\n",
    "\n",
    "\n",
    "plt.axvline(x=0, color = 'red')\n",
    "plt.axvline(x=np.array(t_stat).mean(), color = 'skyblue')\n",
    "\n",
    "plt.legend()\n",
    "plt.show()\n",
    "plt.close()"
   ]
  },
  {
   "cell_type": "code",
   "execution_count": 681,
   "metadata": {},
   "outputs": [
    {
     "data": {
      "text/plain": [
       "0.6662"
      ]
     },
     "execution_count": 681,
     "metadata": {},
     "output_type": "execute_result"
    }
   ],
   "source": [
    "# A가 더 큰 통계량 개수 - 6663개(10000개 중)\n",
    "sum(np.array(t_stat)>0) / 10000"
   ]
  },
  {
   "cell_type": "markdown",
   "metadata": {},
   "source": [
    "---"
   ]
  },
  {
   "cell_type": "code",
   "execution_count": 682,
   "metadata": {
    "scrolled": false
   },
   "outputs": [
    {
     "name": "stdout",
     "output_type": "stream",
     "text": [
      "0.5736\n",
      "2146387.8909\n"
     ]
    }
   ],
   "source": [
    "## 총액 관점\n",
    "diff = []\n",
    "for i in range(len(sub_a_)):\n",
    "    diff.append( np.array(sub_a_[i]).sum() - np.array(sub_c_[i]).sum() )  # 10000명의 총매출 차이\n",
    "\n",
    "print( sum( np.array(diff) > 0 ) / 10000 ) # 총액 관점에서, #(sum(A) > sum(B)) - 5800\n",
    "print( np.array(diff).mean() )         # 총액 관점에서, mean(sum(A)-sum(B))  - 2,080,458"
   ]
  },
  {
   "cell_type": "markdown",
   "metadata": {},
   "source": [
    "---"
   ]
  },
  {
   "cell_type": "markdown",
   "metadata": {},
   "source": [
    "### # 3.1.1-(2) ARPPU (CM)"
   ]
  },
  {
   "cell_type": "code",
   "execution_count": 683,
   "metadata": {},
   "outputs": [],
   "source": [
    "ss = 0\n",
    "t_stat = []\n",
    "\n",
    "for i in range(len(sub_a_cm_)):\n",
    "    # equal variance test\n",
    "    #var_test = stats.levene(sub_a_notgc[i], sub_b_notgc[i]) # 동분산이라고 가정하고\n",
    "    \n",
    "    test_result = stats.ttest_ind(sub_a_cm_[i], sub_c_cm_[i], equal_var=True)\n",
    "    t_stat.append(test_result[0])\n",
    "    if test_result[1] < 0.1 : \n",
    "        ss += 1"
   ]
  },
  {
   "cell_type": "code",
   "execution_count": 684,
   "metadata": {},
   "outputs": [
    {
     "data": {
      "text/plain": [
       "0.8931"
      ]
     },
     "execution_count": 684,
     "metadata": {},
     "output_type": "execute_result"
    }
   ],
   "source": [
    "1-ss/10000"
   ]
  },
  {
   "cell_type": "markdown",
   "metadata": {},
   "source": [
    "- 우리가 얻은 통계량과, 표준정규분포와 비교(t분포지만, sample size 크기때문에 수렴!)"
   ]
  },
  {
   "cell_type": "code",
   "execution_count": 685,
   "metadata": {},
   "outputs": [],
   "source": [
    "s1 = np.random.normal(0, 1, 10000)"
   ]
  },
  {
   "cell_type": "code",
   "execution_count": 686,
   "metadata": {
    "scrolled": false
   },
   "outputs": [
    {
     "data": {
      "image/png": "[encoded data removed]",
      "text/plain": [
       "<Figure size 576x432 with 1 Axes>"
      ]
     },
     "metadata": {
      "needs_background": "light"
     },
     "output_type": "display_data"
    }
   ],
   "source": [
    "plt.figure(figsize = (8,6))\n",
    "\n",
    "sns.distplot( s1 , bins = 50, color='orange', label = 'z-dist')\n",
    "sns.distplot(t_stat, bins = 50, color = 'blue', label= 'simulation-stat')\n",
    "\n",
    "\n",
    "plt.axvline(x=0, color = 'red')\n",
    "plt.axvline(x=np.array(t_stat).mean(), color = 'skyblue')\n",
    "\n",
    "plt.legend()\n",
    "plt.show()\n",
    "plt.close()"
   ]
  },
  {
   "cell_type": "code",
   "execution_count": 687,
   "metadata": {},
   "outputs": [
    {
     "data": {
      "text/plain": [
       "0.5944"
      ]
     },
     "execution_count": 687,
     "metadata": {},
     "output_type": "execute_result"
    }
   ],
   "source": [
    "# A가 더 큰 통계량 개수 - 6012개(10000개 중)\n",
    "sum(np.array(t_stat)>0)/10000"
   ]
  },
  {
   "cell_type": "markdown",
   "metadata": {},
   "source": [
    "---"
   ]
  },
  {
   "cell_type": "code",
   "execution_count": 688,
   "metadata": {
    "scrolled": true
   },
   "outputs": [
    {
     "name": "stdout",
     "output_type": "stream",
     "text": [
      "0.5654\n",
      "81427.4509\n"
     ]
    }
   ],
   "source": [
    "## 총액 관점\n",
    "diff = []\n",
    "for i in range(len(sub_a_cm_)):\n",
    "    diff.append( np.array(sub_a_cm_[i]).sum() - np.array(sub_c_cm_[i]).sum() )\n",
    "\n",
    "print( sum( np.array(diff) > 0 ) / 10000 ) # 총액 관점에서, #(sum(A) > sum(B)) - 5690\n",
    "print( np.array(diff).mean() )         # 총액 관점에서, mean(sum(A)-sum(B)) - 84,173원"
   ]
  },
  {
   "cell_type": "markdown",
   "metadata": {},
   "source": [
    "---"
   ]
  },
  {
   "cell_type": "code",
   "execution_count": null,
   "metadata": {},
   "outputs": [],
   "source": []
  },
  {
   "cell_type": "code",
   "execution_count": null,
   "metadata": {},
   "outputs": [],
   "source": []
  }
 ],
 "metadata": {
  "kernelspec": {
   "display_name": "Python 3",
   "language": "python",
   "name": "python3"
  },
  "language_info": {
   "codemirror_mode": {
    "name": "ipython",
    "version": 3
   },
   "file_extension": ".py",
   "mimetype": "text/x-python",
   "name": "python",
   "nbconvert_exporter": "python",
   "pygments_lexer": "ipython3",
   "version": "3.6.5"
  }
 },
 "nbformat": 4,
 "nbformat_minor": 2
}

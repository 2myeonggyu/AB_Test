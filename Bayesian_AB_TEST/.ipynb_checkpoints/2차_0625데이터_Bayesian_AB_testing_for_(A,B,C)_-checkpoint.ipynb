{
 "cells": [
  {
   "cell_type": "markdown",
   "metadata": {
    "colab_type": "text",
    "id": "CG1m10b9aekq"
   },
   "source": [
    "# 개요\n",
    "\n",
    "검색에 대해 A: 34, B: 33, C: 33 으로 테스트 실시했던 결과 판정\n",
    "\n",
    "스펙\n",
    "\n",
    "* 안드로이드\n",
    "* 4.42.0 + 4.41.2\n",
    "* 2019년 6월25일 실험\n",
    "\n",
    "\n",
    "## Baeysian Method for AB testing\n",
    "\n",
    "참고문헌\n",
    "\n",
    "* https://cdn2.hubspot.net/hubfs/310840/VWO_SmartStats_technical_whitepaper.pdf\n",
    "* http://www.evanmiller.org/bayesian-ab-testing.html\n",
    "* https://portal.pixelfederation.com/ro/blog/article/22\n",
    "* https://docs.pymc.io/"
   ]
  },
  {
   "cell_type": "code",
   "execution_count": 0,
   "metadata": {
    "colab": {
     "base_uri": "https://localhost:8080/",
     "height": 289
    },
    "colab_type": "code",
    "id": "D0-QrbvLGzlM",
    "outputId": "866dbe94-22b9-4110-a033-470a0145803a"
   },
   "outputs": [
    {
     "name": "stdout",
     "output_type": "stream",
     "text": [
      "Requirement already satisfied: arviz in /usr/local/lib/python3.6/dist-packages (0.4.1)\n",
      "Requirement already satisfied: netcdf4 in /usr/local/lib/python3.6/dist-packages (from arviz) (1.5.1.2)\n",
      "Requirement already satisfied: scipy in /usr/local/lib/python3.6/dist-packages (from arviz) (1.3.0)\n",
      "Requirement already satisfied: pandas in /usr/local/lib/python3.6/dist-packages (from arviz) (0.24.2)\n",
      "Requirement already satisfied: xarray in /usr/local/lib/python3.6/dist-packages (from arviz) (0.11.3)\n",
      "Requirement already satisfied: matplotlib>=3.0 in /usr/local/lib/python3.6/dist-packages (from arviz) (3.0.3)\n",
      "Requirement already satisfied: numpy in /usr/local/lib/python3.6/dist-packages (from arviz) (1.16.4)\n",
      "Requirement already satisfied: cftime in /usr/local/lib/python3.6/dist-packages (from netcdf4->arviz) (1.0.3.4)\n",
      "Requirement already satisfied: python-dateutil>=2.5.0 in /usr/local/lib/python3.6/dist-packages (from pandas->arviz) (2.5.3)\n",
      "Requirement already satisfied: pytz>=2011k in /usr/local/lib/python3.6/dist-packages (from pandas->arviz) (2018.9)\n",
      "Requirement already satisfied: pyparsing!=2.0.4,!=2.1.2,!=2.1.6,>=2.0.1 in /usr/local/lib/python3.6/dist-packages (from matplotlib>=3.0->arviz) (2.4.0)\n",
      "Requirement already satisfied: kiwisolver>=1.0.1 in /usr/local/lib/python3.6/dist-packages (from matplotlib>=3.0->arviz) (1.1.0)\n",
      "Requirement already satisfied: cycler>=0.10 in /usr/local/lib/python3.6/dist-packages (from matplotlib>=3.0->arviz) (0.10.0)\n",
      "Requirement already satisfied: six>=1.5 in /usr/local/lib/python3.6/dist-packages (from python-dateutil>=2.5.0->pandas->arviz) (1.12.0)\n",
      "Requirement already satisfied: setuptools in /usr/local/lib/python3.6/dist-packages (from kiwisolver>=1.0.1->matplotlib>=3.0->arviz) (41.0.1)\n",
      "Running on PyMC3 v3.7\n"
     ]
    }
   ],
   "source": [
    "from __future__ import absolute_import, division, print_function, unicode_literals\n",
    "!pip install arviz\n",
    "\n",
    "%matplotlib inline\n",
    "import numpy as np\n",
    "import pymc3 as pm\n",
    "import pandas as pd\n",
    "import matplotlib.pyplot as plt\n",
    "import seaborn as sns\n",
    "plt.style.use('seaborn-darkgrid')\n",
    "\n",
    "print('Running on PyMC3 v{}'.format(pm.__version__))\n",
    "import IPython.display as display"
   ]
  },
  {
   "cell_type": "markdown",
   "metadata": {
    "colab_type": "text",
    "id": "eDqtm3zM5NWQ"
   },
   "source": [
    "## GCP specific tasks"
   ]
  },
  {
   "cell_type": "code",
   "execution_count": 0,
   "metadata": {
    "colab": {
     "base_uri": "https://localhost:8080/",
     "height": 34
    },
    "colab_type": "code",
    "id": "bV5VZilI4-4g",
    "outputId": "7c5dfcf6-859c-4344-ed9e-6d70a2160228"
   },
   "outputs": [
    {
     "name": "stdout",
     "output_type": "stream",
     "text": [
      "Drive already mounted at /content/gdrive; to attempt to forcibly remount, call drive.mount(\"/content/gdrive\", force_remount=True).\n"
     ]
    }
   ],
   "source": [
    "from google.colab import auth\n",
    "auth.authenticate_user()\n",
    "\n",
    "from google.colab import drive\n",
    "drive.mount('/content/gdrive')"
   ]
  },
  {
   "cell_type": "code",
   "execution_count": 0,
   "metadata": {
    "colab": {},
    "colab_type": "code",
    "id": "zSVgGi375Qhv"
   },
   "outputs": [],
   "source": [
    "from google.cloud import bigquery"
   ]
  },
  {
   "cell_type": "code",
   "execution_count": 0,
   "metadata": {
    "colab": {},
    "colab_type": "code",
    "id": "OrqUXCLA9FBY"
   },
   "outputs": [],
   "source": [
    "# [PASS!!!]그룹별 전체 유저수 - 6월 25일 자 데이터에는 없다.\n",
    "sql = \"\"\"\n",
    "select testCode, count(distinct fullVisitorID) users \n",
    "from `wmpga360.wmp_ga_anal.unique_fullvisitorID_20190606`\n",
    "group by testCode\n",
    "\"\"\"\n",
    "\n",
    "client = bigquery.Client(project=\"eighth-edge-810\")\n",
    "df_users = client.query(sql).to_dataframe()"
   ]
  },
  {
   "cell_type": "code",
   "execution_count": 0,
   "metadata": {
    "colab": {},
    "colab_type": "code",
    "id": "4XLxo2KR9N9H"
   },
   "outputs": [],
   "source": [
    "df_users.set_index('testCode', inplace=True)"
   ]
  },
  {
   "cell_type": "code",
   "execution_count": 0,
   "metadata": {
    "colab": {},
    "colab_type": "code",
    "id": "Gt0-4FkoZkfr"
   },
   "outputs": [],
   "source": [
    "df_users"
   ]
  },
  {
   "cell_type": "markdown",
   "metadata": {
    "colab_type": "text",
    "id": "Y8sD7qCkLHaz"
   },
   "source": [
    "# 주문 금액의 랭킹에 따라 처리"
   ]
  },
  {
   "cell_type": "markdown",
   "metadata": {
    "colab_type": "text",
    "id": "SD7sxwJ8K9Ti"
   },
   "source": [
    "### 모든 주문 처리 [0%~100%]"
   ]
  },
  {
   "cell_type": "code",
   "execution_count": 0,
   "metadata": {
    "colab": {},
    "colab_type": "code",
    "id": "5Rr0sO195TNw"
   },
   "outputs": [],
   "source": [
    "# 전체 거래, CM\n",
    "sql = \"\"\"\n",
    "SELECT testCode, count(distinct pcstamp) pu, count(*) order_cnt, sum(order_price) order_sum, sum(cm2) cm_sum \n",
    "FROM \n",
    "`wmpga360.wmp_ga_anal.apptracking_ABtest_cm_20190625` \n",
    "where cm2 is not null \n",
    "group by testCode\n",
    "\"\"\"\n",
    "\n",
    "client = bigquery.Client(project=\"eighth-edge-810\")\n",
    "df_whole_cm = client.query(sql).to_dataframe()"
   ]
  },
  {
   "cell_type": "code",
   "execution_count": 0,
   "metadata": {
    "colab": {},
    "colab_type": "code",
    "id": "LwThykwE5mDh"
   },
   "outputs": [],
   "source": [
    "df_whole_cm.set_index('testCode', inplace=True)"
   ]
  },
  {
   "cell_type": "code",
   "execution_count": 0,
   "metadata": {
    "colab": {
     "base_uri": "https://localhost:8080/",
     "height": 173
    },
    "colab_type": "code",
    "id": "xgH20PkPbKWq",
    "outputId": "f684ef86-a8e4-4aad-a0df-0da1d6adcc64"
   },
   "outputs": [
    {
     "data": {
      "text/html": [
       "<div>\n",
       "<style scoped>\n",
       "    .dataframe tbody tr th:only-of-type {\n",
       "        vertical-align: middle;\n",
       "    }\n",
       "\n",
       "    .dataframe tbody tr th {\n",
       "        vertical-align: top;\n",
       "    }\n",
       "\n",
       "    .dataframe thead th {\n",
       "        text-align: right;\n",
       "    }\n",
       "</style>\n",
       "<table border=\"1\" class=\"dataframe\">\n",
       "  <thead>\n",
       "    <tr style=\"text-align: right;\">\n",
       "      <th></th>\n",
       "      <th>pu</th>\n",
       "      <th>order_cnt</th>\n",
       "      <th>order_sum</th>\n",
       "      <th>cm_sum</th>\n",
       "    </tr>\n",
       "    <tr>\n",
       "      <th>testCode</th>\n",
       "      <th></th>\n",
       "      <th></th>\n",
       "      <th></th>\n",
       "      <th></th>\n",
       "    </tr>\n",
       "  </thead>\n",
       "  <tbody>\n",
       "    <tr>\n",
       "      <th>B</th>\n",
       "      <td>44348</td>\n",
       "      <td>79260</td>\n",
       "      <td>2633633120</td>\n",
       "      <td>65891748</td>\n",
       "    </tr>\n",
       "    <tr>\n",
       "      <th>C</th>\n",
       "      <td>45162</td>\n",
       "      <td>79967</td>\n",
       "      <td>2590318288</td>\n",
       "      <td>65218390</td>\n",
       "    </tr>\n",
       "    <tr>\n",
       "      <th>A</th>\n",
       "      <td>45387</td>\n",
       "      <td>80810</td>\n",
       "      <td>2661881269</td>\n",
       "      <td>66416606</td>\n",
       "    </tr>\n",
       "  </tbody>\n",
       "</table>\n",
       "</div>"
      ],
      "text/plain": [
       "             pu  order_cnt   order_sum    cm_sum\n",
       "testCode                                        \n",
       "B         44348      79260  2633633120  65891748\n",
       "C         45162      79967  2590318288  65218390\n",
       "A         45387      80810  2661881269  66416606"
      ]
     },
     "execution_count": 6,
     "metadata": {
      "tags": []
     },
     "output_type": "execute_result"
    }
   ],
   "source": [
    "df_whole_cm"
   ]
  },
  {
   "cell_type": "code",
   "execution_count": 0,
   "metadata": {
    "colab": {
     "base_uri": "https://localhost:8080/",
     "height": 102
    },
    "colab_type": "code",
    "id": "XLZDZtSrSpDp",
    "outputId": "3c38eb4c-d57a-4950-b345-09c3a9ee3999"
   },
   "outputs": [
    {
     "data": {
      "text/plain": [
       "testCode\n",
       "B    0.328755\n",
       "C    0.334789\n",
       "A    0.336457\n",
       "Name: pu, dtype: float64"
      ]
     },
     "execution_count": 7,
     "metadata": {
      "tags": []
     },
     "output_type": "execute_result"
    }
   ],
   "source": [
    "# 거래 한 user들 비율 살핌 - 검색에서 아무래도 B/C 타입으로 거래 유입된 인원들이 좀 있겠지?\n",
    "df_whole_cm.pu/df_whole_cm.pu.sum()"
   ]
  },
  {
   "cell_type": "code",
   "execution_count": 0,
   "metadata": {
    "colab": {
     "base_uri": "https://localhost:8080/",
     "height": 102
    },
    "colab_type": "code",
    "id": "ZsT0sHg8S1hs",
    "outputId": "f062b268-88ca-4f68-c08a-514f335f8746"
   },
   "outputs": [
    {
     "data": {
      "text/plain": [
       "testCode\n",
       "B    0.330199\n",
       "C    0.333144\n",
       "A    0.336656\n",
       "Name: order_cnt, dtype: float64"
      ]
     },
     "execution_count": 8,
     "metadata": {
      "tags": []
     },
     "output_type": "execute_result"
    }
   ],
   "source": [
    "# 주문들의 비율 살핌 - 여기서도 상식적으로는 B/C 타입의 거래 유입이 더 있겠지(그래도 검색에서 샀다고 비검색에서 안사는게 아니야. 혹은, 아무것도 안살사람도 검색에서 사게되거나)\n",
    "df_whole_cm.order_cnt/df_whole_cm.order_cnt.sum()"
   ]
  },
  {
   "cell_type": "code",
   "execution_count": 0,
   "metadata": {
    "colab": {
     "base_uri": "https://localhost:8080/",
     "height": 102
    },
    "colab_type": "code",
    "id": "_6k6isylTmgd",
    "outputId": "4bcea6f5-ac05-4cc1-dd4e-92b09a8d7d3d"
   },
   "outputs": [
    {
     "data": {
      "text/plain": [
       "testCode\n",
       "B    0.333970\n",
       "C    0.328477\n",
       "A    0.337552\n",
       "Name: order_sum, dtype: float64"
      ]
     },
     "execution_count": 9,
     "metadata": {
      "tags": []
     },
     "output_type": "execute_result"
    }
   ],
   "source": [
    "# 거래액의 비율? - 거래 비율에서의 차이가.. 전체 거래액에서의 차이로 이어질까?\n",
    "df_whole_cm.order_sum/df_whole_cm.order_sum.sum()"
   ]
  },
  {
   "cell_type": "code",
   "execution_count": 0,
   "metadata": {
    "colab": {},
    "colab_type": "code",
    "id": "EffK-ULmGp-G"
   },
   "outputs": [],
   "source": [
    "# 검색 거래, CM\n",
    "sql = \"\"\"\n",
    "SELECT testCode, count(distinct pcstamp) pu, count(*) order_cnt, sum(order_price) order_sum, sum(cm2) cm_sum \n",
    "FROM `wmpga360.wmp_ga_anal.apptracking_ABtest_cm_20190625` \n",
    "where cm2 is not null and searchYn='Y'\n",
    "group by testCode\n",
    "\"\"\"\n",
    "\n",
    "client = bigquery.Client(project=\"eighth-edge-810\")\n",
    "df_search_cm = client.query(sql).to_dataframe()"
   ]
  },
  {
   "cell_type": "code",
   "execution_count": 0,
   "metadata": {
    "colab": {},
    "colab_type": "code",
    "id": "dRHQPcdTGqHd"
   },
   "outputs": [],
   "source": [
    "df_search_cm.set_index('testCode', inplace=True)"
   ]
  },
  {
   "cell_type": "code",
   "execution_count": 0,
   "metadata": {
    "colab": {
     "base_uri": "https://localhost:8080/",
     "height": 173
    },
    "colab_type": "code",
    "id": "UX7nD_wRZsBC",
    "outputId": "2238aab6-3730-47a1-bf81-cd480ba7b0c0"
   },
   "outputs": [
    {
     "data": {
      "text/html": [
       "<div>\n",
       "<style scoped>\n",
       "    .dataframe tbody tr th:only-of-type {\n",
       "        vertical-align: middle;\n",
       "    }\n",
       "\n",
       "    .dataframe tbody tr th {\n",
       "        vertical-align: top;\n",
       "    }\n",
       "\n",
       "    .dataframe thead th {\n",
       "        text-align: right;\n",
       "    }\n",
       "</style>\n",
       "<table border=\"1\" class=\"dataframe\">\n",
       "  <thead>\n",
       "    <tr style=\"text-align: right;\">\n",
       "      <th></th>\n",
       "      <th>pu</th>\n",
       "      <th>order_cnt</th>\n",
       "      <th>order_sum</th>\n",
       "      <th>cm_sum</th>\n",
       "    </tr>\n",
       "    <tr>\n",
       "      <th>testCode</th>\n",
       "      <th></th>\n",
       "      <th></th>\n",
       "      <th></th>\n",
       "      <th></th>\n",
       "    </tr>\n",
       "  </thead>\n",
       "  <tbody>\n",
       "    <tr>\n",
       "      <th>A</th>\n",
       "      <td>22645</td>\n",
       "      <td>32645</td>\n",
       "      <td>1393151528</td>\n",
       "      <td>21248673</td>\n",
       "    </tr>\n",
       "    <tr>\n",
       "      <th>C</th>\n",
       "      <td>22865</td>\n",
       "      <td>33191</td>\n",
       "      <td>1347416080</td>\n",
       "      <td>20654247</td>\n",
       "    </tr>\n",
       "    <tr>\n",
       "      <th>B</th>\n",
       "      <td>22217</td>\n",
       "      <td>32423</td>\n",
       "      <td>1382139533</td>\n",
       "      <td>20632020</td>\n",
       "    </tr>\n",
       "  </tbody>\n",
       "</table>\n",
       "</div>"
      ],
      "text/plain": [
       "             pu  order_cnt   order_sum    cm_sum\n",
       "testCode                                        \n",
       "A         22645      32645  1393151528  21248673\n",
       "C         22865      33191  1347416080  20654247\n",
       "B         22217      32423  1382139533  20632020"
      ]
     },
     "execution_count": 12,
     "metadata": {
      "tags": []
     },
     "output_type": "execute_result"
    }
   ],
   "source": [
    "df_search_cm # d"
   ]
  },
  {
   "cell_type": "code",
   "execution_count": 0,
   "metadata": {
    "colab": {
     "base_uri": "https://localhost:8080/",
     "height": 102
    },
    "colab_type": "code",
    "id": "XpT49hvJUeBh",
    "outputId": "7ffa449a-7f3b-4252-f552-e354641e803d"
   },
   "outputs": [
    {
     "data": {
      "text/plain": [
       "testCode\n",
       "A    0.334357\n",
       "C    0.337605\n",
       "B    0.328038\n",
       "Name: pu, dtype: float64"
      ]
     },
     "execution_count": 13,
     "metadata": {
      "tags": []
     },
     "output_type": "execute_result"
    }
   ],
   "source": [
    "# 검색에서\n",
    "# 거래 한 user들 비율 살핌 - 검색에서 아무래도 B/C 타입으로 거래 유입된 인원들이 좀 있겠지?\n",
    "df_search_cm.pu/df_search_cm.pu.sum()"
   ]
  },
  {
   "cell_type": "code",
   "execution_count": 0,
   "metadata": {
    "colab": {
     "base_uri": "https://localhost:8080/",
     "height": 102
    },
    "colab_type": "code",
    "id": "O215yvcOUzXd",
    "outputId": "de71ecb7-cf9d-48e2-f066-9c150fa14aaf"
   },
   "outputs": [
    {
     "data": {
      "text/plain": [
       "testCode\n",
       "A    0.332234\n",
       "C    0.337791\n",
       "B    0.329975\n",
       "Name: order_cnt, dtype: float64"
      ]
     },
     "execution_count": 14,
     "metadata": {
      "tags": []
     },
     "output_type": "execute_result"
    }
   ],
   "source": [
    "# 검색에서\n",
    "# 주문들의 비율 살핌 \n",
    "df_search_cm.order_cnt/df_search_cm.order_cnt.sum()"
   ]
  },
  {
   "cell_type": "code",
   "execution_count": 0,
   "metadata": {
    "colab": {
     "base_uri": "https://localhost:8080/",
     "height": 102
    },
    "colab_type": "code",
    "id": "OZpYGQk9UzIj",
    "outputId": "308717b9-7043-4889-b94e-978e9b9a2a3a"
   },
   "outputs": [
    {
     "data": {
      "text/plain": [
       "testCode\n",
       "A    0.337922\n",
       "C    0.326828\n",
       "B    0.335250\n",
       "Name: order_sum, dtype: float64"
      ]
     },
     "execution_count": 15,
     "metadata": {
      "tags": []
     },
     "output_type": "execute_result"
    }
   ],
   "source": [
    "# 거래액의 비율? \n",
    "df_search_cm.order_sum/df_search_cm.order_sum.sum()"
   ]
  },
  {
   "cell_type": "markdown",
   "metadata": {
    "colab_type": "text",
    "id": "eIrS6KziU-mb"
   },
   "source": [
    "\n",
    "\n",
    "---\n",
    "\n"
   ]
  },
  {
   "cell_type": "markdown",
   "metadata": {
    "colab_type": "text",
    "id": "NST3aUs2XYd1"
   },
   "source": [
    "## 분석 세팅"
   ]
  },
  {
   "cell_type": "code",
   "execution_count": 0,
   "metadata": {
    "colab": {
     "base_uri": "https://localhost:8080/",
     "height": 173
    },
    "colab_type": "code",
    "id": "d7FX-4C2WzvJ",
    "outputId": "eb431107-bd4c-4d13-af7b-207823614ca9"
   },
   "outputs": [
    {
     "data": {
      "text/html": [
       "<div>\n",
       "<style scoped>\n",
       "    .dataframe tbody tr th:only-of-type {\n",
       "        vertical-align: middle;\n",
       "    }\n",
       "\n",
       "    .dataframe tbody tr th {\n",
       "        vertical-align: top;\n",
       "    }\n",
       "\n",
       "    .dataframe thead th {\n",
       "        text-align: right;\n",
       "    }\n",
       "</style>\n",
       "<table border=\"1\" class=\"dataframe\">\n",
       "  <thead>\n",
       "    <tr style=\"text-align: right;\">\n",
       "      <th></th>\n",
       "      <th>pu</th>\n",
       "      <th>order_cnt</th>\n",
       "      <th>order_sum</th>\n",
       "      <th>cm_sum</th>\n",
       "    </tr>\n",
       "    <tr>\n",
       "      <th>testCode</th>\n",
       "      <th></th>\n",
       "      <th></th>\n",
       "      <th></th>\n",
       "      <th></th>\n",
       "    </tr>\n",
       "  </thead>\n",
       "  <tbody>\n",
       "    <tr>\n",
       "      <th>B</th>\n",
       "      <td>44348</td>\n",
       "      <td>79260</td>\n",
       "      <td>2633633120</td>\n",
       "      <td>65891748</td>\n",
       "    </tr>\n",
       "    <tr>\n",
       "      <th>C</th>\n",
       "      <td>45162</td>\n",
       "      <td>79967</td>\n",
       "      <td>2590318288</td>\n",
       "      <td>65218390</td>\n",
       "    </tr>\n",
       "    <tr>\n",
       "      <th>A</th>\n",
       "      <td>45387</td>\n",
       "      <td>80810</td>\n",
       "      <td>2661881269</td>\n",
       "      <td>66416606</td>\n",
       "    </tr>\n",
       "  </tbody>\n",
       "</table>\n",
       "</div>"
      ],
      "text/plain": [
       "             pu  order_cnt   order_sum    cm_sum\n",
       "testCode                                        \n",
       "B         44348      79260  2633633120  65891748\n",
       "C         45162      79967  2590318288  65218390\n",
       "A         45387      80810  2661881269  66416606"
      ]
     },
     "execution_count": 16,
     "metadata": {
      "tags": []
     },
     "output_type": "execute_result"
    }
   ],
   "source": [
    "df_whole_cm"
   ]
  },
  {
   "cell_type": "code",
   "execution_count": 0,
   "metadata": {
    "colab": {},
    "colab_type": "code",
    "id": "2RexsxHL9iUg"
   },
   "outputs": [],
   "source": [
    "A='A'\n",
    "B='B'\n",
    "C='C'\n",
    "#VIEW='order_sum'\n",
    "VIEW='cm_sum'"
   ]
  },
  {
   "cell_type": "code",
   "execution_count": 0,
   "metadata": {
    "colab": {},
    "colab_type": "code",
    "id": "bJ9uxK-z9Xd_"
   },
   "outputs": [],
   "source": [
    "# 대조군/실험군 유저수\n",
    "n1 = 355938\n",
    "n2 = 345429\n",
    "n3 = 345855\n",
    "\n",
    "#n1 = df_users.loc[A]['users']\n",
    "#n2 = df_users.loc[B]['users']\n",
    "#n3 = df_users.loc[C]['users']"
   ]
  },
  {
   "cell_type": "code",
   "execution_count": 0,
   "metadata": {
    "colab": {},
    "colab_type": "code",
    "id": "LH25ThFeG8Lu"
   },
   "outputs": [],
   "source": [
    "df_data = df_whole_cm\n",
    "#df_data = df_search_cm # 검색만 가지고 할때\n",
    "#DATA='whole_[0-95]'"
   ]
  },
  {
   "cell_type": "code",
   "execution_count": 0,
   "metadata": {
    "colab": {
     "base_uri": "https://localhost:8080/",
     "height": 34
    },
    "colab_type": "code",
    "id": "goJ-CY9jX5F4",
    "outputId": "b81af61b-eb83-47a6-b102-34b243f6baba"
   },
   "outputs": [
    {
     "data": {
      "text/plain": [
       "45387"
      ]
     },
     "execution_count": 20,
     "metadata": {
      "tags": []
     },
     "output_type": "execute_result"
    }
   ],
   "source": [
    "df_data.loc[A]['pu']"
   ]
  },
  {
   "cell_type": "code",
   "execution_count": 0,
   "metadata": {
    "colab": {
     "base_uri": "https://localhost:8080/",
     "height": 34
    },
    "colab_type": "code",
    "id": "KH-6uxQVYS64",
    "outputId": "39a85d6b-5aae-44bd-a103-fa826ca4484c"
   },
   "outputs": [
    {
     "data": {
      "text/plain": [
       "2661881269"
      ]
     },
     "execution_count": 21,
     "metadata": {
      "tags": []
     },
     "output_type": "execute_result"
    }
   ],
   "source": [
    "df_data.loc[A]['order_sum']"
   ]
  },
  {
   "cell_type": "code",
   "execution_count": 0,
   "metadata": {
    "colab": {},
    "colab_type": "code",
    "id": "i_GB20gj5xLY"
   },
   "outputs": [],
   "source": [
    "c1 = df_data.loc[A]['pu'] # user수\n",
    "c2 = df_data.loc[B]['pu']\n",
    "c3 = df_data.loc[C]['pu']\n",
    "\n",
    "r1 = df_data.loc[A]['order_sum']/c1 # 구매 user당 주문금액(revenue)\n",
    "r2 = df_data.loc[B]['order_sum']/c2\n",
    "r3 = df_data.loc[C]['order_sum']/c3\n",
    "\n",
    "\n",
    "\n",
    "s1 = df_data.loc[A][VIEW]/c1 # 구매 user당 평균 cm\n",
    "s2 = df_data.loc[B][VIEW]/c2\n",
    "s3 = df_data.loc[C][VIEW]/c3"
   ]
  },
  {
   "cell_type": "code",
   "execution_count": 0,
   "metadata": {
    "colab": {
     "base_uri": "https://localhost:8080/",
     "height": 142
    },
    "colab_type": "code",
    "id": "joH4Jx_JY0Ly",
    "outputId": "eeacbd22-f114-439a-aabf-6078386c4171"
   },
   "outputs": [
    {
     "data": {
      "text/html": [
       "<div>\n",
       "<style scoped>\n",
       "    .dataframe tbody tr th:only-of-type {\n",
       "        vertical-align: middle;\n",
       "    }\n",
       "\n",
       "    .dataframe tbody tr th {\n",
       "        vertical-align: top;\n",
       "    }\n",
       "\n",
       "    .dataframe thead th {\n",
       "        text-align: right;\n",
       "    }\n",
       "</style>\n",
       "<table border=\"1\" class=\"dataframe\">\n",
       "  <thead>\n",
       "    <tr style=\"text-align: right;\">\n",
       "      <th></th>\n",
       "      <th>total_user</th>\n",
       "      <th>paid_user</th>\n",
       "      <th>arppu</th>\n",
       "      <th>arpu</th>\n",
       "      <th>arppu_cm</th>\n",
       "      <th>arpu_cm</th>\n",
       "    </tr>\n",
       "  </thead>\n",
       "  <tbody>\n",
       "    <tr>\n",
       "      <th>0</th>\n",
       "      <td>355938</td>\n",
       "      <td>45387</td>\n",
       "      <td>58648.539648</td>\n",
       "      <td>7478.497011</td>\n",
       "      <td>1463.339855</td>\n",
       "      <td>186.595997</td>\n",
       "    </tr>\n",
       "    <tr>\n",
       "      <th>1</th>\n",
       "      <td>345429</td>\n",
       "      <td>44348</td>\n",
       "      <td>59385.611978</td>\n",
       "      <td>7624.238613</td>\n",
       "      <td>1485.788491</td>\n",
       "      <td>190.753376</td>\n",
       "    </tr>\n",
       "    <tr>\n",
       "      <th>2</th>\n",
       "      <td>345855</td>\n",
       "      <td>45162</td>\n",
       "      <td>57356.146495</td>\n",
       "      <td>7489.607749</td>\n",
       "      <td>1444.098800</td>\n",
       "      <td>188.571482</td>\n",
       "    </tr>\n",
       "  </tbody>\n",
       "</table>\n",
       "</div>"
      ],
      "text/plain": [
       "   total_user  paid_user         arppu         arpu     arppu_cm     arpu_cm\n",
       "0      355938      45387  58648.539648  7478.497011  1463.339855  186.595997\n",
       "1      345429      44348  59385.611978  7624.238613  1485.788491  190.753376\n",
       "2      345855      45162  57356.146495  7489.607749  1444.098800  188.571482"
      ]
     },
     "execution_count": 23,
     "metadata": {
      "tags": []
     },
     "output_type": "execute_result"
    }
   ],
   "source": [
    "pd.DataFrame({'total_user' : [n1,n2,n3], \n",
    "             'paid_user' : [c1, c2, c3],\n",
    "             'arppu' : [r1, r2, r3],\n",
    "             'arpu': [r1*c1/n1, r2*c2/n2, r3*c3/n3],\n",
    "             'arppu_cm' : [s1, s2, s3],\n",
    "             'arpu_cm' : [s1*c1/n1, s2*c2/n2, s3*c3/n3]})"
   ]
  },
  {
   "cell_type": "markdown",
   "metadata": {
    "colab_type": "text",
    "id": "wsOebom8auoS"
   },
   "source": [
    "\n",
    "\n",
    "---\n",
    "\n"
   ]
  },
  {
   "cell_type": "markdown",
   "metadata": {
    "colab_type": "text",
    "id": "vRx6ULpbatru"
   },
   "source": [
    "## Bayesian AB Test for Conversion and ARPU (Average Revenue per User) - revenue 관점\n",
    "\n",
    "conversion\n",
    "= 구매유저수 / 유저수\n",
    "\n",
    "ARPU\n",
    "= 총구매금액 / 유저수\n",
    "\n",
    "MCMC 모델\n",
    "https://cdn2.hubspot.net/hubfs/310840/VWO_SmartStats_technical_whitepaper.pdf 를 따름\n"
   ]
  },
  {
   "cell_type": "code",
   "execution_count": 0,
   "metadata": {
    "colab": {
     "base_uri": "https://localhost:8080/",
     "height": 34
    },
    "colab_type": "code",
    "id": "03yzZ6IoasUR",
    "outputId": "2470cd6e-b21c-4e3f-ae1e-972464d3ad15"
   },
   "outputs": [
    {
     "data": {
      "text/plain": [
       "1047222"
      ]
     },
     "execution_count": 24,
     "metadata": {
      "tags": []
     },
     "output_type": "execute_result"
    }
   ],
   "source": [
    "n1+n2+n3"
   ]
  },
  {
   "cell_type": "code",
   "execution_count": 0,
   "metadata": {
    "colab": {},
    "colab_type": "code",
    "id": "WYbewD4MbG6G"
   },
   "outputs": [],
   "source": [
    "# prior 설정\n",
    "cr_hyperparameter={'alpha':1.0, 'beta':1.0}\n",
    "lambda_hyperparams={'alpha':1.0, 'beta':1.0}\n",
    "theta_hyperparams={'alpha':1.0, 'beta':0.5}"
   ]
  },
  {
   "cell_type": "code",
   "execution_count": 0,
   "metadata": {
    "colab": {
     "base_uri": "https://localhost:8080/",
     "height": 119
    },
    "colab_type": "code",
    "id": "hCTSPbezbG6I",
    "outputId": "fcd4c719-a9ea-4464-9471-b1483fa8e50d"
   },
   "outputs": [
    {
     "name": "stderr",
     "output_type": "stream",
     "text": [
      "Auto-assigning NUTS sampler...\n",
      "Initializing NUTS using jitter+adapt_diag...\n",
      "Sequential sampling (2 chains in 1 job)\n",
      "NUTS: [theta_c_cm, theta_b_cm, theta_a_cm, theta_c, theta_b, theta_a, lambda_c, lambda_b, lambda_a, cr_c, cr_b, cr_a]\n",
      "100%|██████████| 20000/20000 [01:21<00:00, 245.57it/s]\n",
      "100%|██████████| 20000/20000 [01:14<00:00, 268.86it/s]\n"
     ]
    }
   ],
   "source": [
    "# conversion을 '고객' 관점에서 살핀다.\n",
    "\n",
    "with pm.Model() as model: # context management\n",
    "  ## Conversion 관련\n",
    "  cr_a = pm.Beta('cr_a', alpha=lambda_hyperparams['alpha'], beta=lambda_hyperparams['beta'])\n",
    "  cr_b = pm.Beta('cr_b', alpha=lambda_hyperparams['alpha'], beta=lambda_hyperparams['beta'])\n",
    "  cr_c = pm.Beta('cr_c', alpha=lambda_hyperparams['alpha'], beta=lambda_hyperparams['beta'])\n",
    "  \n",
    "  # define likelihood\n",
    "  like_cr_a = pm.Binomial('like_cr_a', n=n1, p=cr_a, observed=c1) # 구매고객/전체고객 으로 conversion\n",
    "  like_cr_b = pm.Binomial('like_cr_b', n=n2, p=cr_b, observed=c2)\n",
    "  like_cr_c = pm.Binomial('like_cr_c', n=n3, p=cr_c, observed=c3)\n",
    "\n",
    "  # define metrics\n",
    "  pm.Deterministic('difference_conversion_ba', cr_b - cr_a)\n",
    "  pm.Deterministic('difference_conversion_ca', cr_c - cr_a)\n",
    "  #pm.Deterministic('loss_cr_a', pm.math.switch(cr_b - cr_a > 0, cr_b - cr_a, 0))\n",
    "  pm.Deterministic('loss_cr_a', pm.math.maximum(pm.math.maximum(cr_b - cr_a, cr_c - cr_a), 0.0))\n",
    "  pm.Deterministic('loss_cr_b', pm.math.maximum(pm.math.maximum(cr_a - cr_b, cr_c - cr_b), 0.0))\n",
    "  pm.Deterministic('loss_cr_c', pm.math.maximum(pm.math.maximum(cr_a - cr_c, cr_b - cr_c), 0.0))\n",
    "\n",
    "  \n",
    "  ## 거래액(revenue) 관련\n",
    "  lambda_a = pm.Beta('lambda_a', alpha=lambda_hyperparams['alpha']+c1, beta=lambda_hyperparams['beta']+n1-c1)\n",
    "  lambda_b = pm.Beta('lambda_b', alpha=lambda_hyperparams['alpha']+c2, beta=lambda_hyperparams['beta']+n2-c2)\n",
    "  lambda_c = pm.Beta('lambda_c', alpha=lambda_hyperparams['alpha']+c3, beta=lambda_hyperparams['beta']+n3-c3)\n",
    "  \n",
    "  theta_a = pm.Gamma('theta_a', alpha=theta_hyperparams['alpha']+c1, beta=theta_hyperparams['beta']+c1*r1)\n",
    "  theta_b = pm.Gamma('theta_b', alpha=theta_hyperparams['alpha']+c2, beta=theta_hyperparams['beta']+c2*r2)\n",
    "  theta_c = pm.Gamma('theta_c', alpha=theta_hyperparams['alpha']+c3, beta=theta_hyperparams['beta']+c3*r3)\n",
    "    \n",
    "  # define metrics\n",
    "  arpu_a = pm.Deterministic('arpu_a', lambda_a/theta_a) # (곱하기 아니려나..? - 아닌것 같긴 한데, 생각해보기)\n",
    "  arpu_b = pm.Deterministic('arpu_b', lambda_b/theta_b) #\n",
    "  arpu_c = pm.Deterministic('arpu_c', lambda_c/theta_c) #\n",
    "  pm.Deterministic('difference_arpu_ba', arpu_b - arpu_a)\n",
    "  pm.Deterministic('difference_arpu_ca', arpu_c - arpu_a)\n",
    "  pm.Deterministic('loss_arpu_a', pm.math.maximum(pm.math.maximum(arpu_b - arpu_a, arpu_c - arpu_a), 0))\n",
    "  pm.Deterministic('loss_arpu_b', pm.math.maximum(pm.math.maximum(arpu_a - arpu_b, arpu_c - arpu_b), 0))\n",
    "  pm.Deterministic('loss_arpu_c', pm.math.maximum(pm.math.maximum(arpu_a - arpu_c, arpu_b - arpu_c), 0))\n",
    "\n",
    "  \n",
    "  \n",
    "  \n",
    "  ## CM관점\n",
    "  theta_a_cm = pm.Gamma('theta_a_cm', alpha=theta_hyperparams['alpha']+c1, beta=theta_hyperparams['beta']+c1*s1)\n",
    "  theta_b_cm = pm.Gamma('theta_b_cm', alpha=theta_hyperparams['alpha']+c2, beta=theta_hyperparams['beta']+c2*s2)\n",
    "  theta_c_cm = pm.Gamma('theta_c_cm', alpha=theta_hyperparams['alpha']+c3, beta=theta_hyperparams['beta']+c3*s3)\n",
    "    \n",
    "  # define metrics\n",
    "  arpu_a_cm = pm.Deterministic('arpu_a_cm', lambda_a/theta_a_cm) # \n",
    "  arpu_b_cm = pm.Deterministic('arpu_b_cm', lambda_b/theta_b_cm) #\n",
    "  arpu_c_cm = pm.Deterministic('arpu_c_cm', lambda_c/theta_c_cm) #\n",
    "  pm.Deterministic('difference_arpu_ba_cm', arpu_b_cm - arpu_a_cm)\n",
    "  pm.Deterministic('difference_arpu_ca_cm', arpu_c_cm - arpu_a_cm)\n",
    "  pm.Deterministic('loss_arpu_a_cm', pm.math.maximum(pm.math.maximum(arpu_b_cm - arpu_a_cm, arpu_c_cm - arpu_a_cm), 0))\n",
    "  pm.Deterministic('loss_arpu_b_cm', pm.math.maximum(pm.math.maximum(arpu_a_cm - arpu_b_cm, arpu_c_cm - arpu_b_cm), 0))\n",
    "  pm.Deterministic('loss_arpu_c_cm', pm.math.maximum(pm.math.maximum(arpu_a_cm - arpu_c_cm, arpu_b_cm - arpu_c_cm), 0))\n",
    "\n",
    "  \n",
    "  \n",
    "  \n",
    "  # inference\n",
    "  trace = pm.sample(draws=10000, tune=10000, progressbar=True)"
   ]
  },
  {
   "cell_type": "markdown",
   "metadata": {
    "colab_type": "text",
    "id": "dJT_5qAMne4-"
   },
   "source": [
    "## # Conversion-rate"
   ]
  },
  {
   "cell_type": "code",
   "execution_count": 0,
   "metadata": {
    "colab": {
     "base_uri": "https://localhost:8080/",
     "height": 356
    },
    "colab_type": "code",
    "id": "vRR1nNWSbnj1",
    "outputId": "954d5cd1-ef30-40d7-da12-3d5d46f92e84"
   },
   "outputs": [
    {
     "data": {
      "image/png": "[encoded data removed]",
      "text/plain": [
       "<Figure size 993.6x331.2 with 2 Axes>"
      ]
     },
     "metadata": {
      "tags": []
     },
     "output_type": "display_data"
    }
   ],
   "source": [
    "# 이거는 (특가 노출로) 구매 유입인원이 증가한다는 개념에서 당연한결과?\n",
    "_ = pm.plot_posterior(trace, var_names=['difference_conversion_ba', 'difference_conversion_ca'], \n",
    "                      ref_val=0, color='#87ceeb')"
   ]
  },
  {
   "cell_type": "markdown",
   "metadata": {
    "colab_type": "text",
    "id": "0UBL2yvSni7G"
   },
   "source": [
    "## # arpu_revenue"
   ]
  },
  {
   "cell_type": "code",
   "execution_count": 0,
   "metadata": {
    "colab": {
     "base_uri": "https://localhost:8080/",
     "height": 356
    },
    "colab_type": "code",
    "id": "xT3qCC-nbnj7",
    "outputId": "6a05c728-f3ce-424a-ce1c-be49bb44e740"
   },
   "outputs": [
    {
     "data": {
      "image/png": "[encoded data removed]",
      "text/plain": [
       "<Figure size 993.6x331.2 with 2 Axes>"
      ]
     },
     "metadata": {
      "tags": []
     },
     "output_type": "display_data"
    }
   ],
   "source": [
    "_ = pm.plot_posterior(trace, var_names=['difference_arpu_ba', 'difference_arpu_ca'], \n",
    "                      ref_val=0, color='#87ceeb')"
   ]
  },
  {
   "cell_type": "code",
   "execution_count": 0,
   "metadata": {
    "colab": {
     "base_uri": "https://localhost:8080/",
     "height": 376
    },
    "colab_type": "code",
    "id": "6yH1pf6QbnkD",
    "outputId": "96468836-3089-45ed-e155-98be60ab738f"
   },
   "outputs": [
    {
     "data": {
      "image/png": "[encoded data removed]",
      "text/plain": [
       "<Figure size 1490.4x331.2 with 3 Axes>"
      ]
     },
     "metadata": {
      "tags": []
     },
     "output_type": "display_data"
    }
   ],
   "source": [
    "_ = pm.plot_posterior(trace, var_names=['arpu_a', 'arpu_b', 'arpu_c'],\n",
    "                      color='#87ceeb')"
   ]
  },
  {
   "cell_type": "markdown",
   "metadata": {
    "colab_type": "text",
    "id": "l0lawMpynrLy"
   },
   "source": [
    "## # arpu_CM"
   ]
  },
  {
   "cell_type": "code",
   "execution_count": 0,
   "metadata": {
    "colab": {
     "base_uri": "https://localhost:8080/",
     "height": 356
    },
    "colab_type": "code",
    "id": "Qldu0cARnqWY",
    "outputId": "ef2930b5-0600-456a-dcab-696fc00531c2"
   },
   "outputs": [
    {
     "data": {
      "image/png": "[encoded data removed]",
      "text/plain": [
       "<Figure size 993.6x331.2 with 2 Axes>"
      ]
     },
     "metadata": {
      "tags": []
     },
     "output_type": "display_data"
    }
   ],
   "source": [
    "_ = pm.plot_posterior(trace, var_names=['difference_arpu_ba_cm', 'difference_arpu_ca_cm'], \n",
    "                      ref_val=0, color='#87ceeb')"
   ]
  },
  {
   "cell_type": "code",
   "execution_count": 0,
   "metadata": {
    "colab": {
     "base_uri": "https://localhost:8080/",
     "height": 376
    },
    "colab_type": "code",
    "id": "jp_nDvdxnpp5",
    "outputId": "0ae25b26-0ee9-42d9-e5a2-76bb91c296b6"
   },
   "outputs": [
    {
     "data": {
      "image/png": "[encoded data removed]",
      "text/plain": [
       "<Figure size 1490.4x331.2 with 3 Axes>"
      ]
     },
     "metadata": {
      "tags": []
     },
     "output_type": "display_data"
    }
   ],
   "source": [
    "_ = pm.plot_posterior(trace, var_names=['arpu_a_cm', 'arpu_b_cm', 'arpu_c_cm'],\n",
    "                      color='#87ceeb')"
   ]
  },
  {
   "cell_type": "markdown",
   "metadata": {
    "colab_type": "text",
    "id": "uvf3O_30nvvz"
   },
   "source": [
    "\n",
    "\n",
    "---\n",
    "\n"
   ]
  },
  {
   "cell_type": "markdown",
   "metadata": {
    "colab_type": "text",
    "id": "BFYpIMQ1oF1u"
   },
   "source": [
    "## # conversion-rate"
   ]
  },
  {
   "cell_type": "code",
   "execution_count": 0,
   "metadata": {
    "colab": {
     "base_uri": "https://localhost:8080/",
     "height": 34
    },
    "colab_type": "code",
    "id": "D-BKq4YrhZGX",
    "outputId": "e2136a1f-0fef-4c10-e7dd-71df3ca8347d"
   },
   "outputs": [
    {
     "name": "stdout",
     "output_type": "stream",
     "text": [
      "conversionrate_type(with revenue)\n"
     ]
    }
   ],
   "source": [
    "fig_title = 'conversionrate_type(with revenue)'\n",
    "print(fig_title)"
   ]
  },
  {
   "cell_type": "code",
   "execution_count": 0,
   "metadata": {
    "colab": {
     "base_uri": "https://localhost:8080/",
     "height": 431
    },
    "colab_type": "code",
    "id": "kZxde4WkbnkW",
    "outputId": "b727d6e4-0fed-41a9-cccc-66788aa5138b"
   },
   "outputs": [
    {
     "data": {
      "text/plain": [
       "Text(0.5, 0.98, 'conversionrate_type(with revenue)')"
      ]
     },
     "execution_count": 33,
     "metadata": {
      "tags": []
     },
     "output_type": "execute_result"
    },
    {
     "data": {
      "image/png": "[encoded data removed]",
      "text/plain": [
       "<Figure size 576x432 with 1 Axes>"
      ]
     },
     "metadata": {
      "tags": []
     },
     "output_type": "display_data"
    }
   ],
   "source": [
    "f, ax = plt.subplots(figsize=(8, 6))\n",
    "sns.distplot(trace['cr_a'], hist = False, kde = True,\n",
    "                 kde_kws = {'shade': True, 'linewidth': 3}, label='cr_a')\n",
    "sns.distplot(trace['cr_b'], hist = False, kde = True,\n",
    "                 kde_kws = {'shade': True, 'linewidth': 3}, label='cr_b')\n",
    "sns.distplot(trace['cr_c'], hist = False, kde = True,\n",
    "                 kde_kws = {'shade': True, 'linewidth': 3}, label='cr_c')\n",
    "plt.legend(title='conversion rate')\n",
    "f.suptitle(fig_title)\n",
    "#f.savefig('gdrive/My Drive/data/ab_search/fig_cv_{}.png'.format(fig_title), format='png')"
   ]
  },
  {
   "cell_type": "markdown",
   "metadata": {
    "colab_type": "text",
    "id": "4nsRjO00n9cD"
   },
   "source": [
    "## # arpu_revenue"
   ]
  },
  {
   "cell_type": "code",
   "execution_count": 0,
   "metadata": {
    "colab": {
     "base_uri": "https://localhost:8080/",
     "height": 34
    },
    "colab_type": "code",
    "id": "3UxD0E-Eg_ZH",
    "outputId": "2d811b21-0a3a-44c4-d33e-9339c853d22a"
   },
   "outputs": [
    {
     "name": "stdout",
     "output_type": "stream",
     "text": [
      "arpu_type(with revenue)\n"
     ]
    }
   ],
   "source": [
    "#name_suffix = '{}_{}.csv'.format(VIEW,DATA)\n",
    "fig_title = 'arpu_type(with revenue)'\n",
    "print(fig_title)"
   ]
  },
  {
   "cell_type": "code",
   "execution_count": 0,
   "metadata": {
    "colab": {
     "base_uri": "https://localhost:8080/",
     "height": 431
    },
    "colab_type": "code",
    "id": "fUI0g_VfbnkS",
    "outputId": "daf32a3d-4cdc-4628-94ec-5b3807247a63"
   },
   "outputs": [
    {
     "data": {
      "text/plain": [
       "Text(0.5, 0.98, 'arpu_type(with revenue)')"
      ]
     },
     "execution_count": 35,
     "metadata": {
      "tags": []
     },
     "output_type": "execute_result"
    },
    {
     "data": {
      "image/png": "[encoded data removed]",
      "text/plain": [
       "<Figure size 576x432 with 1 Axes>"
      ]
     },
     "metadata": {
      "tags": []
     },
     "output_type": "display_data"
    }
   ],
   "source": [
    "f, ax = plt.subplots(figsize=(8, 6))\n",
    "sns.distplot(trace['arpu_a'], hist = False, kde = True,\n",
    "                 kde_kws = {'shade': True, 'linewidth': 3}, label='arpu_a')\n",
    "sns.distplot(trace['arpu_b'], hist = False, kde = True,\n",
    "                 kde_kws = {'shade': True, 'linewidth': 3}, label='arpu_b')\n",
    "sns.distplot(trace['arpu_c'], hist = False, kde = True,\n",
    "                 kde_kws = {'shade': True, 'linewidth': 3}, label='arpu_c')\n",
    "plt.legend(title='arpu')\n",
    "f.suptitle(fig_title)\n",
    "#f.savefig('gdrive/My Drive/data/ab_search/fig_arpu_{}.png'.format(fig_title), format='png')"
   ]
  },
  {
   "cell_type": "markdown",
   "metadata": {
    "colab_type": "text",
    "id": "ic6BbmrBoLzb"
   },
   "source": [
    "## # arpu_CM"
   ]
  },
  {
   "cell_type": "code",
   "execution_count": 0,
   "metadata": {
    "colab": {
     "base_uri": "https://localhost:8080/",
     "height": 34
    },
    "colab_type": "code",
    "id": "esAX3ISooLH7",
    "outputId": "fbdf4aac-91f0-4d02-9d46-6aa0e773e0a7"
   },
   "outputs": [
    {
     "name": "stdout",
     "output_type": "stream",
     "text": [
      "arpu_type(with CM)\n"
     ]
    }
   ],
   "source": [
    "fig_title = 'arpu_type(with CM)'\n",
    "print(fig_title)"
   ]
  },
  {
   "cell_type": "code",
   "execution_count": 0,
   "metadata": {
    "colab": {
     "base_uri": "https://localhost:8080/",
     "height": 431
    },
    "colab_type": "code",
    "id": "WPygQcjKoKoF",
    "outputId": "fe2d5d16-e0e3-4b82-85f0-93411fe1f466"
   },
   "outputs": [
    {
     "data": {
      "text/plain": [
       "Text(0.5, 0.98, 'arpu_type(with CM)')"
      ]
     },
     "execution_count": 37,
     "metadata": {
      "tags": []
     },
     "output_type": "execute_result"
    },
    {
     "data": {
      "image/png": "[encoded data removed]",
      "text/plain": [
       "<Figure size 576x432 with 1 Axes>"
      ]
     },
     "metadata": {
      "tags": []
     },
     "output_type": "display_data"
    }
   ],
   "source": [
    "f, ax = plt.subplots(figsize=(8, 6))\n",
    "sns.distplot(trace['arpu_a_cm'], hist = False, kde = True,\n",
    "                 kde_kws = {'shade': True, 'linewidth': 3}, label='arpu_a')\n",
    "sns.distplot(trace['arpu_b_cm'], hist = False, kde = True,\n",
    "                 kde_kws = {'shade': True, 'linewidth': 3}, label='arpu_b')\n",
    "sns.distplot(trace['arpu_c_cm'], hist = False, kde = True,\n",
    "                 kde_kws = {'shade': True, 'linewidth': 3}, label='arpu_c')\n",
    "plt.legend(title='arpu_CM')\n",
    "f.suptitle(fig_title)\n",
    "#f.savefig('gdrive/My Drive/data/ab_search/fig_arpu_{}.png'.format(fig_title), format='png')"
   ]
  },
  {
   "cell_type": "markdown",
   "metadata": {
    "colab_type": "text",
    "id": "tqQ1WQV-oONj"
   },
   "source": [
    "\n",
    "\n",
    "---\n",
    "\n"
   ]
  },
  {
   "cell_type": "markdown",
   "metadata": {
    "colab_type": "text",
    "id": "KMbKFpg5pHf5"
   },
   "source": [
    "## # 통계량 살피기"
   ]
  },
  {
   "cell_type": "markdown",
   "metadata": {
    "colab_type": "text",
    "id": "utVf52JCpObq"
   },
   "source": [
    "### # conversion 관점"
   ]
  },
  {
   "cell_type": "code",
   "execution_count": 0,
   "metadata": {
    "colab": {},
    "colab_type": "code",
    "id": "F_cR1PYQbnkY"
   },
   "outputs": [],
   "source": [
    "sm_cr = pm.summary(trace, varnames=['difference_conversion_ba','difference_conversion_ca', 'loss_cr_a', 'loss_cr_b', 'loss_cr_c'])"
   ]
  },
  {
   "cell_type": "code",
   "execution_count": 0,
   "metadata": {
    "colab": {
     "base_uri": "https://localhost:8080/",
     "height": 204
    },
    "colab_type": "code",
    "id": "OtX__6w8bnkZ",
    "outputId": "957a83e3-4cda-455e-c1cd-2956098a1ba9"
   },
   "outputs": [
    {
     "data": {
      "text/html": [
       "<div>\n",
       "<style scoped>\n",
       "    .dataframe tbody tr th:only-of-type {\n",
       "        vertical-align: middle;\n",
       "    }\n",
       "\n",
       "    .dataframe tbody tr th {\n",
       "        vertical-align: top;\n",
       "    }\n",
       "\n",
       "    .dataframe thead th {\n",
       "        text-align: right;\n",
       "    }\n",
       "</style>\n",
       "<table border=\"1\" class=\"dataframe\">\n",
       "  <thead>\n",
       "    <tr style=\"text-align: right;\">\n",
       "      <th></th>\n",
       "      <th>mean</th>\n",
       "      <th>sd</th>\n",
       "      <th>mc_error</th>\n",
       "      <th>hpd_2.5</th>\n",
       "      <th>hpd_97.5</th>\n",
       "      <th>n_eff</th>\n",
       "      <th>Rhat</th>\n",
       "    </tr>\n",
       "  </thead>\n",
       "  <tbody>\n",
       "    <tr>\n",
       "      <th>difference_conversion_ba</th>\n",
       "      <td>8.722153e-04</td>\n",
       "      <td>0.000793</td>\n",
       "      <td>5.134988e-06</td>\n",
       "      <td>-0.000684</td>\n",
       "      <td>0.002407</td>\n",
       "      <td>23558.347685</td>\n",
       "      <td>0.999952</td>\n",
       "    </tr>\n",
       "    <tr>\n",
       "      <th>difference_conversion_ca</th>\n",
       "      <td>3.065332e-03</td>\n",
       "      <td>0.000789</td>\n",
       "      <td>4.967488e-06</td>\n",
       "      <td>0.001522</td>\n",
       "      <td>0.004614</td>\n",
       "      <td>21910.981966</td>\n",
       "      <td>0.999951</td>\n",
       "    </tr>\n",
       "    <tr>\n",
       "      <th>loss_cr_a</th>\n",
       "      <td>3.066045e-03</td>\n",
       "      <td>0.000788</td>\n",
       "      <td>4.974312e-06</td>\n",
       "      <td>0.001524</td>\n",
       "      <td>0.004612</td>\n",
       "      <td>21955.188988</td>\n",
       "      <td>0.999951</td>\n",
       "    </tr>\n",
       "    <tr>\n",
       "      <th>loss_cr_b</th>\n",
       "      <td>2.193829e-03</td>\n",
       "      <td>0.000798</td>\n",
       "      <td>4.575744e-06</td>\n",
       "      <td>0.000671</td>\n",
       "      <td>0.003806</td>\n",
       "      <td>22978.560864</td>\n",
       "      <td>0.999957</td>\n",
       "    </tr>\n",
       "    <tr>\n",
       "      <th>loss_cr_c</th>\n",
       "      <td>7.123350e-07</td>\n",
       "      <td>0.000019</td>\n",
       "      <td>1.416845e-07</td>\n",
       "      <td>0.000000</td>\n",
       "      <td>0.000000</td>\n",
       "      <td>19419.202125</td>\n",
       "      <td>0.999954</td>\n",
       "    </tr>\n",
       "  </tbody>\n",
       "</table>\n",
       "</div>"
      ],
      "text/plain": [
       "                                  mean        sd  ...         n_eff      Rhat\n",
       "difference_conversion_ba  8.722153e-04  0.000793  ...  23558.347685  0.999952\n",
       "difference_conversion_ca  3.065332e-03  0.000789  ...  21910.981966  0.999951\n",
       "loss_cr_a                 3.066045e-03  0.000788  ...  21955.188988  0.999951\n",
       "loss_cr_b                 2.193829e-03  0.000798  ...  22978.560864  0.999957\n",
       "loss_cr_c                 7.123350e-07  0.000019  ...  19419.202125  0.999954\n",
       "\n",
       "[5 rows x 7 columns]"
      ]
     },
     "execution_count": 39,
     "metadata": {
      "tags": []
     },
     "output_type": "execute_result"
    }
   ],
   "source": [
    "sm_cr"
   ]
  },
  {
   "cell_type": "markdown",
   "metadata": {
    "colab_type": "text",
    "id": "POS37DnDpWQw"
   },
   "source": [
    "### # arpu_revenue 관점"
   ]
  },
  {
   "cell_type": "code",
   "execution_count": 0,
   "metadata": {
    "colab": {},
    "colab_type": "code",
    "id": "t18RUAA5bnkd"
   },
   "outputs": [],
   "source": [
    "sm_arpu = pm.summary(trace, varnames=['difference_arpu_ba','difference_arpu_ca', 'loss_arpu_a', 'loss_arpu_b', 'loss_arpu_c'])"
   ]
  },
  {
   "cell_type": "code",
   "execution_count": 0,
   "metadata": {
    "colab": {
     "base_uri": "https://localhost:8080/",
     "height": 204
    },
    "colab_type": "code",
    "id": "jXFzQT9ubnkh",
    "outputId": "13bfc9fb-565c-4b85-d96c-5ceee25cc600"
   },
   "outputs": [
    {
     "data": {
      "text/html": [
       "<div>\n",
       "<style scoped>\n",
       "    .dataframe tbody tr th:only-of-type {\n",
       "        vertical-align: middle;\n",
       "    }\n",
       "\n",
       "    .dataframe tbody tr th {\n",
       "        vertical-align: top;\n",
       "    }\n",
       "\n",
       "    .dataframe thead th {\n",
       "        text-align: right;\n",
       "    }\n",
       "</style>\n",
       "<table border=\"1\" class=\"dataframe\">\n",
       "  <thead>\n",
       "    <tr style=\"text-align: right;\">\n",
       "      <th></th>\n",
       "      <th>mean</th>\n",
       "      <th>sd</th>\n",
       "      <th>mc_error</th>\n",
       "      <th>hpd_2.5</th>\n",
       "      <th>hpd_97.5</th>\n",
       "      <th>n_eff</th>\n",
       "      <th>Rhat</th>\n",
       "    </tr>\n",
       "  </thead>\n",
       "  <tbody>\n",
       "    <tr>\n",
       "      <th>difference_arpu_ba</th>\n",
       "      <td>145.964293</td>\n",
       "      <td>69.114445</td>\n",
       "      <td>0.436859</td>\n",
       "      <td>9.672981</td>\n",
       "      <td>280.615309</td>\n",
       "      <td>21871.725265</td>\n",
       "      <td>0.999977</td>\n",
       "    </tr>\n",
       "    <tr>\n",
       "      <th>difference_arpu_ca</th>\n",
       "      <td>11.278777</td>\n",
       "      <td>67.649625</td>\n",
       "      <td>0.447582</td>\n",
       "      <td>-118.779709</td>\n",
       "      <td>145.177536</td>\n",
       "      <td>21850.037825</td>\n",
       "      <td>0.999961</td>\n",
       "    </tr>\n",
       "    <tr>\n",
       "      <th>loss_arpu_a</th>\n",
       "      <td>147.047046</td>\n",
       "      <td>67.517703</td>\n",
       "      <td>0.425754</td>\n",
       "      <td>0.000000</td>\n",
       "      <td>259.439439</td>\n",
       "      <td>21995.352517</td>\n",
       "      <td>0.999968</td>\n",
       "    </tr>\n",
       "    <tr>\n",
       "      <th>loss_arpu_b</th>\n",
       "      <td>1.082753</td>\n",
       "      <td>7.296116</td>\n",
       "      <td>0.057718</td>\n",
       "      <td>0.000000</td>\n",
       "      <td>0.000000</td>\n",
       "      <td>15015.070995</td>\n",
       "      <td>1.000058</td>\n",
       "    </tr>\n",
       "    <tr>\n",
       "      <th>loss_arpu_c</th>\n",
       "      <td>135.768270</td>\n",
       "      <td>67.937663</td>\n",
       "      <td>0.436857</td>\n",
       "      <td>0.000000</td>\n",
       "      <td>249.100193</td>\n",
       "      <td>22628.991225</td>\n",
       "      <td>0.999951</td>\n",
       "    </tr>\n",
       "  </tbody>\n",
       "</table>\n",
       "</div>"
      ],
      "text/plain": [
       "                          mean         sd  ...         n_eff      Rhat\n",
       "difference_arpu_ba  145.964293  69.114445  ...  21871.725265  0.999977\n",
       "difference_arpu_ca   11.278777  67.649625  ...  21850.037825  0.999961\n",
       "loss_arpu_a         147.047046  67.517703  ...  21995.352517  0.999968\n",
       "loss_arpu_b           1.082753   7.296116  ...  15015.070995  1.000058\n",
       "loss_arpu_c         135.768270  67.937663  ...  22628.991225  0.999951\n",
       "\n",
       "[5 rows x 7 columns]"
      ]
     },
     "execution_count": 41,
     "metadata": {
      "tags": []
     },
     "output_type": "execute_result"
    }
   ],
   "source": [
    "sm_arpu"
   ]
  },
  {
   "cell_type": "markdown",
   "metadata": {
    "colab_type": "text",
    "id": "u0yx9w2dpc8z"
   },
   "source": [
    "### # arpu_cm 관점"
   ]
  },
  {
   "cell_type": "code",
   "execution_count": 0,
   "metadata": {
    "colab": {},
    "colab_type": "code",
    "id": "eFAY_SQKpcLr"
   },
   "outputs": [],
   "source": [
    "sm_arpu_cm = pm.summary(trace, varnames=['difference_arpu_ba_cm','difference_arpu_ca_cm', 'loss_arpu_a_cm', 'loss_arpu_b_cm', 'loss_arpu_c_cm'])"
   ]
  },
  {
   "cell_type": "code",
   "execution_count": 0,
   "metadata": {
    "colab": {
     "base_uri": "https://localhost:8080/",
     "height": 204
    },
    "colab_type": "code",
    "id": "n4jHCFY-pbzI",
    "outputId": "74a9c6e3-ba1b-4642-b50e-5fac9ac6f9d8"
   },
   "outputs": [
    {
     "data": {
      "text/html": [
       "<div>\n",
       "<style scoped>\n",
       "    .dataframe tbody tr th:only-of-type {\n",
       "        vertical-align: middle;\n",
       "    }\n",
       "\n",
       "    .dataframe tbody tr th {\n",
       "        vertical-align: top;\n",
       "    }\n",
       "\n",
       "    .dataframe thead th {\n",
       "        text-align: right;\n",
       "    }\n",
       "</style>\n",
       "<table border=\"1\" class=\"dataframe\">\n",
       "  <thead>\n",
       "    <tr style=\"text-align: right;\">\n",
       "      <th></th>\n",
       "      <th>mean</th>\n",
       "      <th>sd</th>\n",
       "      <th>mc_error</th>\n",
       "      <th>hpd_2.5</th>\n",
       "      <th>hpd_97.5</th>\n",
       "      <th>n_eff</th>\n",
       "      <th>Rhat</th>\n",
       "    </tr>\n",
       "  </thead>\n",
       "  <tbody>\n",
       "    <tr>\n",
       "      <th>difference_arpu_ba_cm</th>\n",
       "      <td>4.179587</td>\n",
       "      <td>1.717752</td>\n",
       "      <td>0.010945</td>\n",
       "      <td>0.630715</td>\n",
       "      <td>7.366233</td>\n",
       "      <td>20468.395970</td>\n",
       "      <td>0.999995</td>\n",
       "    </tr>\n",
       "    <tr>\n",
       "      <th>difference_arpu_ca_cm</th>\n",
       "      <td>1.992296</td>\n",
       "      <td>1.706537</td>\n",
       "      <td>0.011134</td>\n",
       "      <td>-1.390755</td>\n",
       "      <td>5.296465</td>\n",
       "      <td>20548.939090</td>\n",
       "      <td>0.999995</td>\n",
       "    </tr>\n",
       "    <tr>\n",
       "      <th>loss_arpu_a_cm</th>\n",
       "      <td>4.269445</td>\n",
       "      <td>1.648723</td>\n",
       "      <td>0.010775</td>\n",
       "      <td>0.977701</td>\n",
       "      <td>7.471819</td>\n",
       "      <td>19849.833096</td>\n",
       "      <td>1.000008</td>\n",
       "    </tr>\n",
       "    <tr>\n",
       "      <th>loss_arpu_b_cm</th>\n",
       "      <td>0.089858</td>\n",
       "      <td>0.344164</td>\n",
       "      <td>0.002974</td>\n",
       "      <td>0.000000</td>\n",
       "      <td>0.718100</td>\n",
       "      <td>16082.730009</td>\n",
       "      <td>0.999958</td>\n",
       "    </tr>\n",
       "    <tr>\n",
       "      <th>loss_arpu_c_cm</th>\n",
       "      <td>2.277149</td>\n",
       "      <td>1.592766</td>\n",
       "      <td>0.010144</td>\n",
       "      <td>0.000000</td>\n",
       "      <td>5.080173</td>\n",
       "      <td>21665.102912</td>\n",
       "      <td>0.999950</td>\n",
       "    </tr>\n",
       "  </tbody>\n",
       "</table>\n",
       "</div>"
      ],
      "text/plain": [
       "                           mean        sd  ...         n_eff      Rhat\n",
       "difference_arpu_ba_cm  4.179587  1.717752  ...  20468.395970  0.999995\n",
       "difference_arpu_ca_cm  1.992296  1.706537  ...  20548.939090  0.999995\n",
       "loss_arpu_a_cm         4.269445  1.648723  ...  19849.833096  1.000008\n",
       "loss_arpu_b_cm         0.089858  0.344164  ...  16082.730009  0.999958\n",
       "loss_arpu_c_cm         2.277149  1.592766  ...  21665.102912  0.999950\n",
       "\n",
       "[5 rows x 7 columns]"
      ]
     },
     "execution_count": 43,
     "metadata": {
      "tags": []
     },
     "output_type": "execute_result"
    }
   ],
   "source": [
    "sm_arpu_cm"
   ]
  },
  {
   "cell_type": "markdown",
   "metadata": {
    "colab_type": "text",
    "id": "kWUs4wcihw7B"
   },
   "source": [
    "\n",
    "\n",
    "---\n",
    "\n"
   ]
  },
  {
   "cell_type": "code",
   "execution_count": 0,
   "metadata": {
    "colab": {},
    "colab_type": "code",
    "id": "va6PjkC2bnki"
   },
   "outputs": [],
   "source": [
    "sm_stat = pm.summary(trace, varnames=['cr_a', 'cr_b', 'cr_c', 'arpu_a', 'arpu_b', 'arpu_c', 'arpu_a_cm', 'arpu_b_cm', 'arpu_c_cm'])"
   ]
  },
  {
   "cell_type": "code",
   "execution_count": 0,
   "metadata": {
    "colab": {
     "base_uri": "https://localhost:8080/",
     "height": 328
    },
    "colab_type": "code",
    "id": "0LBNWW0nbnkk",
    "outputId": "2c224109-0f7a-4198-edc4-2197fc59e9ad"
   },
   "outputs": [
    {
     "data": {
      "text/html": [
       "<div>\n",
       "<style scoped>\n",
       "    .dataframe tbody tr th:only-of-type {\n",
       "        vertical-align: middle;\n",
       "    }\n",
       "\n",
       "    .dataframe tbody tr th {\n",
       "        vertical-align: top;\n",
       "    }\n",
       "\n",
       "    .dataframe thead th {\n",
       "        text-align: right;\n",
       "    }\n",
       "</style>\n",
       "<table border=\"1\" class=\"dataframe\">\n",
       "  <thead>\n",
       "    <tr style=\"text-align: right;\">\n",
       "      <th></th>\n",
       "      <th>mean</th>\n",
       "      <th>sd</th>\n",
       "      <th>mc_error</th>\n",
       "      <th>hpd_2.5</th>\n",
       "      <th>hpd_97.5</th>\n",
       "      <th>n_eff</th>\n",
       "      <th>Rhat</th>\n",
       "    </tr>\n",
       "  </thead>\n",
       "  <tbody>\n",
       "    <tr>\n",
       "      <th>cr_a</th>\n",
       "      <td>0.127510</td>\n",
       "      <td>0.000554</td>\n",
       "      <td>0.000004</td>\n",
       "      <td>0.126402</td>\n",
       "      <td>0.128566</td>\n",
       "      <td>23467.830699</td>\n",
       "      <td>1.000005</td>\n",
       "    </tr>\n",
       "    <tr>\n",
       "      <th>cr_b</th>\n",
       "      <td>0.128382</td>\n",
       "      <td>0.000566</td>\n",
       "      <td>0.000003</td>\n",
       "      <td>0.127287</td>\n",
       "      <td>0.129508</td>\n",
       "      <td>24348.594948</td>\n",
       "      <td>1.000039</td>\n",
       "    </tr>\n",
       "    <tr>\n",
       "      <th>cr_c</th>\n",
       "      <td>0.130575</td>\n",
       "      <td>0.000569</td>\n",
       "      <td>0.000004</td>\n",
       "      <td>0.129478</td>\n",
       "      <td>0.131692</td>\n",
       "      <td>21052.709558</td>\n",
       "      <td>0.999983</td>\n",
       "    </tr>\n",
       "    <tr>\n",
       "      <th>arpu_a</th>\n",
       "      <td>7478.471752</td>\n",
       "      <td>47.626009</td>\n",
       "      <td>0.290524</td>\n",
       "      <td>7384.937866</td>\n",
       "      <td>7571.201720</td>\n",
       "      <td>21992.121885</td>\n",
       "      <td>0.999951</td>\n",
       "    </tr>\n",
       "    <tr>\n",
       "      <th>arpu_b</th>\n",
       "      <td>7624.436045</td>\n",
       "      <td>49.706274</td>\n",
       "      <td>0.343777</td>\n",
       "      <td>7527.920390</td>\n",
       "      <td>7722.792575</td>\n",
       "      <td>22538.371460</td>\n",
       "      <td>0.999989</td>\n",
       "    </tr>\n",
       "    <tr>\n",
       "      <th>arpu_c</th>\n",
       "      <td>7489.750529</td>\n",
       "      <td>48.262003</td>\n",
       "      <td>0.326671</td>\n",
       "      <td>7395.360290</td>\n",
       "      <td>7584.071808</td>\n",
       "      <td>21997.408762</td>\n",
       "      <td>0.999963</td>\n",
       "    </tr>\n",
       "    <tr>\n",
       "      <th>arpu_a_cm</th>\n",
       "      <td>186.591199</td>\n",
       "      <td>1.185850</td>\n",
       "      <td>0.008168</td>\n",
       "      <td>184.240998</td>\n",
       "      <td>188.890651</td>\n",
       "      <td>19394.924161</td>\n",
       "      <td>1.000002</td>\n",
       "    </tr>\n",
       "    <tr>\n",
       "      <th>arpu_b_cm</th>\n",
       "      <td>190.770786</td>\n",
       "      <td>1.233461</td>\n",
       "      <td>0.008050</td>\n",
       "      <td>188.372916</td>\n",
       "      <td>193.181929</td>\n",
       "      <td>23547.499190</td>\n",
       "      <td>0.999956</td>\n",
       "    </tr>\n",
       "    <tr>\n",
       "      <th>arpu_c_cm</th>\n",
       "      <td>188.583495</td>\n",
       "      <td>1.214232</td>\n",
       "      <td>0.007664</td>\n",
       "      <td>186.226494</td>\n",
       "      <td>191.002464</td>\n",
       "      <td>20905.462681</td>\n",
       "      <td>0.999956</td>\n",
       "    </tr>\n",
       "  </tbody>\n",
       "</table>\n",
       "</div>"
      ],
      "text/plain": [
       "                  mean         sd  ...         n_eff      Rhat\n",
       "cr_a          0.127510   0.000554  ...  23467.830699  1.000005\n",
       "cr_b          0.128382   0.000566  ...  24348.594948  1.000039\n",
       "cr_c          0.130575   0.000569  ...  21052.709558  0.999983\n",
       "arpu_a     7478.471752  47.626009  ...  21992.121885  0.999951\n",
       "arpu_b     7624.436045  49.706274  ...  22538.371460  0.999989\n",
       "arpu_c     7489.750529  48.262003  ...  21997.408762  0.999963\n",
       "arpu_a_cm   186.591199   1.185850  ...  19394.924161  1.000002\n",
       "arpu_b_cm   190.770786   1.233461  ...  23547.499190  0.999956\n",
       "arpu_c_cm   188.583495   1.214232  ...  20905.462681  0.999956\n",
       "\n",
       "[9 rows x 7 columns]"
      ]
     },
     "execution_count": 45,
     "metadata": {
      "tags": []
     },
     "output_type": "execute_result"
    }
   ],
   "source": [
    "sm_stat"
   ]
  },
  {
   "cell_type": "code",
   "execution_count": 0,
   "metadata": {
    "colab": {
     "base_uri": "https://localhost:8080/",
     "height": 34
    },
    "colab_type": "code",
    "id": "QS80H4bWbnkm",
    "outputId": "24c0ce2b-46ce-4956-e913-da3dc685af26"
   },
   "outputs": [
    {
     "data": {
      "text/plain": [
       "(0.863, 0.99995)"
      ]
     },
     "execution_count": 47,
     "metadata": {
      "tags": []
     },
     "output_type": "execute_result"
    }
   ],
   "source": [
    "np.mean(trace['difference_conversion_ba']>0), np.mean(trace['difference_conversion_ca']>0)"
   ]
  },
  {
   "cell_type": "code",
   "execution_count": 0,
   "metadata": {
    "colab": {
     "base_uri": "https://localhost:8080/",
     "height": 34
    },
    "colab_type": "code",
    "id": "KQRpFouKqMlN",
    "outputId": "4576e4b1-4504-4081-869b-e551cefb76b8"
   },
   "outputs": [
    {
     "data": {
      "text/plain": [
       "(0.98295, 0.563)"
      ]
     },
     "execution_count": 48,
     "metadata": {
      "tags": []
     },
     "output_type": "execute_result"
    }
   ],
   "source": [
    "np.mean(trace['difference_arpu_ba']>0), np.mean(trace['difference_arpu_ca']>0)"
   ]
  },
  {
   "cell_type": "code",
   "execution_count": 0,
   "metadata": {
    "colab": {
     "base_uri": "https://localhost:8080/",
     "height": 34
    },
    "colab_type": "code",
    "id": "OdNcEVk6qPlI",
    "outputId": "0d9870b6-4f98-4328-9120-01a063714f3a"
   },
   "outputs": [
    {
     "data": {
      "text/plain": [
       "(0.99125, 0.8805)"
      ]
     },
     "execution_count": 49,
     "metadata": {
      "tags": []
     },
     "output_type": "execute_result"
    }
   ],
   "source": [
    "np.mean(trace['difference_arpu_ba_cm']>0), np.mean(trace['difference_arpu_ca_cm']>0)"
   ]
  },
  {
   "cell_type": "markdown",
   "metadata": {
    "colab_type": "text",
    "id": "Q2llClfBN6Oi"
   },
   "source": [
    "## 결과를 csv로 저장"
   ]
  },
  {
   "cell_type": "code",
   "execution_count": 0,
   "metadata": {
    "colab": {},
    "colab_type": "code",
    "id": "nUjcuX5QJLOw"
   },
   "outputs": [],
   "source": [
    "# pd.DataFrame(\n",
    "# {'A':[n1, sm2['mean']['cr_a'], sm2['mean']['arpu_a'], sm2['hpd_2.5']['arpu_a'],sm2['hpd_97.5']['arpu_a']],\n",
    "#  'B':[n2, sm2['mean']['cr_b'], sm2['mean']['arpu_b'], sm2['hpd_2.5']['arpu_b'],sm2['hpd_97.5']['arpu_b']],\n",
    "#  'diff':[0, sm1['mean']['difference_conversion'], sm1['mean']['difference_arpu'], sm1['hpd_2.5']['difference_arpu'],sm1['hpd_97.5']['difference_arpu']],\n",
    "# },\n",
    "# index=['sample size', 'cr', 'arpu', 'hpd2.5', 'hpd97.5']\n",
    "# ).to_csv('gdrive/My Drive/data/ab_search/stat_'+name_suffix)"
   ]
  },
  {
   "cell_type": "code",
   "execution_count": 0,
   "metadata": {
    "colab": {},
    "colab_type": "code",
    "id": "e0V66pL6SCXX"
   },
   "outputs": [],
   "source": [
    "# pd.DataFrame(\n",
    "# {\n",
    "# 'conversion': [np.mean(trace['difference_conversion']>0), sm1['mean']['uplift_cr'], sm1['mean']['loss_cr']],\n",
    "# 'arpu': [np.mean(trace['difference_arpu']>0), sm1['mean']['uplift_arpu'], sm1['mean']['loss_arpu']],\n",
    "# },\n",
    "# index=['probBgtA','uplift', 'loss']\n",
    "# ).to_csv('gdrive/My Drive/data/ab_search/decision_'+name_suffix)"
   ]
  },
  {
   "cell_type": "code",
   "execution_count": 0,
   "metadata": {
    "colab": {},
    "colab_type": "code",
    "id": "Asdr7_X0T21R"
   },
   "outputs": [],
   "source": []
  }
 ],
 "metadata": {
  "colab": {
   "collapsed_sections": [],
   "name": "2차_0625데이터_Bayesian AB testing for (A,B,C)_",
   "provenance": []
  },
  "kernelspec": {
   "display_name": "Python 3",
   "language": "python",
   "name": "python3"
  },
  "language_info": {
   "codemirror_mode": {
    "name": "ipython",
    "version": 3
   },
   "file_extension": ".py",
   "mimetype": "text/x-python",
   "name": "python",
   "nbconvert_exporter": "python",
   "pygments_lexer": "ipython3",
   "version": "3.6.5"
  }
 },
 "nbformat": 4,
 "nbformat_minor": 1
}
